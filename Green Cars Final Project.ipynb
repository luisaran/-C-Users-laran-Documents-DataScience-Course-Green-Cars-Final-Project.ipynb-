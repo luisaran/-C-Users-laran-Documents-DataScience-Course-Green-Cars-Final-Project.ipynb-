{
 "cells": [
  {
   "cell_type": "code",
   "execution_count": 153,
   "id": "48103ec5",
   "metadata": {},
   "outputs": [],
   "source": [
    "## Green Cars- Data Science Course Final Project"
   ]
  },
  {
   "cell_type": "markdown",
   "id": "be6a1769",
   "metadata": {},
   "source": [
    "## Load Packages"
   ]
  },
  {
   "cell_type": "code",
   "execution_count": 286,
   "id": "f5ca5b39",
   "metadata": {},
   "outputs": [],
   "source": [
    "library(\"dplyr\")\n",
    "library(\"tidyr\")\n",
    "library(\"readxl\")\n",
    "library('ggplot2')\n",
    "library(\"mvnormtest\")\n",
    "library(\"car\")\n",
    "library(\"IDPmisc\")"
   ]
  },
  {
   "cell_type": "markdown",
   "id": "5e094c01",
   "metadata": {},
   "source": [
    "## Load Data Set"
   ]
  },
  {
   "cell_type": "code",
   "execution_count": 287,
   "id": "e3e6a1e3",
   "metadata": {},
   "outputs": [],
   "source": [
    "Green_cars= read.csv(\"C:/Users/laran/Documents/DataScience Course/Electric_Vehicle_Population_Data.csv\")"
   ]
  },
  {
   "cell_type": "code",
   "execution_count": 288,
   "id": "93b515a8",
   "metadata": {},
   "outputs": [
    {
     "data": {
      "text/html": [
       "<table class=\"dataframe\">\n",
       "<caption>A data.frame: 6 × 19</caption>\n",
       "<thead>\n",
       "\t<tr><th></th><th scope=col>VIN..1.10.</th><th scope=col>County</th><th scope=col>City</th><th scope=col>State</th><th scope=col>Postal.Code</th><th scope=col>Model.Year</th><th scope=col>Make</th><th scope=col>Model</th><th scope=col>Electric.Vehicle.Type</th><th scope=col>Clean.Alternative.Fuel.Vehicle..CAFV..Eligibility</th><th scope=col>Electric.Range</th><th scope=col>Base.MSRP</th><th scope=col>Legislative.District</th><th scope=col>DOL.Vehicle.ID</th><th scope=col>Vehicle.Location</th><th scope=col>Electric.Utility</th><th scope=col>X2020.Census.Tract</th><th scope=col>X</th><th scope=col>X.1</th></tr>\n",
       "\t<tr><th></th><th scope=col>&lt;chr&gt;</th><th scope=col>&lt;chr&gt;</th><th scope=col>&lt;chr&gt;</th><th scope=col>&lt;chr&gt;</th><th scope=col>&lt;int&gt;</th><th scope=col>&lt;int&gt;</th><th scope=col>&lt;chr&gt;</th><th scope=col>&lt;chr&gt;</th><th scope=col>&lt;chr&gt;</th><th scope=col>&lt;chr&gt;</th><th scope=col>&lt;int&gt;</th><th scope=col>&lt;int&gt;</th><th scope=col>&lt;int&gt;</th><th scope=col>&lt;int&gt;</th><th scope=col>&lt;chr&gt;</th><th scope=col>&lt;chr&gt;</th><th scope=col>&lt;dbl&gt;</th><th scope=col>&lt;lgl&gt;</th><th scope=col>&lt;int&gt;</th></tr>\n",
       "</thead>\n",
       "<tbody>\n",
       "\t<tr><th scope=row>1</th><td>WP0AB2Y13M</td><td>Thurston </td><td>Olympia     </td><td>WA</td><td>98513</td><td>2021</td><td>PORSCHE  </td><td>TAYCAN     </td><td>Battery Electric Vehicle (BEV)        </td><td>Clean Alternative Fuel Vehicle Eligible</td><td>203</td><td>0</td><td> 2</td><td>156659646</td><td>POINT (-122.751179 47.002092)</td><td>PUGET SOUND ENERGY INC  </td><td>53067012331</td><td>NA</td><td>    NA</td></tr>\n",
       "\t<tr><th scope=row>2</th><td>1N4BZ1CP0K</td><td>Grant    </td><td>Quincy      </td><td>WA</td><td>98848</td><td>2019</td><td>NISSAN   </td><td>LEAF       </td><td>Battery Electric Vehicle (BEV)        </td><td>Clean Alternative Fuel Vehicle Eligible</td><td>150</td><td>0</td><td>12</td><td>157077469</td><td>POINT (-119.830891 47.164101)</td><td>PUD NO 2 OF GRANT COUNTY</td><td>53025011200</td><td>NA</td><td>    NA</td></tr>\n",
       "\t<tr><th scope=row>3</th><td>1G1FX6S06J</td><td>Skagit   </td><td>Mount Vernon</td><td>WA</td><td>98274</td><td>2018</td><td>CHEVROLET</td><td>BOLT EV    </td><td>Battery Electric Vehicle (BEV)        </td><td>Clean Alternative Fuel Vehicle Eligible</td><td>238</td><td>0</td><td>10</td><td>250701013</td><td>POINT (-122.250701 48.368138)</td><td>PUGET SOUND ENERGY INC  </td><td>53057952700</td><td>NA</td><td>    NA</td></tr>\n",
       "\t<tr><th scope=row>4</th><td>JTDKAMFP3M</td><td>Yakima   </td><td>Yakima      </td><td>WA</td><td>98902</td><td>2021</td><td>TOYOTA   </td><td>PRIUS PRIME</td><td>Plug-in Hybrid Electric Vehicle (PHEV)</td><td>Not eligible due to low battery range  </td><td> 25</td><td>0</td><td>14</td><td>156585922</td><td>POINT (-120.532719 46.59458) </td><td>                        </td><td>53077001000</td><td>NA</td><td>    NA</td></tr>\n",
       "\t<tr><th scope=row>5</th><td>1N4AZ1CP4L</td><td>Snohomish</td><td>Everett     </td><td>WA</td><td>98208</td><td>2020</td><td>NISSAN   </td><td>LEAF       </td><td>Battery Electric Vehicle (BEV)        </td><td>Clean Alternative Fuel Vehicle Eligible</td><td>149</td><td>0</td><td>44</td><td>128498779</td><td>POINT (-122.19615 47.894423) </td><td>PUGET SOUND ENERGY INC  </td><td>53061052120</td><td>NA</td><td>100269</td></tr>\n",
       "\t<tr><th scope=row>6</th><td>5YJSA1S2XF</td><td>Grant    </td><td>Moses Lake  </td><td>WA</td><td>98837</td><td>2015</td><td>TESLA    </td><td>MODEL S    </td><td>Battery Electric Vehicle (BEV)        </td><td>Clean Alternative Fuel Vehicle Eligible</td><td>208</td><td>0</td><td>13</td><td>132461094</td><td>POINT (-119.280576 47.149471)</td><td>PUD NO 2 OF GRANT COUNTY</td><td>53025011002</td><td>NA</td><td>    NA</td></tr>\n",
       "</tbody>\n",
       "</table>\n"
      ],
      "text/latex": [
       "A data.frame: 6 × 19\n",
       "\\begin{tabular}{r|lllllllllllllllllll}\n",
       "  & VIN..1.10. & County & City & State & Postal.Code & Model.Year & Make & Model & Electric.Vehicle.Type & Clean.Alternative.Fuel.Vehicle..CAFV..Eligibility & Electric.Range & Base.MSRP & Legislative.District & DOL.Vehicle.ID & Vehicle.Location & Electric.Utility & X2020.Census.Tract & X & X.1\\\\\n",
       "  & <chr> & <chr> & <chr> & <chr> & <int> & <int> & <chr> & <chr> & <chr> & <chr> & <int> & <int> & <int> & <int> & <chr> & <chr> & <dbl> & <lgl> & <int>\\\\\n",
       "\\hline\n",
       "\t1 & WP0AB2Y13M & Thurston  & Olympia      & WA & 98513 & 2021 & PORSCHE   & TAYCAN      & Battery Electric Vehicle (BEV)         & Clean Alternative Fuel Vehicle Eligible & 203 & 0 &  2 & 156659646 & POINT (-122.751179 47.002092) & PUGET SOUND ENERGY INC   & 53067012331 & NA &     NA\\\\\n",
       "\t2 & 1N4BZ1CP0K & Grant     & Quincy       & WA & 98848 & 2019 & NISSAN    & LEAF        & Battery Electric Vehicle (BEV)         & Clean Alternative Fuel Vehicle Eligible & 150 & 0 & 12 & 157077469 & POINT (-119.830891 47.164101) & PUD NO 2 OF GRANT COUNTY & 53025011200 & NA &     NA\\\\\n",
       "\t3 & 1G1FX6S06J & Skagit    & Mount Vernon & WA & 98274 & 2018 & CHEVROLET & BOLT EV     & Battery Electric Vehicle (BEV)         & Clean Alternative Fuel Vehicle Eligible & 238 & 0 & 10 & 250701013 & POINT (-122.250701 48.368138) & PUGET SOUND ENERGY INC   & 53057952700 & NA &     NA\\\\\n",
       "\t4 & JTDKAMFP3M & Yakima    & Yakima       & WA & 98902 & 2021 & TOYOTA    & PRIUS PRIME & Plug-in Hybrid Electric Vehicle (PHEV) & Not eligible due to low battery range   &  25 & 0 & 14 & 156585922 & POINT (-120.532719 46.59458)  &                          & 53077001000 & NA &     NA\\\\\n",
       "\t5 & 1N4AZ1CP4L & Snohomish & Everett      & WA & 98208 & 2020 & NISSAN    & LEAF        & Battery Electric Vehicle (BEV)         & Clean Alternative Fuel Vehicle Eligible & 149 & 0 & 44 & 128498779 & POINT (-122.19615 47.894423)  & PUGET SOUND ENERGY INC   & 53061052120 & NA & 100269\\\\\n",
       "\t6 & 5YJSA1S2XF & Grant     & Moses Lake   & WA & 98837 & 2015 & TESLA     & MODEL S     & Battery Electric Vehicle (BEV)         & Clean Alternative Fuel Vehicle Eligible & 208 & 0 & 13 & 132461094 & POINT (-119.280576 47.149471) & PUD NO 2 OF GRANT COUNTY & 53025011002 & NA &     NA\\\\\n",
       "\\end{tabular}\n"
      ],
      "text/markdown": [
       "\n",
       "A data.frame: 6 × 19\n",
       "\n",
       "| <!--/--> | VIN..1.10. &lt;chr&gt; | County &lt;chr&gt; | City &lt;chr&gt; | State &lt;chr&gt; | Postal.Code &lt;int&gt; | Model.Year &lt;int&gt; | Make &lt;chr&gt; | Model &lt;chr&gt; | Electric.Vehicle.Type &lt;chr&gt; | Clean.Alternative.Fuel.Vehicle..CAFV..Eligibility &lt;chr&gt; | Electric.Range &lt;int&gt; | Base.MSRP &lt;int&gt; | Legislative.District &lt;int&gt; | DOL.Vehicle.ID &lt;int&gt; | Vehicle.Location &lt;chr&gt; | Electric.Utility &lt;chr&gt; | X2020.Census.Tract &lt;dbl&gt; | X &lt;lgl&gt; | X.1 &lt;int&gt; |\n",
       "|---|---|---|---|---|---|---|---|---|---|---|---|---|---|---|---|---|---|---|---|\n",
       "| 1 | WP0AB2Y13M | Thurston  | Olympia      | WA | 98513 | 2021 | PORSCHE   | TAYCAN      | Battery Electric Vehicle (BEV)         | Clean Alternative Fuel Vehicle Eligible | 203 | 0 |  2 | 156659646 | POINT (-122.751179 47.002092) | PUGET SOUND ENERGY INC   | 53067012331 | NA |     NA |\n",
       "| 2 | 1N4BZ1CP0K | Grant     | Quincy       | WA | 98848 | 2019 | NISSAN    | LEAF        | Battery Electric Vehicle (BEV)         | Clean Alternative Fuel Vehicle Eligible | 150 | 0 | 12 | 157077469 | POINT (-119.830891 47.164101) | PUD NO 2 OF GRANT COUNTY | 53025011200 | NA |     NA |\n",
       "| 3 | 1G1FX6S06J | Skagit    | Mount Vernon | WA | 98274 | 2018 | CHEVROLET | BOLT EV     | Battery Electric Vehicle (BEV)         | Clean Alternative Fuel Vehicle Eligible | 238 | 0 | 10 | 250701013 | POINT (-122.250701 48.368138) | PUGET SOUND ENERGY INC   | 53057952700 | NA |     NA |\n",
       "| 4 | JTDKAMFP3M | Yakima    | Yakima       | WA | 98902 | 2021 | TOYOTA    | PRIUS PRIME | Plug-in Hybrid Electric Vehicle (PHEV) | Not eligible due to low battery range   |  25 | 0 | 14 | 156585922 | POINT (-120.532719 46.59458)  | <!----> | 53077001000 | NA |     NA |\n",
       "| 5 | 1N4AZ1CP4L | Snohomish | Everett      | WA | 98208 | 2020 | NISSAN    | LEAF        | Battery Electric Vehicle (BEV)         | Clean Alternative Fuel Vehicle Eligible | 149 | 0 | 44 | 128498779 | POINT (-122.19615 47.894423)  | PUGET SOUND ENERGY INC   | 53061052120 | NA | 100269 |\n",
       "| 6 | 5YJSA1S2XF | Grant     | Moses Lake   | WA | 98837 | 2015 | TESLA     | MODEL S     | Battery Electric Vehicle (BEV)         | Clean Alternative Fuel Vehicle Eligible | 208 | 0 | 13 | 132461094 | POINT (-119.280576 47.149471) | PUD NO 2 OF GRANT COUNTY | 53025011002 | NA |     NA |\n",
       "\n"
      ],
      "text/plain": [
       "  VIN..1.10. County    City         State Postal.Code Model.Year Make     \n",
       "1 WP0AB2Y13M Thurston  Olympia      WA    98513       2021       PORSCHE  \n",
       "2 1N4BZ1CP0K Grant     Quincy       WA    98848       2019       NISSAN   \n",
       "3 1G1FX6S06J Skagit    Mount Vernon WA    98274       2018       CHEVROLET\n",
       "4 JTDKAMFP3M Yakima    Yakima       WA    98902       2021       TOYOTA   \n",
       "5 1N4AZ1CP4L Snohomish Everett      WA    98208       2020       NISSAN   \n",
       "6 5YJSA1S2XF Grant     Moses Lake   WA    98837       2015       TESLA    \n",
       "  Model       Electric.Vehicle.Type                 \n",
       "1 TAYCAN      Battery Electric Vehicle (BEV)        \n",
       "2 LEAF        Battery Electric Vehicle (BEV)        \n",
       "3 BOLT EV     Battery Electric Vehicle (BEV)        \n",
       "4 PRIUS PRIME Plug-in Hybrid Electric Vehicle (PHEV)\n",
       "5 LEAF        Battery Electric Vehicle (BEV)        \n",
       "6 MODEL S     Battery Electric Vehicle (BEV)        \n",
       "  Clean.Alternative.Fuel.Vehicle..CAFV..Eligibility Electric.Range Base.MSRP\n",
       "1 Clean Alternative Fuel Vehicle Eligible           203            0        \n",
       "2 Clean Alternative Fuel Vehicle Eligible           150            0        \n",
       "3 Clean Alternative Fuel Vehicle Eligible           238            0        \n",
       "4 Not eligible due to low battery range              25            0        \n",
       "5 Clean Alternative Fuel Vehicle Eligible           149            0        \n",
       "6 Clean Alternative Fuel Vehicle Eligible           208            0        \n",
       "  Legislative.District DOL.Vehicle.ID Vehicle.Location             \n",
       "1  2                   156659646      POINT (-122.751179 47.002092)\n",
       "2 12                   157077469      POINT (-119.830891 47.164101)\n",
       "3 10                   250701013      POINT (-122.250701 48.368138)\n",
       "4 14                   156585922      POINT (-120.532719 46.59458) \n",
       "5 44                   128498779      POINT (-122.19615 47.894423) \n",
       "6 13                   132461094      POINT (-119.280576 47.149471)\n",
       "  Electric.Utility         X2020.Census.Tract X  X.1   \n",
       "1 PUGET SOUND ENERGY INC   53067012331        NA     NA\n",
       "2 PUD NO 2 OF GRANT COUNTY 53025011200        NA     NA\n",
       "3 PUGET SOUND ENERGY INC   53057952700        NA     NA\n",
       "4                          53077001000        NA     NA\n",
       "5 PUGET SOUND ENERGY INC   53061052120        NA 100269\n",
       "6 PUD NO 2 OF GRANT COUNTY 53025011002        NA     NA"
      ]
     },
     "metadata": {},
     "output_type": "display_data"
    }
   ],
   "source": [
    "head(Green_cars)"
   ]
  },
  {
   "cell_type": "code",
   "execution_count": 289,
   "id": "93617fc7",
   "metadata": {},
   "outputs": [],
   "source": [
    "Green_cars1=filter(Green_cars,Electric.Range!=0)"
   ]
  },
  {
   "cell_type": "markdown",
   "id": "e584901b",
   "metadata": {},
   "source": [
    "## Subsetting Data"
   ]
  },
  {
   "cell_type": "markdown",
   "id": "3cd0c4d3",
   "metadata": {},
   "source": [
    "## Creating Subset to run Single Linear Regression"
   ]
  },
  {
   "cell_type": "code",
   "execution_count": 290,
   "id": "ee0f39b5",
   "metadata": {},
   "outputs": [],
   "source": [
    "Subset1=c(\"Model.Year\",\"DOL.Vehicle.ID\")\n",
    "Green_cars2=Green_cars[Subset1]"
   ]
  },
  {
   "cell_type": "code",
   "execution_count": 291,
   "id": "5eeb480c",
   "metadata": {},
   "outputs": [
    {
     "data": {
      "text/html": [
       "<table class=\"dataframe\">\n",
       "<caption>A data.frame: 6 × 2</caption>\n",
       "<thead>\n",
       "\t<tr><th></th><th scope=col>Model.Year</th><th scope=col>DOL.Vehicle.ID</th></tr>\n",
       "\t<tr><th></th><th scope=col>&lt;int&gt;</th><th scope=col>&lt;int&gt;</th></tr>\n",
       "</thead>\n",
       "<tbody>\n",
       "\t<tr><th scope=row>1</th><td>2021</td><td>156659646</td></tr>\n",
       "\t<tr><th scope=row>2</th><td>2019</td><td>157077469</td></tr>\n",
       "\t<tr><th scope=row>3</th><td>2018</td><td>250701013</td></tr>\n",
       "\t<tr><th scope=row>4</th><td>2021</td><td>156585922</td></tr>\n",
       "\t<tr><th scope=row>5</th><td>2020</td><td>128498779</td></tr>\n",
       "\t<tr><th scope=row>6</th><td>2015</td><td>132461094</td></tr>\n",
       "</tbody>\n",
       "</table>\n"
      ],
      "text/latex": [
       "A data.frame: 6 × 2\n",
       "\\begin{tabular}{r|ll}\n",
       "  & Model.Year & DOL.Vehicle.ID\\\\\n",
       "  & <int> & <int>\\\\\n",
       "\\hline\n",
       "\t1 & 2021 & 156659646\\\\\n",
       "\t2 & 2019 & 157077469\\\\\n",
       "\t3 & 2018 & 250701013\\\\\n",
       "\t4 & 2021 & 156585922\\\\\n",
       "\t5 & 2020 & 128498779\\\\\n",
       "\t6 & 2015 & 132461094\\\\\n",
       "\\end{tabular}\n"
      ],
      "text/markdown": [
       "\n",
       "A data.frame: 6 × 2\n",
       "\n",
       "| <!--/--> | Model.Year &lt;int&gt; | DOL.Vehicle.ID &lt;int&gt; |\n",
       "|---|---|---|\n",
       "| 1 | 2021 | 156659646 |\n",
       "| 2 | 2019 | 157077469 |\n",
       "| 3 | 2018 | 250701013 |\n",
       "| 4 | 2021 | 156585922 |\n",
       "| 5 | 2020 | 128498779 |\n",
       "| 6 | 2015 | 132461094 |\n",
       "\n"
      ],
      "text/plain": [
       "  Model.Year DOL.Vehicle.ID\n",
       "1 2021       156659646     \n",
       "2 2019       157077469     \n",
       "3 2018       250701013     \n",
       "4 2021       156585922     \n",
       "5 2020       128498779     \n",
       "6 2015       132461094     "
      ]
     },
     "metadata": {},
     "output_type": "display_data"
    }
   ],
   "source": [
    "head(Green_cars2)"
   ]
  },
  {
   "cell_type": "code",
   "execution_count": 292,
   "id": "1f221145",
   "metadata": {},
   "outputs": [],
   "source": [
    "Green_cars3=Green_cars2 %>% group_by(Model.Year) %>% summarize(Car_count = n())"
   ]
  },
  {
   "cell_type": "code",
   "execution_count": 293,
   "id": "c7703e62",
   "metadata": {},
   "outputs": [
    {
     "data": {
      "text/html": [
       "<table class=\"dataframe\">\n",
       "<caption>A tibble: 19 × 2</caption>\n",
       "<thead>\n",
       "\t<tr><th scope=col>Model.Year</th><th scope=col>Car_count</th></tr>\n",
       "\t<tr><th scope=col>&lt;int&gt;</th><th scope=col>&lt;int&gt;</th></tr>\n",
       "</thead>\n",
       "<tbody>\n",
       "\t<tr><td>1993</td><td>    1</td></tr>\n",
       "\t<tr><td>1998</td><td>    1</td></tr>\n",
       "\t<tr><td>1999</td><td>    3</td></tr>\n",
       "\t<tr><td>2000</td><td>   10</td></tr>\n",
       "\t<tr><td>2002</td><td>    2</td></tr>\n",
       "\t<tr><td>2008</td><td>   24</td></tr>\n",
       "\t<tr><td>2010</td><td>   25</td></tr>\n",
       "\t<tr><td>2011</td><td>  856</td></tr>\n",
       "\t<tr><td>2012</td><td> 1721</td></tr>\n",
       "\t<tr><td>2013</td><td> 4804</td></tr>\n",
       "\t<tr><td>2014</td><td> 3771</td></tr>\n",
       "\t<tr><td>2015</td><td> 5032</td></tr>\n",
       "\t<tr><td>2016</td><td> 6376</td></tr>\n",
       "\t<tr><td>2017</td><td> 9787</td></tr>\n",
       "\t<tr><td>2018</td><td>14270</td></tr>\n",
       "\t<tr><td>2019</td><td>10751</td></tr>\n",
       "\t<tr><td>2020</td><td>11178</td></tr>\n",
       "\t<tr><td>2021</td><td>19677</td></tr>\n",
       "\t<tr><td>2022</td><td>11980</td></tr>\n",
       "</tbody>\n",
       "</table>\n"
      ],
      "text/latex": [
       "A tibble: 19 × 2\n",
       "\\begin{tabular}{ll}\n",
       " Model.Year & Car\\_count\\\\\n",
       " <int> & <int>\\\\\n",
       "\\hline\n",
       "\t 1993 &     1\\\\\n",
       "\t 1998 &     1\\\\\n",
       "\t 1999 &     3\\\\\n",
       "\t 2000 &    10\\\\\n",
       "\t 2002 &     2\\\\\n",
       "\t 2008 &    24\\\\\n",
       "\t 2010 &    25\\\\\n",
       "\t 2011 &   856\\\\\n",
       "\t 2012 &  1721\\\\\n",
       "\t 2013 &  4804\\\\\n",
       "\t 2014 &  3771\\\\\n",
       "\t 2015 &  5032\\\\\n",
       "\t 2016 &  6376\\\\\n",
       "\t 2017 &  9787\\\\\n",
       "\t 2018 & 14270\\\\\n",
       "\t 2019 & 10751\\\\\n",
       "\t 2020 & 11178\\\\\n",
       "\t 2021 & 19677\\\\\n",
       "\t 2022 & 11980\\\\\n",
       "\\end{tabular}\n"
      ],
      "text/markdown": [
       "\n",
       "A tibble: 19 × 2\n",
       "\n",
       "| Model.Year &lt;int&gt; | Car_count &lt;int&gt; |\n",
       "|---|---|\n",
       "| 1993 |     1 |\n",
       "| 1998 |     1 |\n",
       "| 1999 |     3 |\n",
       "| 2000 |    10 |\n",
       "| 2002 |     2 |\n",
       "| 2008 |    24 |\n",
       "| 2010 |    25 |\n",
       "| 2011 |   856 |\n",
       "| 2012 |  1721 |\n",
       "| 2013 |  4804 |\n",
       "| 2014 |  3771 |\n",
       "| 2015 |  5032 |\n",
       "| 2016 |  6376 |\n",
       "| 2017 |  9787 |\n",
       "| 2018 | 14270 |\n",
       "| 2019 | 10751 |\n",
       "| 2020 | 11178 |\n",
       "| 2021 | 19677 |\n",
       "| 2022 | 11980 |\n",
       "\n"
      ],
      "text/plain": [
       "   Model.Year Car_count\n",
       "1  1993           1    \n",
       "2  1998           1    \n",
       "3  1999           3    \n",
       "4  2000          10    \n",
       "5  2002           2    \n",
       "6  2008          24    \n",
       "7  2010          25    \n",
       "8  2011         856    \n",
       "9  2012        1721    \n",
       "10 2013        4804    \n",
       "11 2014        3771    \n",
       "12 2015        5032    \n",
       "13 2016        6376    \n",
       "14 2017        9787    \n",
       "15 2018       14270    \n",
       "16 2019       10751    \n",
       "17 2020       11178    \n",
       "18 2021       19677    \n",
       "19 2022       11980    "
      ]
     },
     "metadata": {},
     "output_type": "display_data"
    }
   ],
   "source": [
    "View(Green_cars3)"
   ]
  },
  {
   "cell_type": "code",
   "execution_count": 294,
   "id": "06a67681",
   "metadata": {},
   "outputs": [
    {
     "name": "stderr",
     "output_type": "stream",
     "text": [
      "`geom_smooth()` using formula 'y ~ x'\n",
      "\n"
     ]
    },
    {
     "data": {
      "image/png": "[encoded data removed]",
      "text/plain": [
       "plot without title"
      ]
     },
     "metadata": {
      "image/png": {
       "height": 420,
       "width": 420
      }
     },
     "output_type": "display_data"
    }
   ],
   "source": [
    " ggplot(Green_cars3, aes(x = Model.Year, y = Car_count))+ geom_point()+ geom_smooth(method=lm)\n"
   ]
  },
  {
   "cell_type": "markdown",
   "id": "992cd483",
   "metadata": {},
   "source": [
    "## Correlation Test"
   ]
  },
  {
   "cell_type": "code",
   "execution_count": 295,
   "id": "609ac127",
   "metadata": {},
   "outputs": [
    {
     "data": {
      "text/plain": [
       "\n",
       "\tPearson's product-moment correlation\n",
       "\n",
       "data:  Green_cars3$Model.Year and Green_cars3$Car_count\n",
       "t = 5.57, df = 17, p-value = 3.386e-05\n",
       "alternative hypothesis: true correlation is not equal to 0\n",
       "95 percent confidence interval:\n",
       " 0.5505257 0.9215356\n",
       "sample estimates:\n",
       "      cor \n",
       "0.8037533 \n"
      ]
     },
     "metadata": {},
     "output_type": "display_data"
    }
   ],
   "source": [
    "cor.test(Green_cars3$Model.Year,Green_cars3$Car_count, method=\"pearson\", use = \"complete.obs\")"
   ]
  },
  {
   "cell_type": "markdown",
   "id": "9b3d4a4d",
   "metadata": {},
   "source": [
    "The pvalue is les than 0.5 with means the correlation between these variables is signisicant and the correlation coefficient suggests that the correlation is strong"
   ]
  },
  {
   "cell_type": "markdown",
   "id": "901fb33f",
   "metadata": {},
   "source": [
    "## Linear Regression"
   ]
  },
  {
   "cell_type": "code",
   "execution_count": 296,
   "id": "ae14bea0",
   "metadata": {},
   "outputs": [
    {
     "data": {
      "text/plain": [
       "\n",
       "Call:\n",
       "lm(formula = Car_count ~ Model.Year, data = Green_cars3)\n",
       "\n",
       "Coefficients:\n",
       "(Intercept)   Model.Year  \n",
       "   -1112893          556  \n"
      ]
     },
     "metadata": {},
     "output_type": "display_data"
    }
   ],
   "source": [
    "linear_regression=lm(formula = Car_count ~ Model.Year, data = Green_cars3)\n",
    "linear_regression"
   ]
  },
  {
   "cell_type": "code",
   "execution_count": 297,
   "id": "9735cf52",
   "metadata": {},
   "outputs": [
    {
     "data": {
      "text/plain": [
       "\n",
       "Call:\n",
       "lm(formula = Car_count ~ Model.Year, data = Green_cars3)\n",
       "\n",
       "Residuals:\n",
       "   Min     1Q Median     3Q    Max \n",
       " -4726  -2851    557   1256   8810 \n",
       "\n",
       "Coefficients:\n",
       "              Estimate Std. Error t value Pr(>|t|)    \n",
       "(Intercept) -1.113e+06  2.007e+05  -5.544 3.57e-05 ***\n",
       "Model.Year   5.560e+02  9.983e+01   5.570 3.39e-05 ***\n",
       "---\n",
       "Signif. codes:  0 '***' 0.001 '**' 0.01 '*' 0.05 '.' 0.1 ' ' 1\n",
       "\n",
       "Residual standard error: 3675 on 17 degrees of freedom\n",
       "Multiple R-squared:  0.646,\tAdjusted R-squared:  0.6252 \n",
       "F-statistic: 31.03 on 1 and 17 DF,  p-value: 3.386e-05\n"
      ]
     },
     "metadata": {},
     "output_type": "display_data"
    }
   ],
   "source": [
    "summary(linear_regression)"
   ]
  },
  {
   "cell_type": "markdown",
   "id": "3bce921f",
   "metadata": {},
   "source": [
    "According to the regression the model year is a good predictor of the amount of cars that are being bought any given year\n",
    "accounting for 62.5% of the variance following the formula y=556x -1112893"
   ]
  },
  {
   "cell_type": "code",
   "execution_count": 298,
   "id": "81cb81c5",
   "metadata": {},
   "outputs": [
    {
     "data": {
      "text/html": [
       "12451"
      ],
      "text/latex": [
       "12451"
      ],
      "text/markdown": [
       "12451"
      ],
      "text/plain": [
       "[1] 12451"
      ]
     },
     "metadata": {},
     "output_type": "display_data"
    }
   ],
   "source": [
    "y =556*2024-1112893\n",
    "y"
   ]
  },
  {
   "cell_type": "markdown",
   "id": "700ff5be",
   "metadata": {},
   "source": [
    "According to this model the expected amount of green cars expected for 2024 is 12,451"
   ]
  },
  {
   "cell_type": "markdown",
   "id": "8abe0820",
   "metadata": {},
   "source": [
    "Since there is a significant numeric differenc between the amount of electric cars before and after the 2011 year mark,\n",
    "we are going to do the same analysis but just considering cars produced after 2011"
   ]
  },
  {
   "cell_type": "code",
   "execution_count": 299,
   "id": "2a94fbe8",
   "metadata": {},
   "outputs": [],
   "source": [
    "Green_cars3_2011=Green_cars3=filter(Green_cars3,Model.Year >=2011)"
   ]
  },
  {
   "cell_type": "code",
   "execution_count": 300,
   "id": "659d39bb",
   "metadata": {},
   "outputs": [
    {
     "data": {
      "text/html": [
       "<table class=\"dataframe\">\n",
       "<caption>A tibble: 12 × 2</caption>\n",
       "<thead>\n",
       "\t<tr><th scope=col>Model.Year</th><th scope=col>Car_count</th></tr>\n",
       "\t<tr><th scope=col>&lt;int&gt;</th><th scope=col>&lt;int&gt;</th></tr>\n",
       "</thead>\n",
       "<tbody>\n",
       "\t<tr><td>2011</td><td>  856</td></tr>\n",
       "\t<tr><td>2012</td><td> 1721</td></tr>\n",
       "\t<tr><td>2013</td><td> 4804</td></tr>\n",
       "\t<tr><td>2014</td><td> 3771</td></tr>\n",
       "\t<tr><td>2015</td><td> 5032</td></tr>\n",
       "\t<tr><td>2016</td><td> 6376</td></tr>\n",
       "\t<tr><td>2017</td><td> 9787</td></tr>\n",
       "\t<tr><td>2018</td><td>14270</td></tr>\n",
       "\t<tr><td>2019</td><td>10751</td></tr>\n",
       "\t<tr><td>2020</td><td>11178</td></tr>\n",
       "\t<tr><td>2021</td><td>19677</td></tr>\n",
       "\t<tr><td>2022</td><td>11980</td></tr>\n",
       "</tbody>\n",
       "</table>\n"
      ],
      "text/latex": [
       "A tibble: 12 × 2\n",
       "\\begin{tabular}{ll}\n",
       " Model.Year & Car\\_count\\\\\n",
       " <int> & <int>\\\\\n",
       "\\hline\n",
       "\t 2011 &   856\\\\\n",
       "\t 2012 &  1721\\\\\n",
       "\t 2013 &  4804\\\\\n",
       "\t 2014 &  3771\\\\\n",
       "\t 2015 &  5032\\\\\n",
       "\t 2016 &  6376\\\\\n",
       "\t 2017 &  9787\\\\\n",
       "\t 2018 & 14270\\\\\n",
       "\t 2019 & 10751\\\\\n",
       "\t 2020 & 11178\\\\\n",
       "\t 2021 & 19677\\\\\n",
       "\t 2022 & 11980\\\\\n",
       "\\end{tabular}\n"
      ],
      "text/markdown": [
       "\n",
       "A tibble: 12 × 2\n",
       "\n",
       "| Model.Year &lt;int&gt; | Car_count &lt;int&gt; |\n",
       "|---|---|\n",
       "| 2011 |   856 |\n",
       "| 2012 |  1721 |\n",
       "| 2013 |  4804 |\n",
       "| 2014 |  3771 |\n",
       "| 2015 |  5032 |\n",
       "| 2016 |  6376 |\n",
       "| 2017 |  9787 |\n",
       "| 2018 | 14270 |\n",
       "| 2019 | 10751 |\n",
       "| 2020 | 11178 |\n",
       "| 2021 | 19677 |\n",
       "| 2022 | 11980 |\n",
       "\n"
      ],
      "text/plain": [
       "   Model.Year Car_count\n",
       "1  2011         856    \n",
       "2  2012        1721    \n",
       "3  2013        4804    \n",
       "4  2014        3771    \n",
       "5  2015        5032    \n",
       "6  2016        6376    \n",
       "7  2017        9787    \n",
       "8  2018       14270    \n",
       "9  2019       10751    \n",
       "10 2020       11178    \n",
       "11 2021       19677    \n",
       "12 2022       11980    "
      ]
     },
     "metadata": {},
     "output_type": "display_data"
    }
   ],
   "source": [
    "Green_cars3_2011"
   ]
  },
  {
   "cell_type": "code",
   "execution_count": 301,
   "id": "94c9b866",
   "metadata": {},
   "outputs": [
    {
     "name": "stderr",
     "output_type": "stream",
     "text": [
      "`geom_smooth()` using formula 'y ~ x'\n",
      "\n"
     ]
    },
    {
     "data": {
      "image/png": "[encoded data removed]",
      "text/plain": [
       "plot without title"
      ]
     },
     "metadata": {
      "image/png": {
       "height": 420,
       "width": 420
      }
     },
     "output_type": "display_data"
    }
   ],
   "source": [
    "ggplot(Green_cars3_2011, aes(x = Model.Year, y = Car_count))+ geom_point()+ geom_smooth(method=lm)"
   ]
  },
  {
   "cell_type": "markdown",
   "id": "216d34be",
   "metadata": {},
   "source": [
    "## Correlation Test"
   ]
  },
  {
   "cell_type": "code",
   "execution_count": 302,
   "id": "212e565d",
   "metadata": {},
   "outputs": [
    {
     "data": {
      "text/plain": [
       "\n",
       "\tPearson's product-moment correlation\n",
       "\n",
       "data:  Green_cars3_2011$Model.Year and Green_cars3_2011$Car_count\n",
       "t = 6.2964, df = 10, p-value = 8.95e-05\n",
       "alternative hypothesis: true correlation is not equal to 0\n",
       "95 percent confidence interval:\n",
       " 0.6563226 0.9700397\n",
       "sample estimates:\n",
       "      cor \n",
       "0.8936267 \n"
      ]
     },
     "metadata": {},
     "output_type": "display_data"
    }
   ],
   "source": [
    "cor.test(Green_cars3_2011$Model.Year,Green_cars3_2011$Car_count, method=\"pearson\", use = \"complete.obs\")"
   ]
  },
  {
   "cell_type": "markdown",
   "id": "4367ba6e",
   "metadata": {},
   "source": [
    "According to the correlation test the p value still points to a significant correaltion and the correlatio is stronger \n",
    "at 0.89 insread of 0.80\n"
   ]
  },
  {
   "cell_type": "markdown",
   "id": "e55b46f5",
   "metadata": {},
   "source": [
    "## Linear Regression"
   ]
  },
  {
   "cell_type": "code",
   "execution_count": 303,
   "id": "487b11b1",
   "metadata": {},
   "outputs": [
    {
     "data": {
      "text/plain": [
       "\n",
       "Call:\n",
       "lm(formula = Car_count ~ Model.Year, data = Green_cars3_2011)\n",
       "\n",
       "Coefficients:\n",
       "(Intercept)   Model.Year  \n",
       "   -2773933         1380  \n"
      ]
     },
     "metadata": {},
     "output_type": "display_data"
    }
   ],
   "source": [
    "linear_regression2=lm(formula = Car_count ~ Model.Year, data = Green_cars3_2011)\n",
    "linear_regression2"
   ]
  },
  {
   "cell_type": "code",
   "execution_count": 304,
   "id": "bbff23a1",
   "metadata": {},
   "outputs": [
    {
     "data": {
      "text/plain": [
       "\n",
       "Call:\n",
       "lm(formula = Car_count ~ Model.Year, data = Green_cars3_2011)\n",
       "\n",
       "Residuals:\n",
       "    Min      1Q  Median      3Q     Max \n",
       "-3958.9 -1257.6  -734.5   880.9  5117.8 \n",
       "\n",
       "Coefficients:\n",
       "              Estimate Std. Error t value Pr(>|t|)    \n",
       "(Intercept) -2773933.3   441885.1  -6.277 9.17e-05 ***\n",
       "Model.Year      1379.8      219.1   6.296 8.95e-05 ***\n",
       "---\n",
       "Signif. codes:  0 '***' 0.001 '**' 0.01 '*' 0.05 '.' 0.1 ' ' 1\n",
       "\n",
       "Residual standard error: 2620 on 10 degrees of freedom\n",
       "Multiple R-squared:  0.7986,\tAdjusted R-squared:  0.7784 \n",
       "F-statistic: 39.64 on 1 and 10 DF,  p-value: 8.95e-05\n"
      ]
     },
     "metadata": {},
     "output_type": "display_data"
    }
   ],
   "source": [
    "summary(linear_regression2)"
   ]
  },
  {
   "cell_type": "markdown",
   "id": "a492083d",
   "metadata": {},
   "source": [
    "This model has a higher F statistic than the previuous one. The Adjusted R squared suggests a higher impact of the \n",
    "model year on the amount of cars accuonting for 77.8% of the variance fallowing the formual y=1379.8x-2773933.3 "
   ]
  },
  {
   "cell_type": "code",
   "execution_count": 305,
   "id": "7e78d415",
   "metadata": {},
   "outputs": [
    {
     "data": {
      "text/html": [
       "18781.8999999999"
      ],
      "text/latex": [
       "18781.8999999999"
      ],
      "text/markdown": [
       "18781.8999999999"
      ],
      "text/plain": [
       "[1] 18781.9"
      ]
     },
     "metadata": {},
     "output_type": "display_data"
    }
   ],
   "source": [
    "y2=1379.8*2024-2773933.3\n",
    "y2"
   ]
  },
  {
   "cell_type": "markdown",
   "id": "c09722dc",
   "metadata": {},
   "source": [
    "According to this model the expected amount of electric cars for 2024 is 18,782"
   ]
  },
  {
   "cell_type": "markdown",
   "id": "072c1905",
   "metadata": {},
   "source": [
    "## Creating subset For Manova Analysis"
   ]
  },
  {
   "cell_type": "markdown",
   "id": "51274550",
   "metadata": {},
   "source": [
    "We want to know if the car make makes a difference in the decision making of acquiring a car and in the electric range \n",
    "expexted for a car."
   ]
  },
  {
   "cell_type": "code",
   "execution_count": 306,
   "id": "601af7f7",
   "metadata": {},
   "outputs": [],
   "source": [
    "Subset2=c(\"Make\",\"DOL.Vehicle.ID\",\"Electric.Range\")\n",
    "Green_cars4=Green_cars1[Subset2]"
   ]
  },
  {
   "cell_type": "code",
   "execution_count": 307,
   "id": "8dd41a80",
   "metadata": {},
   "outputs": [
    {
     "data": {
      "text/html": [
       "<table class=\"dataframe\">\n",
       "<caption>A data.frame: 6 × 3</caption>\n",
       "<thead>\n",
       "\t<tr><th></th><th scope=col>Make</th><th scope=col>DOL.Vehicle.ID</th><th scope=col>Electric.Range</th></tr>\n",
       "\t<tr><th></th><th scope=col>&lt;chr&gt;</th><th scope=col>&lt;int&gt;</th><th scope=col>&lt;int&gt;</th></tr>\n",
       "</thead>\n",
       "<tbody>\n",
       "\t<tr><th scope=row>1</th><td>PORSCHE  </td><td>156659646</td><td>203</td></tr>\n",
       "\t<tr><th scope=row>2</th><td>NISSAN   </td><td>157077469</td><td>150</td></tr>\n",
       "\t<tr><th scope=row>3</th><td>CHEVROLET</td><td>250701013</td><td>238</td></tr>\n",
       "\t<tr><th scope=row>4</th><td>TOYOTA   </td><td>156585922</td><td> 25</td></tr>\n",
       "\t<tr><th scope=row>5</th><td>NISSAN   </td><td>128498779</td><td>149</td></tr>\n",
       "\t<tr><th scope=row>6</th><td>TESLA    </td><td>132461094</td><td>208</td></tr>\n",
       "</tbody>\n",
       "</table>\n"
      ],
      "text/latex": [
       "A data.frame: 6 × 3\n",
       "\\begin{tabular}{r|lll}\n",
       "  & Make & DOL.Vehicle.ID & Electric.Range\\\\\n",
       "  & <chr> & <int> & <int>\\\\\n",
       "\\hline\n",
       "\t1 & PORSCHE   & 156659646 & 203\\\\\n",
       "\t2 & NISSAN    & 157077469 & 150\\\\\n",
       "\t3 & CHEVROLET & 250701013 & 238\\\\\n",
       "\t4 & TOYOTA    & 156585922 &  25\\\\\n",
       "\t5 & NISSAN    & 128498779 & 149\\\\\n",
       "\t6 & TESLA     & 132461094 & 208\\\\\n",
       "\\end{tabular}\n"
      ],
      "text/markdown": [
       "\n",
       "A data.frame: 6 × 3\n",
       "\n",
       "| <!--/--> | Make &lt;chr&gt; | DOL.Vehicle.ID &lt;int&gt; | Electric.Range &lt;int&gt; |\n",
       "|---|---|---|---|\n",
       "| 1 | PORSCHE   | 156659646 | 203 |\n",
       "| 2 | NISSAN    | 157077469 | 150 |\n",
       "| 3 | CHEVROLET | 250701013 | 238 |\n",
       "| 4 | TOYOTA    | 156585922 |  25 |\n",
       "| 5 | NISSAN    | 128498779 | 149 |\n",
       "| 6 | TESLA     | 132461094 | 208 |\n",
       "\n"
      ],
      "text/plain": [
       "  Make      DOL.Vehicle.ID Electric.Range\n",
       "1 PORSCHE   156659646      203           \n",
       "2 NISSAN    157077469      150           \n",
       "3 CHEVROLET 250701013      238           \n",
       "4 TOYOTA    156585922       25           \n",
       "5 NISSAN    128498779      149           \n",
       "6 TESLA     132461094      208           "
      ]
     },
     "metadata": {},
     "output_type": "display_data"
    }
   ],
   "source": [
    "head(Green_cars4)"
   ]
  },
  {
   "cell_type": "code",
   "execution_count": 308,
   "id": "43ad8d92",
   "metadata": {},
   "outputs": [],
   "source": [
    "Green_cars5=Green_cars4 %>% group_by(Make) %>% summarise(Car_count= n())"
   ]
  },
  {
   "cell_type": "code",
   "execution_count": 309,
   "id": "c6a20045",
   "metadata": {},
   "outputs": [
    {
     "data": {
      "text/html": [
       "<table class=\"dataframe\">\n",
       "<caption>A tibble: 32 × 2</caption>\n",
       "<thead>\n",
       "\t<tr><th scope=col>Make</th><th scope=col>Car_count</th></tr>\n",
       "\t<tr><th scope=col>&lt;chr&gt;</th><th scope=col>&lt;int&gt;</th></tr>\n",
       "</thead>\n",
       "<tbody>\n",
       "\t<tr><td>AUDI                </td><td> 1734</td></tr>\n",
       "\t<tr><td>AZURE DYNAMICS      </td><td>    7</td></tr>\n",
       "\t<tr><td>BENTLEY             </td><td>    2</td></tr>\n",
       "\t<tr><td>BMW                 </td><td> 4119</td></tr>\n",
       "\t<tr><td>CADILLAC            </td><td>  109</td></tr>\n",
       "\t<tr><td>CHEVROLET           </td><td> 8952</td></tr>\n",
       "\t<tr><td>CHRYSLER            </td><td> 1675</td></tr>\n",
       "\t<tr><td>DODGE               </td><td>    1</td></tr>\n",
       "\t<tr><td>FIAT                </td><td>  826</td></tr>\n",
       "\t<tr><td>FISKER              </td><td>   13</td></tr>\n",
       "\t<tr><td>FORD                </td><td> 3918</td></tr>\n",
       "\t<tr><td>HONDA               </td><td>  773</td></tr>\n",
       "\t<tr><td>HYUNDAI             </td><td> 1037</td></tr>\n",
       "\t<tr><td>JAGUAR              </td><td>  190</td></tr>\n",
       "\t<tr><td>JEEP                </td><td>  739</td></tr>\n",
       "\t<tr><td>KIA                 </td><td> 3025</td></tr>\n",
       "\t<tr><td>LAND ROVER          </td><td>   38</td></tr>\n",
       "\t<tr><td>LINCOLN             </td><td>  105</td></tr>\n",
       "\t<tr><td>MERCEDES-BENZ       </td><td>  330</td></tr>\n",
       "\t<tr><td>MINI                </td><td>  304</td></tr>\n",
       "\t<tr><td>MITSUBISHI          </td><td>  587</td></tr>\n",
       "\t<tr><td>NISSAN              </td><td>11352</td></tr>\n",
       "\t<tr><td>POLESTAR            </td><td>  115</td></tr>\n",
       "\t<tr><td>PORSCHE             </td><td>  566</td></tr>\n",
       "\t<tr><td>SMART               </td><td>  273</td></tr>\n",
       "\t<tr><td>SUBARU              </td><td>   53</td></tr>\n",
       "\t<tr><td>TESLA               </td><td>25825</td></tr>\n",
       "\t<tr><td>TH!NK               </td><td>    3</td></tr>\n",
       "\t<tr><td>TOYOTA              </td><td> 4057</td></tr>\n",
       "\t<tr><td>VOLKSWAGEN          </td><td> 1070</td></tr>\n",
       "\t<tr><td>VOLVO               </td><td> 1634</td></tr>\n",
       "\t<tr><td>WHEEGO ELECTRIC CARS</td><td>    3</td></tr>\n",
       "</tbody>\n",
       "</table>\n"
      ],
      "text/latex": [
       "A tibble: 32 × 2\n",
       "\\begin{tabular}{ll}\n",
       " Make & Car\\_count\\\\\n",
       " <chr> & <int>\\\\\n",
       "\\hline\n",
       "\t AUDI                 &  1734\\\\\n",
       "\t AZURE DYNAMICS       &     7\\\\\n",
       "\t BENTLEY              &     2\\\\\n",
       "\t BMW                  &  4119\\\\\n",
       "\t CADILLAC             &   109\\\\\n",
       "\t CHEVROLET            &  8952\\\\\n",
       "\t CHRYSLER             &  1675\\\\\n",
       "\t DODGE                &     1\\\\\n",
       "\t FIAT                 &   826\\\\\n",
       "\t FISKER               &    13\\\\\n",
       "\t FORD                 &  3918\\\\\n",
       "\t HONDA                &   773\\\\\n",
       "\t HYUNDAI              &  1037\\\\\n",
       "\t JAGUAR               &   190\\\\\n",
       "\t JEEP                 &   739\\\\\n",
       "\t KIA                  &  3025\\\\\n",
       "\t LAND ROVER           &    38\\\\\n",
       "\t LINCOLN              &   105\\\\\n",
       "\t MERCEDES-BENZ        &   330\\\\\n",
       "\t MINI                 &   304\\\\\n",
       "\t MITSUBISHI           &   587\\\\\n",
       "\t NISSAN               & 11352\\\\\n",
       "\t POLESTAR             &   115\\\\\n",
       "\t PORSCHE              &   566\\\\\n",
       "\t SMART                &   273\\\\\n",
       "\t SUBARU               &    53\\\\\n",
       "\t TESLA                & 25825\\\\\n",
       "\t TH!NK                &     3\\\\\n",
       "\t TOYOTA               &  4057\\\\\n",
       "\t VOLKSWAGEN           &  1070\\\\\n",
       "\t VOLVO                &  1634\\\\\n",
       "\t WHEEGO ELECTRIC CARS &     3\\\\\n",
       "\\end{tabular}\n"
      ],
      "text/markdown": [
       "\n",
       "A tibble: 32 × 2\n",
       "\n",
       "| Make &lt;chr&gt; | Car_count &lt;int&gt; |\n",
       "|---|---|\n",
       "| AUDI                 |  1734 |\n",
       "| AZURE DYNAMICS       |     7 |\n",
       "| BENTLEY              |     2 |\n",
       "| BMW                  |  4119 |\n",
       "| CADILLAC             |   109 |\n",
       "| CHEVROLET            |  8952 |\n",
       "| CHRYSLER             |  1675 |\n",
       "| DODGE                |     1 |\n",
       "| FIAT                 |   826 |\n",
       "| FISKER               |    13 |\n",
       "| FORD                 |  3918 |\n",
       "| HONDA                |   773 |\n",
       "| HYUNDAI              |  1037 |\n",
       "| JAGUAR               |   190 |\n",
       "| JEEP                 |   739 |\n",
       "| KIA                  |  3025 |\n",
       "| LAND ROVER           |    38 |\n",
       "| LINCOLN              |   105 |\n",
       "| MERCEDES-BENZ        |   330 |\n",
       "| MINI                 |   304 |\n",
       "| MITSUBISHI           |   587 |\n",
       "| NISSAN               | 11352 |\n",
       "| POLESTAR             |   115 |\n",
       "| PORSCHE              |   566 |\n",
       "| SMART                |   273 |\n",
       "| SUBARU               |    53 |\n",
       "| TESLA                | 25825 |\n",
       "| TH!NK                |     3 |\n",
       "| TOYOTA               |  4057 |\n",
       "| VOLKSWAGEN           |  1070 |\n",
       "| VOLVO                |  1634 |\n",
       "| WHEEGO ELECTRIC CARS |     3 |\n",
       "\n"
      ],
      "text/plain": [
       "   Make                 Car_count\n",
       "1  AUDI                  1734    \n",
       "2  AZURE DYNAMICS           7    \n",
       "3  BENTLEY                  2    \n",
       "4  BMW                   4119    \n",
       "5  CADILLAC               109    \n",
       "6  CHEVROLET             8952    \n",
       "7  CHRYSLER              1675    \n",
       "8  DODGE                    1    \n",
       "9  FIAT                   826    \n",
       "10 FISKER                  13    \n",
       "11 FORD                  3918    \n",
       "12 HONDA                  773    \n",
       "13 HYUNDAI               1037    \n",
       "14 JAGUAR                 190    \n",
       "15 JEEP                   739    \n",
       "16 KIA                   3025    \n",
       "17 LAND ROVER              38    \n",
       "18 LINCOLN                105    \n",
       "19 MERCEDES-BENZ          330    \n",
       "20 MINI                   304    \n",
       "21 MITSUBISHI             587    \n",
       "22 NISSAN               11352    \n",
       "23 POLESTAR               115    \n",
       "24 PORSCHE                566    \n",
       "25 SMART                  273    \n",
       "26 SUBARU                  53    \n",
       "27 TESLA                25825    \n",
       "28 TH!NK                    3    \n",
       "29 TOYOTA                4057    \n",
       "30 VOLKSWAGEN            1070    \n",
       "31 VOLVO                 1634    \n",
       "32 WHEEGO ELECTRIC CARS     3    "
      ]
     },
     "metadata": {},
     "output_type": "display_data"
    }
   ],
   "source": [
    "View(Green_cars5)"
   ]
  },
  {
   "cell_type": "code",
   "execution_count": 310,
   "id": "60a6d929",
   "metadata": {},
   "outputs": [],
   "source": [
    "Green_cars6=Green_cars4 %>% group_by(Make) %>% summarise(Average_electric_range = mean(Electric.Range))"
   ]
  },
  {
   "cell_type": "code",
   "execution_count": 311,
   "id": "06f393ca",
   "metadata": {},
   "outputs": [
    {
     "data": {
      "text/html": [
       "<table class=\"dataframe\">\n",
       "<caption>A tibble: 32 × 2</caption>\n",
       "<thead>\n",
       "\t<tr><th scope=col>Make</th><th scope=col>Average_electric_range</th></tr>\n",
       "\t<tr><th scope=col>&lt;chr&gt;</th><th scope=col>&lt;dbl&gt;</th></tr>\n",
       "</thead>\n",
       "<tbody>\n",
       "\t<tr><td>AUDI                </td><td> 83.17878</td></tr>\n",
       "\t<tr><td>AZURE DYNAMICS      </td><td> 56.00000</td></tr>\n",
       "\t<tr><td>BENTLEY             </td><td> 17.50000</td></tr>\n",
       "\t<tr><td>BMW                 </td><td> 51.51663</td></tr>\n",
       "\t<tr><td>CADILLAC            </td><td> 35.51376</td></tr>\n",
       "\t<tr><td>CHEVROLET           </td><td>128.92292</td></tr>\n",
       "\t<tr><td>CHRYSLER            </td><td> 32.37791</td></tr>\n",
       "\t<tr><td>DODGE               </td><td> 80.00000</td></tr>\n",
       "\t<tr><td>FIAT                </td><td> 85.71065</td></tr>\n",
       "\t<tr><td>FISKER              </td><td> 33.00000</td></tr>\n",
       "\t<tr><td>FORD                </td><td> 24.62226</td></tr>\n",
       "\t<tr><td>HONDA               </td><td> 46.65201</td></tr>\n",
       "\t<tr><td>HYUNDAI             </td><td> 75.81292</td></tr>\n",
       "\t<tr><td>JAGUAR              </td><td>234.00000</td></tr>\n",
       "\t<tr><td>JEEP                </td><td> 23.21516</td></tr>\n",
       "\t<tr><td>KIA                 </td><td>114.64033</td></tr>\n",
       "\t<tr><td>LAND ROVER          </td><td> 19.00000</td></tr>\n",
       "\t<tr><td>LINCOLN             </td><td> 22.86667</td></tr>\n",
       "\t<tr><td>MERCEDES-BENZ       </td><td> 34.27879</td></tr>\n",
       "\t<tr><td>MINI                </td><td> 53.83882</td></tr>\n",
       "\t<tr><td>MITSUBISHI          </td><td> 26.87053</td></tr>\n",
       "\t<tr><td>NISSAN              </td><td>102.94406</td></tr>\n",
       "\t<tr><td>POLESTAR            </td><td>233.00000</td></tr>\n",
       "\t<tr><td>PORSCHE             </td><td> 77.15018</td></tr>\n",
       "\t<tr><td>SMART               </td><td> 62.24542</td></tr>\n",
       "\t<tr><td>SUBARU              </td><td> 17.00000</td></tr>\n",
       "\t<tr><td>TESLA               </td><td>240.17526</td></tr>\n",
       "\t<tr><td>TH!NK               </td><td>100.00000</td></tr>\n",
       "\t<tr><td>TOYOTA              </td><td> 25.11807</td></tr>\n",
       "\t<tr><td>VOLKSWAGEN          </td><td>106.82617</td></tr>\n",
       "\t<tr><td>VOLVO               </td><td> 18.54284</td></tr>\n",
       "\t<tr><td>WHEEGO ELECTRIC CARS</td><td>100.00000</td></tr>\n",
       "</tbody>\n",
       "</table>\n"
      ],
      "text/latex": [
       "A tibble: 32 × 2\n",
       "\\begin{tabular}{ll}\n",
       " Make & Average\\_electric\\_range\\\\\n",
       " <chr> & <dbl>\\\\\n",
       "\\hline\n",
       "\t AUDI                 &  83.17878\\\\\n",
       "\t AZURE DYNAMICS       &  56.00000\\\\\n",
       "\t BENTLEY              &  17.50000\\\\\n",
       "\t BMW                  &  51.51663\\\\\n",
       "\t CADILLAC             &  35.51376\\\\\n",
       "\t CHEVROLET            & 128.92292\\\\\n",
       "\t CHRYSLER             &  32.37791\\\\\n",
       "\t DODGE                &  80.00000\\\\\n",
       "\t FIAT                 &  85.71065\\\\\n",
       "\t FISKER               &  33.00000\\\\\n",
       "\t FORD                 &  24.62226\\\\\n",
       "\t HONDA                &  46.65201\\\\\n",
       "\t HYUNDAI              &  75.81292\\\\\n",
       "\t JAGUAR               & 234.00000\\\\\n",
       "\t JEEP                 &  23.21516\\\\\n",
       "\t KIA                  & 114.64033\\\\\n",
       "\t LAND ROVER           &  19.00000\\\\\n",
       "\t LINCOLN              &  22.86667\\\\\n",
       "\t MERCEDES-BENZ        &  34.27879\\\\\n",
       "\t MINI                 &  53.83882\\\\\n",
       "\t MITSUBISHI           &  26.87053\\\\\n",
       "\t NISSAN               & 102.94406\\\\\n",
       "\t POLESTAR             & 233.00000\\\\\n",
       "\t PORSCHE              &  77.15018\\\\\n",
       "\t SMART                &  62.24542\\\\\n",
       "\t SUBARU               &  17.00000\\\\\n",
       "\t TESLA                & 240.17526\\\\\n",
       "\t TH!NK                & 100.00000\\\\\n",
       "\t TOYOTA               &  25.11807\\\\\n",
       "\t VOLKSWAGEN           & 106.82617\\\\\n",
       "\t VOLVO                &  18.54284\\\\\n",
       "\t WHEEGO ELECTRIC CARS & 100.00000\\\\\n",
       "\\end{tabular}\n"
      ],
      "text/markdown": [
       "\n",
       "A tibble: 32 × 2\n",
       "\n",
       "| Make &lt;chr&gt; | Average_electric_range &lt;dbl&gt; |\n",
       "|---|---|\n",
       "| AUDI                 |  83.17878 |\n",
       "| AZURE DYNAMICS       |  56.00000 |\n",
       "| BENTLEY              |  17.50000 |\n",
       "| BMW                  |  51.51663 |\n",
       "| CADILLAC             |  35.51376 |\n",
       "| CHEVROLET            | 128.92292 |\n",
       "| CHRYSLER             |  32.37791 |\n",
       "| DODGE                |  80.00000 |\n",
       "| FIAT                 |  85.71065 |\n",
       "| FISKER               |  33.00000 |\n",
       "| FORD                 |  24.62226 |\n",
       "| HONDA                |  46.65201 |\n",
       "| HYUNDAI              |  75.81292 |\n",
       "| JAGUAR               | 234.00000 |\n",
       "| JEEP                 |  23.21516 |\n",
       "| KIA                  | 114.64033 |\n",
       "| LAND ROVER           |  19.00000 |\n",
       "| LINCOLN              |  22.86667 |\n",
       "| MERCEDES-BENZ        |  34.27879 |\n",
       "| MINI                 |  53.83882 |\n",
       "| MITSUBISHI           |  26.87053 |\n",
       "| NISSAN               | 102.94406 |\n",
       "| POLESTAR             | 233.00000 |\n",
       "| PORSCHE              |  77.15018 |\n",
       "| SMART                |  62.24542 |\n",
       "| SUBARU               |  17.00000 |\n",
       "| TESLA                | 240.17526 |\n",
       "| TH!NK                | 100.00000 |\n",
       "| TOYOTA               |  25.11807 |\n",
       "| VOLKSWAGEN           | 106.82617 |\n",
       "| VOLVO                |  18.54284 |\n",
       "| WHEEGO ELECTRIC CARS | 100.00000 |\n",
       "\n"
      ],
      "text/plain": [
       "   Make                 Average_electric_range\n",
       "1  AUDI                  83.17878             \n",
       "2  AZURE DYNAMICS        56.00000             \n",
       "3  BENTLEY               17.50000             \n",
       "4  BMW                   51.51663             \n",
       "5  CADILLAC              35.51376             \n",
       "6  CHEVROLET            128.92292             \n",
       "7  CHRYSLER              32.37791             \n",
       "8  DODGE                 80.00000             \n",
       "9  FIAT                  85.71065             \n",
       "10 FISKER                33.00000             \n",
       "11 FORD                  24.62226             \n",
       "12 HONDA                 46.65201             \n",
       "13 HYUNDAI               75.81292             \n",
       "14 JAGUAR               234.00000             \n",
       "15 JEEP                  23.21516             \n",
       "16 KIA                  114.64033             \n",
       "17 LAND ROVER            19.00000             \n",
       "18 LINCOLN               22.86667             \n",
       "19 MERCEDES-BENZ         34.27879             \n",
       "20 MINI                  53.83882             \n",
       "21 MITSUBISHI            26.87053             \n",
       "22 NISSAN               102.94406             \n",
       "23 POLESTAR             233.00000             \n",
       "24 PORSCHE               77.15018             \n",
       "25 SMART                 62.24542             \n",
       "26 SUBARU                17.00000             \n",
       "27 TESLA                240.17526             \n",
       "28 TH!NK                100.00000             \n",
       "29 TOYOTA                25.11807             \n",
       "30 VOLKSWAGEN           106.82617             \n",
       "31 VOLVO                 18.54284             \n",
       "32 WHEEGO ELECTRIC CARS 100.00000             "
      ]
     },
     "metadata": {},
     "output_type": "display_data"
    }
   ],
   "source": [
    "View(Green_cars6)"
   ]
  },
  {
   "cell_type": "code",
   "execution_count": 470,
   "id": "0e7fe9db",
   "metadata": {},
   "outputs": [],
   "source": [
    "Green_cars5$Average_Electic_Range=Green_cars6$Average_electric_range"
   ]
  },
  {
   "cell_type": "code",
   "execution_count": 471,
   "id": "1d34414f",
   "metadata": {},
   "outputs": [
    {
     "data": {
      "text/html": [
       "<table class=\"dataframe\">\n",
       "<caption>A tibble: 32 × 5</caption>\n",
       "<thead>\n",
       "\t<tr><th scope=col>Make</th><th scope=col>Car_count</th><th scope=col>Average_Electic_Range</th><th scope=col>Car_countLOG</th><th scope=col>Average_Electic_RangeLOG</th></tr>\n",
       "\t<tr><th scope=col>&lt;chr&gt;</th><th scope=col>&lt;int&gt;</th><th scope=col>&lt;dbl&gt;</th><th scope=col>&lt;dbl&gt;</th><th scope=col>&lt;dbl&gt;</th></tr>\n",
       "</thead>\n",
       "<tbody>\n",
       "\t<tr><td>AUDI                </td><td> 1734</td><td> 83.17878</td><td> 7.4581862</td><td>4.418841</td></tr>\n",
       "\t<tr><td>AZURE DYNAMICS      </td><td>    7</td><td> 56.00000</td><td> 1.9459101</td><td>4.025352</td></tr>\n",
       "\t<tr><td>BENTLEY             </td><td>    2</td><td> 17.50000</td><td> 0.6931472</td><td>2.833213</td></tr>\n",
       "\t<tr><td>BMW                 </td><td> 4119</td><td> 51.51663</td><td> 8.3233657</td><td>3.931826</td></tr>\n",
       "\t<tr><td>CADILLAC            </td><td>  109</td><td> 35.51376</td><td> 4.6913479</td><td>3.555348</td></tr>\n",
       "\t<tr><td>CHEVROLET           </td><td> 8952</td><td>128.92292</td><td> 9.0996322</td><td>4.852030</td></tr>\n",
       "\t<tr><td>CHRYSLER            </td><td> 1675</td><td> 32.37791</td><td> 7.4235684</td><td>3.465736</td></tr>\n",
       "\t<tr><td>DODGE               </td><td>    1</td><td> 80.00000</td><td> 0.0000000</td><td>4.382027</td></tr>\n",
       "\t<tr><td>FIAT                </td><td>  826</td><td> 85.71065</td><td> 6.7165948</td><td>4.442651</td></tr>\n",
       "\t<tr><td>FISKER              </td><td>   13</td><td> 33.00000</td><td> 2.5649494</td><td>3.496508</td></tr>\n",
       "\t<tr><td>FORD                </td><td> 3918</td><td> 24.62226</td><td> 8.2733366</td><td>3.178054</td></tr>\n",
       "\t<tr><td>HONDA               </td><td>  773</td><td> 46.65201</td><td> 6.6502790</td><td>3.828641</td></tr>\n",
       "\t<tr><td>HYUNDAI             </td><td> 1037</td><td> 75.81292</td><td> 6.9440872</td><td>4.317488</td></tr>\n",
       "\t<tr><td>JAGUAR              </td><td>  190</td><td>234.00000</td><td> 5.2470241</td><td>5.455321</td></tr>\n",
       "\t<tr><td>JEEP                </td><td>  739</td><td> 23.21516</td><td> 6.6052979</td><td>3.135494</td></tr>\n",
       "\t<tr><td>KIA                 </td><td> 3025</td><td>114.64033</td><td> 8.0146664</td><td>4.736198</td></tr>\n",
       "\t<tr><td>LAND ROVER          </td><td>   38</td><td> 19.00000</td><td> 3.6375862</td><td>2.944439</td></tr>\n",
       "\t<tr><td>LINCOLN             </td><td>  105</td><td> 22.86667</td><td> 4.6539604</td><td>3.091042</td></tr>\n",
       "\t<tr><td>MERCEDES-BENZ       </td><td>  330</td><td> 34.27879</td><td> 5.7990927</td><td>3.526361</td></tr>\n",
       "\t<tr><td>MINI                </td><td>  304</td><td> 53.83882</td><td> 5.7170277</td><td>3.970292</td></tr>\n",
       "\t<tr><td>MITSUBISHI          </td><td>  587</td><td> 26.87053</td><td> 6.3750248</td><td>3.258097</td></tr>\n",
       "\t<tr><td>NISSAN              </td><td>11352</td><td>102.94406</td><td> 9.3371492</td><td>4.624973</td></tr>\n",
       "\t<tr><td>POLESTAR            </td><td>  115</td><td>233.00000</td><td> 4.7449321</td><td>5.451038</td></tr>\n",
       "\t<tr><td>PORSCHE             </td><td>  566</td><td> 77.15018</td><td> 6.3385941</td><td>4.343805</td></tr>\n",
       "\t<tr><td>SMART               </td><td>  273</td><td> 62.24542</td><td> 5.6094718</td><td>4.127134</td></tr>\n",
       "\t<tr><td>SUBARU              </td><td>   53</td><td> 17.00000</td><td> 3.9702919</td><td>2.833213</td></tr>\n",
       "\t<tr><td>TESLA               </td><td>25825</td><td>240.17526</td><td>10.1590983</td><td>5.480639</td></tr>\n",
       "\t<tr><td>TH!NK               </td><td>    3</td><td>100.00000</td><td> 1.0986123</td><td>4.605170</td></tr>\n",
       "\t<tr><td>TOYOTA              </td><td> 4057</td><td> 25.11807</td><td> 8.3081991</td><td>3.218876</td></tr>\n",
       "\t<tr><td>VOLKSWAGEN          </td><td> 1070</td><td>106.82617</td><td> 6.9754139</td><td>4.663439</td></tr>\n",
       "\t<tr><td>VOLVO               </td><td> 1634</td><td> 18.54284</td><td> 7.3987863</td><td>2.890372</td></tr>\n",
       "\t<tr><td>WHEEGO ELECTRIC CARS</td><td>    3</td><td>100.00000</td><td> 1.0986123</td><td>4.605170</td></tr>\n",
       "</tbody>\n",
       "</table>\n"
      ],
      "text/latex": [
       "A tibble: 32 × 5\n",
       "\\begin{tabular}{lllll}\n",
       " Make & Car\\_count & Average\\_Electic\\_Range & Car\\_countLOG & Average\\_Electic\\_RangeLOG\\\\\n",
       " <chr> & <int> & <dbl> & <dbl> & <dbl>\\\\\n",
       "\\hline\n",
       "\t AUDI                 &  1734 &  83.17878 &  7.4581862 & 4.418841\\\\\n",
       "\t AZURE DYNAMICS       &     7 &  56.00000 &  1.9459101 & 4.025352\\\\\n",
       "\t BENTLEY              &     2 &  17.50000 &  0.6931472 & 2.833213\\\\\n",
       "\t BMW                  &  4119 &  51.51663 &  8.3233657 & 3.931826\\\\\n",
       "\t CADILLAC             &   109 &  35.51376 &  4.6913479 & 3.555348\\\\\n",
       "\t CHEVROLET            &  8952 & 128.92292 &  9.0996322 & 4.852030\\\\\n",
       "\t CHRYSLER             &  1675 &  32.37791 &  7.4235684 & 3.465736\\\\\n",
       "\t DODGE                &     1 &  80.00000 &  0.0000000 & 4.382027\\\\\n",
       "\t FIAT                 &   826 &  85.71065 &  6.7165948 & 4.442651\\\\\n",
       "\t FISKER               &    13 &  33.00000 &  2.5649494 & 3.496508\\\\\n",
       "\t FORD                 &  3918 &  24.62226 &  8.2733366 & 3.178054\\\\\n",
       "\t HONDA                &   773 &  46.65201 &  6.6502790 & 3.828641\\\\\n",
       "\t HYUNDAI              &  1037 &  75.81292 &  6.9440872 & 4.317488\\\\\n",
       "\t JAGUAR               &   190 & 234.00000 &  5.2470241 & 5.455321\\\\\n",
       "\t JEEP                 &   739 &  23.21516 &  6.6052979 & 3.135494\\\\\n",
       "\t KIA                  &  3025 & 114.64033 &  8.0146664 & 4.736198\\\\\n",
       "\t LAND ROVER           &    38 &  19.00000 &  3.6375862 & 2.944439\\\\\n",
       "\t LINCOLN              &   105 &  22.86667 &  4.6539604 & 3.091042\\\\\n",
       "\t MERCEDES-BENZ        &   330 &  34.27879 &  5.7990927 & 3.526361\\\\\n",
       "\t MINI                 &   304 &  53.83882 &  5.7170277 & 3.970292\\\\\n",
       "\t MITSUBISHI           &   587 &  26.87053 &  6.3750248 & 3.258097\\\\\n",
       "\t NISSAN               & 11352 & 102.94406 &  9.3371492 & 4.624973\\\\\n",
       "\t POLESTAR             &   115 & 233.00000 &  4.7449321 & 5.451038\\\\\n",
       "\t PORSCHE              &   566 &  77.15018 &  6.3385941 & 4.343805\\\\\n",
       "\t SMART                &   273 &  62.24542 &  5.6094718 & 4.127134\\\\\n",
       "\t SUBARU               &    53 &  17.00000 &  3.9702919 & 2.833213\\\\\n",
       "\t TESLA                & 25825 & 240.17526 & 10.1590983 & 5.480639\\\\\n",
       "\t TH!NK                &     3 & 100.00000 &  1.0986123 & 4.605170\\\\\n",
       "\t TOYOTA               &  4057 &  25.11807 &  8.3081991 & 3.218876\\\\\n",
       "\t VOLKSWAGEN           &  1070 & 106.82617 &  6.9754139 & 4.663439\\\\\n",
       "\t VOLVO                &  1634 &  18.54284 &  7.3987863 & 2.890372\\\\\n",
       "\t WHEEGO ELECTRIC CARS &     3 & 100.00000 &  1.0986123 & 4.605170\\\\\n",
       "\\end{tabular}\n"
      ],
      "text/markdown": [
       "\n",
       "A tibble: 32 × 5\n",
       "\n",
       "| Make &lt;chr&gt; | Car_count &lt;int&gt; | Average_Electic_Range &lt;dbl&gt; | Car_countLOG &lt;dbl&gt; | Average_Electic_RangeLOG &lt;dbl&gt; |\n",
       "|---|---|---|---|---|\n",
       "| AUDI                 |  1734 |  83.17878 |  7.4581862 | 4.418841 |\n",
       "| AZURE DYNAMICS       |     7 |  56.00000 |  1.9459101 | 4.025352 |\n",
       "| BENTLEY              |     2 |  17.50000 |  0.6931472 | 2.833213 |\n",
       "| BMW                  |  4119 |  51.51663 |  8.3233657 | 3.931826 |\n",
       "| CADILLAC             |   109 |  35.51376 |  4.6913479 | 3.555348 |\n",
       "| CHEVROLET            |  8952 | 128.92292 |  9.0996322 | 4.852030 |\n",
       "| CHRYSLER             |  1675 |  32.37791 |  7.4235684 | 3.465736 |\n",
       "| DODGE                |     1 |  80.00000 |  0.0000000 | 4.382027 |\n",
       "| FIAT                 |   826 |  85.71065 |  6.7165948 | 4.442651 |\n",
       "| FISKER               |    13 |  33.00000 |  2.5649494 | 3.496508 |\n",
       "| FORD                 |  3918 |  24.62226 |  8.2733366 | 3.178054 |\n",
       "| HONDA                |   773 |  46.65201 |  6.6502790 | 3.828641 |\n",
       "| HYUNDAI              |  1037 |  75.81292 |  6.9440872 | 4.317488 |\n",
       "| JAGUAR               |   190 | 234.00000 |  5.2470241 | 5.455321 |\n",
       "| JEEP                 |   739 |  23.21516 |  6.6052979 | 3.135494 |\n",
       "| KIA                  |  3025 | 114.64033 |  8.0146664 | 4.736198 |\n",
       "| LAND ROVER           |    38 |  19.00000 |  3.6375862 | 2.944439 |\n",
       "| LINCOLN              |   105 |  22.86667 |  4.6539604 | 3.091042 |\n",
       "| MERCEDES-BENZ        |   330 |  34.27879 |  5.7990927 | 3.526361 |\n",
       "| MINI                 |   304 |  53.83882 |  5.7170277 | 3.970292 |\n",
       "| MITSUBISHI           |   587 |  26.87053 |  6.3750248 | 3.258097 |\n",
       "| NISSAN               | 11352 | 102.94406 |  9.3371492 | 4.624973 |\n",
       "| POLESTAR             |   115 | 233.00000 |  4.7449321 | 5.451038 |\n",
       "| PORSCHE              |   566 |  77.15018 |  6.3385941 | 4.343805 |\n",
       "| SMART                |   273 |  62.24542 |  5.6094718 | 4.127134 |\n",
       "| SUBARU               |    53 |  17.00000 |  3.9702919 | 2.833213 |\n",
       "| TESLA                | 25825 | 240.17526 | 10.1590983 | 5.480639 |\n",
       "| TH!NK                |     3 | 100.00000 |  1.0986123 | 4.605170 |\n",
       "| TOYOTA               |  4057 |  25.11807 |  8.3081991 | 3.218876 |\n",
       "| VOLKSWAGEN           |  1070 | 106.82617 |  6.9754139 | 4.663439 |\n",
       "| VOLVO                |  1634 |  18.54284 |  7.3987863 | 2.890372 |\n",
       "| WHEEGO ELECTRIC CARS |     3 | 100.00000 |  1.0986123 | 4.605170 |\n",
       "\n"
      ],
      "text/plain": [
       "   Make                 Car_count Average_Electic_Range Car_countLOG\n",
       "1  AUDI                  1734      83.17878              7.4581862  \n",
       "2  AZURE DYNAMICS           7      56.00000              1.9459101  \n",
       "3  BENTLEY                  2      17.50000              0.6931472  \n",
       "4  BMW                   4119      51.51663              8.3233657  \n",
       "5  CADILLAC               109      35.51376              4.6913479  \n",
       "6  CHEVROLET             8952     128.92292              9.0996322  \n",
       "7  CHRYSLER              1675      32.37791              7.4235684  \n",
       "8  DODGE                    1      80.00000              0.0000000  \n",
       "9  FIAT                   826      85.71065              6.7165948  \n",
       "10 FISKER                  13      33.00000              2.5649494  \n",
       "11 FORD                  3918      24.62226              8.2733366  \n",
       "12 HONDA                  773      46.65201              6.6502790  \n",
       "13 HYUNDAI               1037      75.81292              6.9440872  \n",
       "14 JAGUAR                 190     234.00000              5.2470241  \n",
       "15 JEEP                   739      23.21516              6.6052979  \n",
       "16 KIA                   3025     114.64033              8.0146664  \n",
       "17 LAND ROVER              38      19.00000              3.6375862  \n",
       "18 LINCOLN                105      22.86667              4.6539604  \n",
       "19 MERCEDES-BENZ          330      34.27879              5.7990927  \n",
       "20 MINI                   304      53.83882              5.7170277  \n",
       "21 MITSUBISHI             587      26.87053              6.3750248  \n",
       "22 NISSAN               11352     102.94406              9.3371492  \n",
       "23 POLESTAR               115     233.00000              4.7449321  \n",
       "24 PORSCHE                566      77.15018              6.3385941  \n",
       "25 SMART                  273      62.24542              5.6094718  \n",
       "26 SUBARU                  53      17.00000              3.9702919  \n",
       "27 TESLA                25825     240.17526             10.1590983  \n",
       "28 TH!NK                    3     100.00000              1.0986123  \n",
       "29 TOYOTA                4057      25.11807              8.3081991  \n",
       "30 VOLKSWAGEN            1070     106.82617              6.9754139  \n",
       "31 VOLVO                 1634      18.54284              7.3987863  \n",
       "32 WHEEGO ELECTRIC CARS     3     100.00000              1.0986123  \n",
       "   Average_Electic_RangeLOG\n",
       "1  4.418841                \n",
       "2  4.025352                \n",
       "3  2.833213                \n",
       "4  3.931826                \n",
       "5  3.555348                \n",
       "6  4.852030                \n",
       "7  3.465736                \n",
       "8  4.382027                \n",
       "9  4.442651                \n",
       "10 3.496508                \n",
       "11 3.178054                \n",
       "12 3.828641                \n",
       "13 4.317488                \n",
       "14 5.455321                \n",
       "15 3.135494                \n",
       "16 4.736198                \n",
       "17 2.944439                \n",
       "18 3.091042                \n",
       "19 3.526361                \n",
       "20 3.970292                \n",
       "21 3.258097                \n",
       "22 4.624973                \n",
       "23 5.451038                \n",
       "24 4.343805                \n",
       "25 4.127134                \n",
       "26 2.833213                \n",
       "27 5.480639                \n",
       "28 4.605170                \n",
       "29 3.218876                \n",
       "30 4.663439                \n",
       "31 2.890372                \n",
       "32 4.605170                "
      ]
     },
     "metadata": {},
     "output_type": "display_data"
    }
   ],
   "source": [
    "View(Green_cars5)"
   ]
  },
  {
   "cell_type": "code",
   "execution_count": 314,
   "id": "82467791",
   "metadata": {},
   "outputs": [],
   "source": [
    "Green_cars5$Average_Electic_Range=floor(Green_cars5$Average_Electic_Range)"
   ]
  },
  {
   "cell_type": "code",
   "execution_count": 315,
   "id": "9ff6a720",
   "metadata": {},
   "outputs": [],
   "source": [
    "Green_cars5$Average_Electic_Range=as.integer(Green_cars5$Average_Electic_Range)"
   ]
  },
  {
   "cell_type": "code",
   "execution_count": 316,
   "id": "7f6e3b4f",
   "metadata": {},
   "outputs": [
    {
     "data": {
      "text/html": [
       "<table class=\"dataframe\">\n",
       "<caption>A tibble: 32 × 3</caption>\n",
       "<thead>\n",
       "\t<tr><th scope=col>Make</th><th scope=col>Car_count</th><th scope=col>Average_Electic_Range</th></tr>\n",
       "\t<tr><th scope=col>&lt;chr&gt;</th><th scope=col>&lt;int&gt;</th><th scope=col>&lt;int&gt;</th></tr>\n",
       "</thead>\n",
       "<tbody>\n",
       "\t<tr><td>AUDI                </td><td> 1734</td><td> 83</td></tr>\n",
       "\t<tr><td>AZURE DYNAMICS      </td><td>    7</td><td> 56</td></tr>\n",
       "\t<tr><td>BENTLEY             </td><td>    2</td><td> 17</td></tr>\n",
       "\t<tr><td>BMW                 </td><td> 4119</td><td> 51</td></tr>\n",
       "\t<tr><td>CADILLAC            </td><td>  109</td><td> 35</td></tr>\n",
       "\t<tr><td>CHEVROLET           </td><td> 8952</td><td>128</td></tr>\n",
       "\t<tr><td>CHRYSLER            </td><td> 1675</td><td> 32</td></tr>\n",
       "\t<tr><td>DODGE               </td><td>    1</td><td> 80</td></tr>\n",
       "\t<tr><td>FIAT                </td><td>  826</td><td> 85</td></tr>\n",
       "\t<tr><td>FISKER              </td><td>   13</td><td> 33</td></tr>\n",
       "\t<tr><td>FORD                </td><td> 3918</td><td> 24</td></tr>\n",
       "\t<tr><td>HONDA               </td><td>  773</td><td> 46</td></tr>\n",
       "\t<tr><td>HYUNDAI             </td><td> 1037</td><td> 75</td></tr>\n",
       "\t<tr><td>JAGUAR              </td><td>  190</td><td>234</td></tr>\n",
       "\t<tr><td>JEEP                </td><td>  739</td><td> 23</td></tr>\n",
       "\t<tr><td>KIA                 </td><td> 3025</td><td>114</td></tr>\n",
       "\t<tr><td>LAND ROVER          </td><td>   38</td><td> 19</td></tr>\n",
       "\t<tr><td>LINCOLN             </td><td>  105</td><td> 22</td></tr>\n",
       "\t<tr><td>MERCEDES-BENZ       </td><td>  330</td><td> 34</td></tr>\n",
       "\t<tr><td>MINI                </td><td>  304</td><td> 53</td></tr>\n",
       "\t<tr><td>MITSUBISHI          </td><td>  587</td><td> 26</td></tr>\n",
       "\t<tr><td>NISSAN              </td><td>11352</td><td>102</td></tr>\n",
       "\t<tr><td>POLESTAR            </td><td>  115</td><td>233</td></tr>\n",
       "\t<tr><td>PORSCHE             </td><td>  566</td><td> 77</td></tr>\n",
       "\t<tr><td>SMART               </td><td>  273</td><td> 62</td></tr>\n",
       "\t<tr><td>SUBARU              </td><td>   53</td><td> 17</td></tr>\n",
       "\t<tr><td>TESLA               </td><td>25825</td><td>240</td></tr>\n",
       "\t<tr><td>TH!NK               </td><td>    3</td><td>100</td></tr>\n",
       "\t<tr><td>TOYOTA              </td><td> 4057</td><td> 25</td></tr>\n",
       "\t<tr><td>VOLKSWAGEN          </td><td> 1070</td><td>106</td></tr>\n",
       "\t<tr><td>VOLVO               </td><td> 1634</td><td> 18</td></tr>\n",
       "\t<tr><td>WHEEGO ELECTRIC CARS</td><td>    3</td><td>100</td></tr>\n",
       "</tbody>\n",
       "</table>\n"
      ],
      "text/latex": [
       "A tibble: 32 × 3\n",
       "\\begin{tabular}{lll}\n",
       " Make & Car\\_count & Average\\_Electic\\_Range\\\\\n",
       " <chr> & <int> & <int>\\\\\n",
       "\\hline\n",
       "\t AUDI                 &  1734 &  83\\\\\n",
       "\t AZURE DYNAMICS       &     7 &  56\\\\\n",
       "\t BENTLEY              &     2 &  17\\\\\n",
       "\t BMW                  &  4119 &  51\\\\\n",
       "\t CADILLAC             &   109 &  35\\\\\n",
       "\t CHEVROLET            &  8952 & 128\\\\\n",
       "\t CHRYSLER             &  1675 &  32\\\\\n",
       "\t DODGE                &     1 &  80\\\\\n",
       "\t FIAT                 &   826 &  85\\\\\n",
       "\t FISKER               &    13 &  33\\\\\n",
       "\t FORD                 &  3918 &  24\\\\\n",
       "\t HONDA                &   773 &  46\\\\\n",
       "\t HYUNDAI              &  1037 &  75\\\\\n",
       "\t JAGUAR               &   190 & 234\\\\\n",
       "\t JEEP                 &   739 &  23\\\\\n",
       "\t KIA                  &  3025 & 114\\\\\n",
       "\t LAND ROVER           &    38 &  19\\\\\n",
       "\t LINCOLN              &   105 &  22\\\\\n",
       "\t MERCEDES-BENZ        &   330 &  34\\\\\n",
       "\t MINI                 &   304 &  53\\\\\n",
       "\t MITSUBISHI           &   587 &  26\\\\\n",
       "\t NISSAN               & 11352 & 102\\\\\n",
       "\t POLESTAR             &   115 & 233\\\\\n",
       "\t PORSCHE              &   566 &  77\\\\\n",
       "\t SMART                &   273 &  62\\\\\n",
       "\t SUBARU               &    53 &  17\\\\\n",
       "\t TESLA                & 25825 & 240\\\\\n",
       "\t TH!NK                &     3 & 100\\\\\n",
       "\t TOYOTA               &  4057 &  25\\\\\n",
       "\t VOLKSWAGEN           &  1070 & 106\\\\\n",
       "\t VOLVO                &  1634 &  18\\\\\n",
       "\t WHEEGO ELECTRIC CARS &     3 & 100\\\\\n",
       "\\end{tabular}\n"
      ],
      "text/markdown": [
       "\n",
       "A tibble: 32 × 3\n",
       "\n",
       "| Make &lt;chr&gt; | Car_count &lt;int&gt; | Average_Electic_Range &lt;int&gt; |\n",
       "|---|---|---|\n",
       "| AUDI                 |  1734 |  83 |\n",
       "| AZURE DYNAMICS       |     7 |  56 |\n",
       "| BENTLEY              |     2 |  17 |\n",
       "| BMW                  |  4119 |  51 |\n",
       "| CADILLAC             |   109 |  35 |\n",
       "| CHEVROLET            |  8952 | 128 |\n",
       "| CHRYSLER             |  1675 |  32 |\n",
       "| DODGE                |     1 |  80 |\n",
       "| FIAT                 |   826 |  85 |\n",
       "| FISKER               |    13 |  33 |\n",
       "| FORD                 |  3918 |  24 |\n",
       "| HONDA                |   773 |  46 |\n",
       "| HYUNDAI              |  1037 |  75 |\n",
       "| JAGUAR               |   190 | 234 |\n",
       "| JEEP                 |   739 |  23 |\n",
       "| KIA                  |  3025 | 114 |\n",
       "| LAND ROVER           |    38 |  19 |\n",
       "| LINCOLN              |   105 |  22 |\n",
       "| MERCEDES-BENZ        |   330 |  34 |\n",
       "| MINI                 |   304 |  53 |\n",
       "| MITSUBISHI           |   587 |  26 |\n",
       "| NISSAN               | 11352 | 102 |\n",
       "| POLESTAR             |   115 | 233 |\n",
       "| PORSCHE              |   566 |  77 |\n",
       "| SMART                |   273 |  62 |\n",
       "| SUBARU               |    53 |  17 |\n",
       "| TESLA                | 25825 | 240 |\n",
       "| TH!NK                |     3 | 100 |\n",
       "| TOYOTA               |  4057 |  25 |\n",
       "| VOLKSWAGEN           |  1070 | 106 |\n",
       "| VOLVO                |  1634 |  18 |\n",
       "| WHEEGO ELECTRIC CARS |     3 | 100 |\n",
       "\n"
      ],
      "text/plain": [
       "   Make                 Car_count Average_Electic_Range\n",
       "1  AUDI                  1734      83                  \n",
       "2  AZURE DYNAMICS           7      56                  \n",
       "3  BENTLEY                  2      17                  \n",
       "4  BMW                   4119      51                  \n",
       "5  CADILLAC               109      35                  \n",
       "6  CHEVROLET             8952     128                  \n",
       "7  CHRYSLER              1675      32                  \n",
       "8  DODGE                    1      80                  \n",
       "9  FIAT                   826      85                  \n",
       "10 FISKER                  13      33                  \n",
       "11 FORD                  3918      24                  \n",
       "12 HONDA                  773      46                  \n",
       "13 HYUNDAI               1037      75                  \n",
       "14 JAGUAR                 190     234                  \n",
       "15 JEEP                   739      23                  \n",
       "16 KIA                   3025     114                  \n",
       "17 LAND ROVER              38      19                  \n",
       "18 LINCOLN                105      22                  \n",
       "19 MERCEDES-BENZ          330      34                  \n",
       "20 MINI                   304      53                  \n",
       "21 MITSUBISHI             587      26                  \n",
       "22 NISSAN               11352     102                  \n",
       "23 POLESTAR               115     233                  \n",
       "24 PORSCHE                566      77                  \n",
       "25 SMART                  273      62                  \n",
       "26 SUBARU                  53      17                  \n",
       "27 TESLA                25825     240                  \n",
       "28 TH!NK                    3     100                  \n",
       "29 TOYOTA                4057      25                  \n",
       "30 VOLKSWAGEN            1070     106                  \n",
       "31 VOLVO                 1634      18                  \n",
       "32 WHEEGO ELECTRIC CARS     3     100                  "
      ]
     },
     "metadata": {},
     "output_type": "display_data"
    }
   ],
   "source": [
    "Green_cars5"
   ]
  },
  {
   "cell_type": "code",
   "execution_count": 317,
   "id": "26eee681",
   "metadata": {},
   "outputs": [
    {
     "data": {
      "text/html": [
       "<table class=\"dataframe\">\n",
       "<caption>A data.frame: 1 × 1</caption>\n",
       "<thead>\n",
       "\t<tr><th scope=col>Green_cars_total</th></tr>\n",
       "\t<tr><th scope=col>&lt;int&gt;</th></tr>\n",
       "</thead>\n",
       "<tbody>\n",
       "\t<tr><td>100269</td></tr>\n",
       "</tbody>\n",
       "</table>\n"
      ],
      "text/latex": [
       "A data.frame: 1 × 1\n",
       "\\begin{tabular}{l}\n",
       " Green\\_cars\\_total\\\\\n",
       " <int>\\\\\n",
       "\\hline\n",
       "\t 100269\\\\\n",
       "\\end{tabular}\n"
      ],
      "text/markdown": [
       "\n",
       "A data.frame: 1 × 1\n",
       "\n",
       "| Green_cars_total &lt;int&gt; |\n",
       "|---|\n",
       "| 100269 |\n",
       "\n"
      ],
      "text/plain": [
       "  Green_cars_total\n",
       "1 100269          "
      ]
     },
     "metadata": {},
     "output_type": "display_data"
    }
   ],
   "source": [
    "summarise(Green_cars,Green_cars_total=n())"
   ]
  },
  {
   "cell_type": "markdown",
   "id": "39947a4d",
   "metadata": {},
   "source": [
    "# The total of cars on the original data set is 100,269"
   ]
  },
  {
   "cell_type": "code",
   "execution_count": 318,
   "id": "30a69328",
   "metadata": {},
   "outputs": [
    {
     "data": {
      "text/html": [
       "<table class=\"dataframe\">\n",
       "<caption>A data.frame: 1 × 1</caption>\n",
       "<thead>\n",
       "\t<tr><th scope=col>Green_cars1_total</th></tr>\n",
       "\t<tr><th scope=col>&lt;int&gt;</th></tr>\n",
       "</thead>\n",
       "<tbody>\n",
       "\t<tr><td>73435</td></tr>\n",
       "</tbody>\n",
       "</table>\n"
      ],
      "text/latex": [
       "A data.frame: 1 × 1\n",
       "\\begin{tabular}{l}\n",
       " Green\\_cars1\\_total\\\\\n",
       " <int>\\\\\n",
       "\\hline\n",
       "\t 73435\\\\\n",
       "\\end{tabular}\n"
      ],
      "text/markdown": [
       "\n",
       "A data.frame: 1 × 1\n",
       "\n",
       "| Green_cars1_total &lt;int&gt; |\n",
       "|---|\n",
       "| 73435 |\n",
       "\n"
      ],
      "text/plain": [
       "  Green_cars1_total\n",
       "1 73435            "
      ]
     },
     "metadata": {},
     "output_type": "display_data"
    }
   ],
   "source": [
    "summarise(Green_cars1,Green_cars1_total=n())"
   ]
  },
  {
   "cell_type": "markdown",
   "id": "1ab1a68a",
   "metadata": {},
   "source": [
    "# the total of cars on the reviewed data set is 73,435"
   ]
  },
  {
   "cell_type": "code",
   "execution_count": 319,
   "id": "e62473b9",
   "metadata": {},
   "outputs": [],
   "source": [
    "Green_cars7=Green_cars1 %>% group_by(Model.Year) %>% summarize(Car_count = n())"
   ]
  },
  {
   "cell_type": "code",
   "execution_count": 320,
   "id": "664dd053",
   "metadata": {},
   "outputs": [
    {
     "data": {
      "text/html": [
       "<table class=\"dataframe\">\n",
       "<caption>A tibble: 19 × 2</caption>\n",
       "<thead>\n",
       "\t<tr><th scope=col>Model.Year</th><th scope=col>Car_count</th></tr>\n",
       "\t<tr><th scope=col>&lt;int&gt;</th><th scope=col>&lt;int&gt;</th></tr>\n",
       "</thead>\n",
       "<tbody>\n",
       "\t<tr><td>1993</td><td>    1</td></tr>\n",
       "\t<tr><td>1998</td><td>    1</td></tr>\n",
       "\t<tr><td>1999</td><td>    3</td></tr>\n",
       "\t<tr><td>2000</td><td>   10</td></tr>\n",
       "\t<tr><td>2002</td><td>    2</td></tr>\n",
       "\t<tr><td>2008</td><td>   24</td></tr>\n",
       "\t<tr><td>2010</td><td>   25</td></tr>\n",
       "\t<tr><td>2011</td><td>  856</td></tr>\n",
       "\t<tr><td>2012</td><td> 1721</td></tr>\n",
       "\t<tr><td>2013</td><td> 4804</td></tr>\n",
       "\t<tr><td>2014</td><td> 3771</td></tr>\n",
       "\t<tr><td>2015</td><td> 5032</td></tr>\n",
       "\t<tr><td>2016</td><td> 6376</td></tr>\n",
       "\t<tr><td>2017</td><td> 8690</td></tr>\n",
       "\t<tr><td>2018</td><td>14270</td></tr>\n",
       "\t<tr><td>2019</td><td>10747</td></tr>\n",
       "\t<tr><td>2020</td><td>11126</td></tr>\n",
       "\t<tr><td>2021</td><td> 3935</td></tr>\n",
       "\t<tr><td>2022</td><td> 2041</td></tr>\n",
       "</tbody>\n",
       "</table>\n"
      ],
      "text/latex": [
       "A tibble: 19 × 2\n",
       "\\begin{tabular}{ll}\n",
       " Model.Year & Car\\_count\\\\\n",
       " <int> & <int>\\\\\n",
       "\\hline\n",
       "\t 1993 &     1\\\\\n",
       "\t 1998 &     1\\\\\n",
       "\t 1999 &     3\\\\\n",
       "\t 2000 &    10\\\\\n",
       "\t 2002 &     2\\\\\n",
       "\t 2008 &    24\\\\\n",
       "\t 2010 &    25\\\\\n",
       "\t 2011 &   856\\\\\n",
       "\t 2012 &  1721\\\\\n",
       "\t 2013 &  4804\\\\\n",
       "\t 2014 &  3771\\\\\n",
       "\t 2015 &  5032\\\\\n",
       "\t 2016 &  6376\\\\\n",
       "\t 2017 &  8690\\\\\n",
       "\t 2018 & 14270\\\\\n",
       "\t 2019 & 10747\\\\\n",
       "\t 2020 & 11126\\\\\n",
       "\t 2021 &  3935\\\\\n",
       "\t 2022 &  2041\\\\\n",
       "\\end{tabular}\n"
      ],
      "text/markdown": [
       "\n",
       "A tibble: 19 × 2\n",
       "\n",
       "| Model.Year &lt;int&gt; | Car_count &lt;int&gt; |\n",
       "|---|---|\n",
       "| 1993 |     1 |\n",
       "| 1998 |     1 |\n",
       "| 1999 |     3 |\n",
       "| 2000 |    10 |\n",
       "| 2002 |     2 |\n",
       "| 2008 |    24 |\n",
       "| 2010 |    25 |\n",
       "| 2011 |   856 |\n",
       "| 2012 |  1721 |\n",
       "| 2013 |  4804 |\n",
       "| 2014 |  3771 |\n",
       "| 2015 |  5032 |\n",
       "| 2016 |  6376 |\n",
       "| 2017 |  8690 |\n",
       "| 2018 | 14270 |\n",
       "| 2019 | 10747 |\n",
       "| 2020 | 11126 |\n",
       "| 2021 |  3935 |\n",
       "| 2022 |  2041 |\n",
       "\n"
      ],
      "text/plain": [
       "   Model.Year Car_count\n",
       "1  1993           1    \n",
       "2  1998           1    \n",
       "3  1999           3    \n",
       "4  2000          10    \n",
       "5  2002           2    \n",
       "6  2008          24    \n",
       "7  2010          25    \n",
       "8  2011         856    \n",
       "9  2012        1721    \n",
       "10 2013        4804    \n",
       "11 2014        3771    \n",
       "12 2015        5032    \n",
       "13 2016        6376    \n",
       "14 2017        8690    \n",
       "15 2018       14270    \n",
       "16 2019       10747    \n",
       "17 2020       11126    \n",
       "18 2021        3935    \n",
       "19 2022        2041    "
      ]
     },
     "metadata": {},
     "output_type": "display_data"
    }
   ],
   "source": [
    "Green_cars7"
   ]
  },
  {
   "cell_type": "code",
   "execution_count": 321,
   "id": "50bc5b01",
   "metadata": {},
   "outputs": [
    {
     "data": {
      "text/html": [
       "<table class=\"dataframe\">\n",
       "<caption>A tibble: 12 × 2</caption>\n",
       "<thead>\n",
       "\t<tr><th scope=col>Model.Year</th><th scope=col>Car_count</th></tr>\n",
       "\t<tr><th scope=col>&lt;int&gt;</th><th scope=col>&lt;int&gt;</th></tr>\n",
       "</thead>\n",
       "<tbody>\n",
       "\t<tr><td>2011</td><td>  856</td></tr>\n",
       "\t<tr><td>2012</td><td> 1721</td></tr>\n",
       "\t<tr><td>2013</td><td> 4804</td></tr>\n",
       "\t<tr><td>2014</td><td> 3771</td></tr>\n",
       "\t<tr><td>2015</td><td> 5032</td></tr>\n",
       "\t<tr><td>2016</td><td> 6376</td></tr>\n",
       "\t<tr><td>2017</td><td> 9787</td></tr>\n",
       "\t<tr><td>2018</td><td>14270</td></tr>\n",
       "\t<tr><td>2019</td><td>10751</td></tr>\n",
       "\t<tr><td>2020</td><td>11178</td></tr>\n",
       "\t<tr><td>2021</td><td>19677</td></tr>\n",
       "\t<tr><td>2022</td><td>11980</td></tr>\n",
       "</tbody>\n",
       "</table>\n"
      ],
      "text/latex": [
       "A tibble: 12 × 2\n",
       "\\begin{tabular}{ll}\n",
       " Model.Year & Car\\_count\\\\\n",
       " <int> & <int>\\\\\n",
       "\\hline\n",
       "\t 2011 &   856\\\\\n",
       "\t 2012 &  1721\\\\\n",
       "\t 2013 &  4804\\\\\n",
       "\t 2014 &  3771\\\\\n",
       "\t 2015 &  5032\\\\\n",
       "\t 2016 &  6376\\\\\n",
       "\t 2017 &  9787\\\\\n",
       "\t 2018 & 14270\\\\\n",
       "\t 2019 & 10751\\\\\n",
       "\t 2020 & 11178\\\\\n",
       "\t 2021 & 19677\\\\\n",
       "\t 2022 & 11980\\\\\n",
       "\\end{tabular}\n"
      ],
      "text/markdown": [
       "\n",
       "A tibble: 12 × 2\n",
       "\n",
       "| Model.Year &lt;int&gt; | Car_count &lt;int&gt; |\n",
       "|---|---|\n",
       "| 2011 |   856 |\n",
       "| 2012 |  1721 |\n",
       "| 2013 |  4804 |\n",
       "| 2014 |  3771 |\n",
       "| 2015 |  5032 |\n",
       "| 2016 |  6376 |\n",
       "| 2017 |  9787 |\n",
       "| 2018 | 14270 |\n",
       "| 2019 | 10751 |\n",
       "| 2020 | 11178 |\n",
       "| 2021 | 19677 |\n",
       "| 2022 | 11980 |\n",
       "\n"
      ],
      "text/plain": [
       "   Model.Year Car_count\n",
       "1  2011         856    \n",
       "2  2012        1721    \n",
       "3  2013        4804    \n",
       "4  2014        3771    \n",
       "5  2015        5032    \n",
       "6  2016        6376    \n",
       "7  2017        9787    \n",
       "8  2018       14270    \n",
       "9  2019       10751    \n",
       "10 2020       11178    \n",
       "11 2021       19677    \n",
       "12 2022       11980    "
      ]
     },
     "metadata": {},
     "output_type": "display_data"
    }
   ],
   "source": [
    "Green_cars3"
   ]
  },
  {
   "cell_type": "markdown",
   "id": "45cc33cf",
   "metadata": {},
   "source": [
    "# There is a 26,834 difference between the total count of cars and the total count of cars tha have information on electric range. This difference affects the tear count disproportionately being years 2021 and 2022 the most affected in count. Nevertheless, those values needed to be dropped in order to get an accurate average on electric range "
   ]
  },
  {
   "cell_type": "code",
   "execution_count": 322,
   "id": "764e6690",
   "metadata": {},
   "outputs": [],
   "source": [
    "Green_cars8=Green_cars %>% group_by(Make) %>% summarise(Car_count= n())"
   ]
  },
  {
   "cell_type": "code",
   "execution_count": 401,
   "id": "0a43d9a8",
   "metadata": {},
   "outputs": [
    {
     "data": {
      "text/html": [
       "<table class=\"dataframe\">\n",
       "<caption>A tibble: 34 × 2</caption>\n",
       "<thead>\n",
       "\t<tr><th scope=col>Make</th><th scope=col>Car_count</th></tr>\n",
       "\t<tr><th scope=col>&lt;chr&gt;</th><th scope=col>&lt;int&gt;</th></tr>\n",
       "</thead>\n",
       "<tbody>\n",
       "\t<tr><td>AUDI                </td><td> 2009</td></tr>\n",
       "\t<tr><td>AZURE DYNAMICS      </td><td>    7</td></tr>\n",
       "\t<tr><td>BENTLEY             </td><td>    2</td></tr>\n",
       "\t<tr><td>BMW                 </td><td> 4187</td></tr>\n",
       "\t<tr><td>CADILLAC            </td><td>  109</td></tr>\n",
       "\t<tr><td>CHEVROLET           </td><td> 9499</td></tr>\n",
       "\t<tr><td>CHRYSLER            </td><td> 1675</td></tr>\n",
       "\t<tr><td>DODGE               </td><td>    1</td></tr>\n",
       "\t<tr><td>FIAT                </td><td>  826</td></tr>\n",
       "\t<tr><td>FISKER              </td><td>   13</td></tr>\n",
       "\t<tr><td>FORD                </td><td> 5966</td></tr>\n",
       "\t<tr><td>HONDA               </td><td>  774</td></tr>\n",
       "\t<tr><td>HYUNDAI             </td><td> 1485</td></tr>\n",
       "\t<tr><td>JAGUAR              </td><td>  205</td></tr>\n",
       "\t<tr><td>JEEP                </td><td>  739</td></tr>\n",
       "\t<tr><td>KIA                 </td><td> 4990</td></tr>\n",
       "\t<tr><td>LAND ROVER          </td><td>   38</td></tr>\n",
       "\t<tr><td>LINCOLN             </td><td>  105</td></tr>\n",
       "\t<tr><td>LUCID MOTORS        </td><td>   23</td></tr>\n",
       "\t<tr><td>MERCEDES-BENZ       </td><td>  369</td></tr>\n",
       "\t<tr><td>MINI                </td><td>  493</td></tr>\n",
       "\t<tr><td>MITSUBISHI          </td><td>  587</td></tr>\n",
       "\t<tr><td>NISSAN              </td><td>12791</td></tr>\n",
       "\t<tr><td>POLESTAR            </td><td>  365</td></tr>\n",
       "\t<tr><td>PORSCHE             </td><td>  722</td></tr>\n",
       "\t<tr><td>RIVIAN              </td><td>   83</td></tr>\n",
       "\t<tr><td>SMART               </td><td>  274</td></tr>\n",
       "\t<tr><td>SUBARU              </td><td>   53</td></tr>\n",
       "\t<tr><td>TESLA               </td><td>43681</td></tr>\n",
       "\t<tr><td>TH!NK               </td><td>    3</td></tr>\n",
       "\t<tr><td>TOYOTA              </td><td> 4057</td></tr>\n",
       "\t<tr><td>VOLKSWAGEN          </td><td> 2020</td></tr>\n",
       "\t<tr><td>VOLVO               </td><td> 2115</td></tr>\n",
       "\t<tr><td>WHEEGO ELECTRIC CARS</td><td>    3</td></tr>\n",
       "</tbody>\n",
       "</table>\n"
      ],
      "text/latex": [
       "A tibble: 34 × 2\n",
       "\\begin{tabular}{ll}\n",
       " Make & Car\\_count\\\\\n",
       " <chr> & <int>\\\\\n",
       "\\hline\n",
       "\t AUDI                 &  2009\\\\\n",
       "\t AZURE DYNAMICS       &     7\\\\\n",
       "\t BENTLEY              &     2\\\\\n",
       "\t BMW                  &  4187\\\\\n",
       "\t CADILLAC             &   109\\\\\n",
       "\t CHEVROLET            &  9499\\\\\n",
       "\t CHRYSLER             &  1675\\\\\n",
       "\t DODGE                &     1\\\\\n",
       "\t FIAT                 &   826\\\\\n",
       "\t FISKER               &    13\\\\\n",
       "\t FORD                 &  5966\\\\\n",
       "\t HONDA                &   774\\\\\n",
       "\t HYUNDAI              &  1485\\\\\n",
       "\t JAGUAR               &   205\\\\\n",
       "\t JEEP                 &   739\\\\\n",
       "\t KIA                  &  4990\\\\\n",
       "\t LAND ROVER           &    38\\\\\n",
       "\t LINCOLN              &   105\\\\\n",
       "\t LUCID MOTORS         &    23\\\\\n",
       "\t MERCEDES-BENZ        &   369\\\\\n",
       "\t MINI                 &   493\\\\\n",
       "\t MITSUBISHI           &   587\\\\\n",
       "\t NISSAN               & 12791\\\\\n",
       "\t POLESTAR             &   365\\\\\n",
       "\t PORSCHE              &   722\\\\\n",
       "\t RIVIAN               &    83\\\\\n",
       "\t SMART                &   274\\\\\n",
       "\t SUBARU               &    53\\\\\n",
       "\t TESLA                & 43681\\\\\n",
       "\t TH!NK                &     3\\\\\n",
       "\t TOYOTA               &  4057\\\\\n",
       "\t VOLKSWAGEN           &  2020\\\\\n",
       "\t VOLVO                &  2115\\\\\n",
       "\t WHEEGO ELECTRIC CARS &     3\\\\\n",
       "\\end{tabular}\n"
      ],
      "text/markdown": [
       "\n",
       "A tibble: 34 × 2\n",
       "\n",
       "| Make &lt;chr&gt; | Car_count &lt;int&gt; |\n",
       "|---|---|\n",
       "| AUDI                 |  2009 |\n",
       "| AZURE DYNAMICS       |     7 |\n",
       "| BENTLEY              |     2 |\n",
       "| BMW                  |  4187 |\n",
       "| CADILLAC             |   109 |\n",
       "| CHEVROLET            |  9499 |\n",
       "| CHRYSLER             |  1675 |\n",
       "| DODGE                |     1 |\n",
       "| FIAT                 |   826 |\n",
       "| FISKER               |    13 |\n",
       "| FORD                 |  5966 |\n",
       "| HONDA                |   774 |\n",
       "| HYUNDAI              |  1485 |\n",
       "| JAGUAR               |   205 |\n",
       "| JEEP                 |   739 |\n",
       "| KIA                  |  4990 |\n",
       "| LAND ROVER           |    38 |\n",
       "| LINCOLN              |   105 |\n",
       "| LUCID MOTORS         |    23 |\n",
       "| MERCEDES-BENZ        |   369 |\n",
       "| MINI                 |   493 |\n",
       "| MITSUBISHI           |   587 |\n",
       "| NISSAN               | 12791 |\n",
       "| POLESTAR             |   365 |\n",
       "| PORSCHE              |   722 |\n",
       "| RIVIAN               |    83 |\n",
       "| SMART                |   274 |\n",
       "| SUBARU               |    53 |\n",
       "| TESLA                | 43681 |\n",
       "| TH!NK                |     3 |\n",
       "| TOYOTA               |  4057 |\n",
       "| VOLKSWAGEN           |  2020 |\n",
       "| VOLVO                |  2115 |\n",
       "| WHEEGO ELECTRIC CARS |     3 |\n",
       "\n"
      ],
      "text/plain": [
       "   Make                 Car_count\n",
       "1  AUDI                  2009    \n",
       "2  AZURE DYNAMICS           7    \n",
       "3  BENTLEY                  2    \n",
       "4  BMW                   4187    \n",
       "5  CADILLAC               109    \n",
       "6  CHEVROLET             9499    \n",
       "7  CHRYSLER              1675    \n",
       "8  DODGE                    1    \n",
       "9  FIAT                   826    \n",
       "10 FISKER                  13    \n",
       "11 FORD                  5966    \n",
       "12 HONDA                  774    \n",
       "13 HYUNDAI               1485    \n",
       "14 JAGUAR                 205    \n",
       "15 JEEP                   739    \n",
       "16 KIA                   4990    \n",
       "17 LAND ROVER              38    \n",
       "18 LINCOLN                105    \n",
       "19 LUCID MOTORS            23    \n",
       "20 MERCEDES-BENZ          369    \n",
       "21 MINI                   493    \n",
       "22 MITSUBISHI             587    \n",
       "23 NISSAN               12791    \n",
       "24 POLESTAR               365    \n",
       "25 PORSCHE                722    \n",
       "26 RIVIAN                  83    \n",
       "27 SMART                  274    \n",
       "28 SUBARU                  53    \n",
       "29 TESLA                43681    \n",
       "30 TH!NK                    3    \n",
       "31 TOYOTA                4057    \n",
       "32 VOLKSWAGEN            2020    \n",
       "33 VOLVO                 2115    \n",
       "34 WHEEGO ELECTRIC CARS     3    "
      ]
     },
     "metadata": {},
     "output_type": "display_data"
    }
   ],
   "source": [
    "Green_cars8"
   ]
  },
  {
   "cell_type": "markdown",
   "id": "d44ef6aa",
   "metadata": {},
   "source": [
    "# There are also two brands that has no electric range informaton : Lucid Motors and Rivian and they account for 106 units."
   ]
  },
  {
   "cell_type": "markdown",
   "id": "cb913783",
   "metadata": {},
   "source": [
    " ggplot(Green_cars5, aes(x = \"\", y =Average_Electic_Range ))+geom_boxplot()"
   ]
  },
  {
   "cell_type": "code",
   "execution_count": 402,
   "id": "15361417",
   "metadata": {},
   "outputs": [
    {
     "data": {
      "text/plain": [
       "   Min. 1st Qu.  Median    Mean 3rd Qu.    Max. \n",
       "  17.00   25.75   54.50   73.44  100.00  240.00 "
      ]
     },
     "metadata": {},
     "output_type": "display_data"
    }
   ],
   "source": [
    "summary(Green_cars5$Average_Electic_Range)"
   ]
  },
  {
   "cell_type": "markdown",
   "id": "82266220",
   "metadata": {},
   "source": [
    "# According to the data the average electric range for green cars is arround 74."
   ]
  },
  {
   "cell_type": "markdown",
   "id": "2fe8d883",
   "metadata": {},
   "source": [
    "## Testing for assumptions"
   ]
  },
  {
   "cell_type": "markdown",
   "id": "9683beb2",
   "metadata": {},
   "source": [
    "## Sample Size"
   ]
  },
  {
   "cell_type": "markdown",
   "id": "e5a92985",
   "metadata": {},
   "source": [
    "There are more than 20 entries for this test therefore this assumption has been met"
   ]
  },
  {
   "cell_type": "markdown",
   "id": "bb4d051a",
   "metadata": {},
   "source": [
    "## Testing for Normality"
   ]
  },
  {
   "cell_type": "code",
   "execution_count": 403,
   "id": "0b198654",
   "metadata": {},
   "outputs": [],
   "source": [
    "subset3=c(\"Car_count\",\"Average_Electic_Range\")"
   ]
  },
  {
   "cell_type": "code",
   "execution_count": 404,
   "id": "5fd121f2",
   "metadata": {},
   "outputs": [],
   "source": [
    "Green_cars5_dependent=Green_cars5[subset3]"
   ]
  },
  {
   "cell_type": "code",
   "execution_count": 405,
   "id": "f2e3bf05",
   "metadata": {},
   "outputs": [],
   "source": [
    "Green_cars5_dependent2=as.matrix(Green_cars5_dependent)"
   ]
  },
  {
   "cell_type": "code",
   "execution_count": 406,
   "id": "2119e47d",
   "metadata": {},
   "outputs": [
    {
     "data": {
      "text/plain": [
       "\n",
       "\tShapiro-Wilk normality test\n",
       "\n",
       "data:  Z\n",
       "W = 0.51095, p-value = 3.393e-09\n"
      ]
     },
     "metadata": {},
     "output_type": "display_data"
    }
   ],
   "source": [
    "mshapiro.test(t(Green_cars5_dependent2))"
   ]
  },
  {
   "cell_type": "markdown",
   "id": "29ac94fe",
   "metadata": {},
   "source": [
    "The multivariate normality assumption has not been met. We will try some data transformation to se if the data can be used"
   ]
  },
  {
   "cell_type": "code",
   "execution_count": 407,
   "id": "209bb614",
   "metadata": {},
   "outputs": [
    {
     "data": {
      "image/png": "[encoded data removed]",
      "text/plain": [
       "Plot with title \"\""
      ]
     },
     "metadata": {
      "image/png": {
       "height": 420,
       "width": 420
      }
     },
     "output_type": "display_data"
    }
   ],
   "source": [
    "plotNormalHistogram(Green_cars5$Car_count)"
   ]
  },
  {
   "cell_type": "markdown",
   "id": "c0588e65",
   "metadata": {},
   "source": [
    "This graph seemes positively skewed. We will try the log function to se if it shifsts to a more normal distribution"
   ]
  },
  {
   "cell_type": "code",
   "execution_count": 408,
   "id": "194b6e82",
   "metadata": {},
   "outputs": [],
   "source": [
    "Green_cars5$Car_countLOG <-log(Green_cars5$Car_count)"
   ]
  },
  {
   "cell_type": "code",
   "execution_count": 409,
   "id": "dc4ce6be",
   "metadata": {},
   "outputs": [
    {
     "data": {
      "image/png": "[encoded data removed]",
      "text/plain": [
       "Plot with title \"\""
      ]
     },
     "metadata": {
      "image/png": {
       "height": 420,
       "width": 420
      }
     },
     "output_type": "display_data"
    }
   ],
   "source": [
    "plotNormalHistogram(Green_cars5$Car_countLOG)"
   ]
  },
  {
   "cell_type": "markdown",
   "id": "53fee22b",
   "metadata": {},
   "source": [
    "This graph is more normaly distributed"
   ]
  },
  {
   "cell_type": "code",
   "execution_count": 410,
   "id": "8df1e7e0",
   "metadata": {},
   "outputs": [
    {
     "data": {
      "image/png": "[encoded data removed]",
      "text/plain": [
       "Plot with title \"\""
      ]
     },
     "metadata": {
      "image/png": {
       "height": 420,
       "width": 420
      }
     },
     "output_type": "display_data"
    }
   ],
   "source": [
    "plotNormalHistogram(Green_cars5$Average_Electic_Range)"
   ]
  },
  {
   "cell_type": "markdown",
   "id": "95a1e9d6",
   "metadata": {},
   "source": [
    "This graph looks positively skewed. We will try the log function to see if we can get a more normal distribution"
   ]
  },
  {
   "cell_type": "code",
   "execution_count": 411,
   "id": "e6745cfd",
   "metadata": {},
   "outputs": [],
   "source": [
    "Green_cars5$Average_Electic_RangeLOG=log(Green_cars5$Average_Electic_Range)"
   ]
  },
  {
   "cell_type": "code",
   "execution_count": 412,
   "id": "bee270b2",
   "metadata": {},
   "outputs": [
    {
     "data": {
      "image/png": "[encoded data removed]",
      "text/plain": [
       "Plot with title \"\""
      ]
     },
     "metadata": {
      "image/png": {
       "height": 420,
       "width": 420
      }
     },
     "output_type": "display_data"
    }
   ],
   "source": [
    "plotNormalHistogram(Green_cars5$Average_Electic_RangeLOG)"
   ]
  },
  {
   "cell_type": "markdown",
   "id": "6b2b1554",
   "metadata": {},
   "source": [
    "This graph looks mor normaly distributed"
   ]
  },
  {
   "cell_type": "code",
   "execution_count": 413,
   "id": "0c179f99",
   "metadata": {},
   "outputs": [
    {
     "data": {
      "text/html": [
       "<table class=\"dataframe\">\n",
       "<caption>A tibble: 6 × 5</caption>\n",
       "<thead>\n",
       "\t<tr><th scope=col>Make</th><th scope=col>Car_count</th><th scope=col>Average_Electic_Range</th><th scope=col>Car_countLOG</th><th scope=col>Average_Electic_RangeLOG</th></tr>\n",
       "\t<tr><th scope=col>&lt;chr&gt;</th><th scope=col>&lt;int&gt;</th><th scope=col>&lt;int&gt;</th><th scope=col>&lt;dbl&gt;</th><th scope=col>&lt;dbl&gt;</th></tr>\n",
       "</thead>\n",
       "<tbody>\n",
       "\t<tr><td>AUDI          </td><td>1734</td><td> 83</td><td>7.4581862</td><td>4.418841</td></tr>\n",
       "\t<tr><td>AZURE DYNAMICS</td><td>   7</td><td> 56</td><td>1.9459101</td><td>4.025352</td></tr>\n",
       "\t<tr><td>BENTLEY       </td><td>   2</td><td> 17</td><td>0.6931472</td><td>2.833213</td></tr>\n",
       "\t<tr><td>BMW           </td><td>4119</td><td> 51</td><td>8.3233657</td><td>3.931826</td></tr>\n",
       "\t<tr><td>CADILLAC      </td><td> 109</td><td> 35</td><td>4.6913479</td><td>3.555348</td></tr>\n",
       "\t<tr><td>CHEVROLET     </td><td>8952</td><td>128</td><td>9.0996322</td><td>4.852030</td></tr>\n",
       "</tbody>\n",
       "</table>\n"
      ],
      "text/latex": [
       "A tibble: 6 × 5\n",
       "\\begin{tabular}{lllll}\n",
       " Make & Car\\_count & Average\\_Electic\\_Range & Car\\_countLOG & Average\\_Electic\\_RangeLOG\\\\\n",
       " <chr> & <int> & <int> & <dbl> & <dbl>\\\\\n",
       "\\hline\n",
       "\t AUDI           & 1734 &  83 & 7.4581862 & 4.418841\\\\\n",
       "\t AZURE DYNAMICS &    7 &  56 & 1.9459101 & 4.025352\\\\\n",
       "\t BENTLEY        &    2 &  17 & 0.6931472 & 2.833213\\\\\n",
       "\t BMW            & 4119 &  51 & 8.3233657 & 3.931826\\\\\n",
       "\t CADILLAC       &  109 &  35 & 4.6913479 & 3.555348\\\\\n",
       "\t CHEVROLET      & 8952 & 128 & 9.0996322 & 4.852030\\\\\n",
       "\\end{tabular}\n"
      ],
      "text/markdown": [
       "\n",
       "A tibble: 6 × 5\n",
       "\n",
       "| Make &lt;chr&gt; | Car_count &lt;int&gt; | Average_Electic_Range &lt;int&gt; | Car_countLOG &lt;dbl&gt; | Average_Electic_RangeLOG &lt;dbl&gt; |\n",
       "|---|---|---|---|---|\n",
       "| AUDI           | 1734 |  83 | 7.4581862 | 4.418841 |\n",
       "| AZURE DYNAMICS |    7 |  56 | 1.9459101 | 4.025352 |\n",
       "| BENTLEY        |    2 |  17 | 0.6931472 | 2.833213 |\n",
       "| BMW            | 4119 |  51 | 8.3233657 | 3.931826 |\n",
       "| CADILLAC       |  109 |  35 | 4.6913479 | 3.555348 |\n",
       "| CHEVROLET      | 8952 | 128 | 9.0996322 | 4.852030 |\n",
       "\n"
      ],
      "text/plain": [
       "  Make           Car_count Average_Electic_Range Car_countLOG\n",
       "1 AUDI           1734       83                   7.4581862   \n",
       "2 AZURE DYNAMICS    7       56                   1.9459101   \n",
       "3 BENTLEY           2       17                   0.6931472   \n",
       "4 BMW            4119       51                   8.3233657   \n",
       "5 CADILLAC        109       35                   4.6913479   \n",
       "6 CHEVROLET      8952      128                   9.0996322   \n",
       "  Average_Electic_RangeLOG\n",
       "1 4.418841                \n",
       "2 4.025352                \n",
       "3 2.833213                \n",
       "4 3.931826                \n",
       "5 3.555348                \n",
       "6 4.852030                "
      ]
     },
     "metadata": {},
     "output_type": "display_data"
    },
    {
     "name": "stdout",
     "output_type": "stream",
     "text": [
      "tibble [32 x 5] (S3: tbl_df/tbl/data.frame)\n",
      " $ Make                    : chr [1:32] \"AUDI\" \"AZURE DYNAMICS\" \"BENTLEY\" \"BMW\" ...\n",
      " $ Car_count               : int [1:32] 1734 7 2 4119 109 8952 1675 1 826 13 ...\n",
      " $ Average_Electic_Range   : int [1:32] 83 56 17 51 35 128 32 80 85 33 ...\n",
      " $ Car_countLOG            : num [1:32] 7.458 1.946 0.693 8.323 4.691 ...\n",
      " $ Average_Electic_RangeLOG: num [1:32] 4.42 4.03 2.83 3.93 3.56 ...\n"
     ]
    }
   ],
   "source": [
    "head(Green_cars5)\n",
    "str(Green_cars5)"
   ]
  },
  {
   "cell_type": "code",
   "execution_count": 346,
   "id": "315b79e9",
   "metadata": {},
   "outputs": [
    {
     "data": {
      "text/html": [
       "<table class=\"dataframe\">\n",
       "<caption>A tibble: 32 × 2</caption>\n",
       "<thead>\n",
       "\t<tr><th scope=col>Car_countLOG</th><th scope=col>Average_Electic_RangeLOG</th></tr>\n",
       "\t<tr><th scope=col>&lt;dbl&gt;</th><th scope=col>&lt;dbl&gt;</th></tr>\n",
       "</thead>\n",
       "<tbody>\n",
       "\t<tr><td> 7.4581862</td><td>4.418841</td></tr>\n",
       "\t<tr><td> 1.9459101</td><td>4.025352</td></tr>\n",
       "\t<tr><td> 0.6931472</td><td>2.833213</td></tr>\n",
       "\t<tr><td> 8.3233657</td><td>3.931826</td></tr>\n",
       "\t<tr><td> 4.6913479</td><td>3.555348</td></tr>\n",
       "\t<tr><td> 9.0996322</td><td>4.852030</td></tr>\n",
       "\t<tr><td> 7.4235684</td><td>3.465736</td></tr>\n",
       "\t<tr><td> 0.0000000</td><td>4.382027</td></tr>\n",
       "\t<tr><td> 6.7165948</td><td>4.442651</td></tr>\n",
       "\t<tr><td> 2.5649494</td><td>3.496508</td></tr>\n",
       "\t<tr><td> 8.2733366</td><td>3.178054</td></tr>\n",
       "\t<tr><td> 6.6502790</td><td>3.828641</td></tr>\n",
       "\t<tr><td> 6.9440872</td><td>4.317488</td></tr>\n",
       "\t<tr><td> 5.2470241</td><td>5.455321</td></tr>\n",
       "\t<tr><td> 6.6052979</td><td>3.135494</td></tr>\n",
       "\t<tr><td> 8.0146664</td><td>4.736198</td></tr>\n",
       "\t<tr><td> 3.6375862</td><td>2.944439</td></tr>\n",
       "\t<tr><td> 4.6539604</td><td>3.091042</td></tr>\n",
       "\t<tr><td> 5.7990927</td><td>3.526361</td></tr>\n",
       "\t<tr><td> 5.7170277</td><td>3.970292</td></tr>\n",
       "\t<tr><td> 6.3750248</td><td>3.258097</td></tr>\n",
       "\t<tr><td> 9.3371492</td><td>4.624973</td></tr>\n",
       "\t<tr><td> 4.7449321</td><td>5.451038</td></tr>\n",
       "\t<tr><td> 6.3385941</td><td>4.343805</td></tr>\n",
       "\t<tr><td> 5.6094718</td><td>4.127134</td></tr>\n",
       "\t<tr><td> 3.9702919</td><td>2.833213</td></tr>\n",
       "\t<tr><td>10.1590983</td><td>5.480639</td></tr>\n",
       "\t<tr><td> 1.0986123</td><td>4.605170</td></tr>\n",
       "\t<tr><td> 8.3081991</td><td>3.218876</td></tr>\n",
       "\t<tr><td> 6.9754139</td><td>4.663439</td></tr>\n",
       "\t<tr><td> 7.3987863</td><td>2.890372</td></tr>\n",
       "\t<tr><td> 1.0986123</td><td>4.605170</td></tr>\n",
       "</tbody>\n",
       "</table>\n"
      ],
      "text/latex": [
       "A tibble: 32 × 2\n",
       "\\begin{tabular}{ll}\n",
       " Car\\_countLOG & Average\\_Electic\\_RangeLOG\\\\\n",
       " <dbl> & <dbl>\\\\\n",
       "\\hline\n",
       "\t  7.4581862 & 4.418841\\\\\n",
       "\t  1.9459101 & 4.025352\\\\\n",
       "\t  0.6931472 & 2.833213\\\\\n",
       "\t  8.3233657 & 3.931826\\\\\n",
       "\t  4.6913479 & 3.555348\\\\\n",
       "\t  9.0996322 & 4.852030\\\\\n",
       "\t  7.4235684 & 3.465736\\\\\n",
       "\t  0.0000000 & 4.382027\\\\\n",
       "\t  6.7165948 & 4.442651\\\\\n",
       "\t  2.5649494 & 3.496508\\\\\n",
       "\t  8.2733366 & 3.178054\\\\\n",
       "\t  6.6502790 & 3.828641\\\\\n",
       "\t  6.9440872 & 4.317488\\\\\n",
       "\t  5.2470241 & 5.455321\\\\\n",
       "\t  6.6052979 & 3.135494\\\\\n",
       "\t  8.0146664 & 4.736198\\\\\n",
       "\t  3.6375862 & 2.944439\\\\\n",
       "\t  4.6539604 & 3.091042\\\\\n",
       "\t  5.7990927 & 3.526361\\\\\n",
       "\t  5.7170277 & 3.970292\\\\\n",
       "\t  6.3750248 & 3.258097\\\\\n",
       "\t  9.3371492 & 4.624973\\\\\n",
       "\t  4.7449321 & 5.451038\\\\\n",
       "\t  6.3385941 & 4.343805\\\\\n",
       "\t  5.6094718 & 4.127134\\\\\n",
       "\t  3.9702919 & 2.833213\\\\\n",
       "\t 10.1590983 & 5.480639\\\\\n",
       "\t  1.0986123 & 4.605170\\\\\n",
       "\t  8.3081991 & 3.218876\\\\\n",
       "\t  6.9754139 & 4.663439\\\\\n",
       "\t  7.3987863 & 2.890372\\\\\n",
       "\t  1.0986123 & 4.605170\\\\\n",
       "\\end{tabular}\n"
      ],
      "text/markdown": [
       "\n",
       "A tibble: 32 × 2\n",
       "\n",
       "| Car_countLOG &lt;dbl&gt; | Average_Electic_RangeLOG &lt;dbl&gt; |\n",
       "|---|---|\n",
       "|  7.4581862 | 4.418841 |\n",
       "|  1.9459101 | 4.025352 |\n",
       "|  0.6931472 | 2.833213 |\n",
       "|  8.3233657 | 3.931826 |\n",
       "|  4.6913479 | 3.555348 |\n",
       "|  9.0996322 | 4.852030 |\n",
       "|  7.4235684 | 3.465736 |\n",
       "|  0.0000000 | 4.382027 |\n",
       "|  6.7165948 | 4.442651 |\n",
       "|  2.5649494 | 3.496508 |\n",
       "|  8.2733366 | 3.178054 |\n",
       "|  6.6502790 | 3.828641 |\n",
       "|  6.9440872 | 4.317488 |\n",
       "|  5.2470241 | 5.455321 |\n",
       "|  6.6052979 | 3.135494 |\n",
       "|  8.0146664 | 4.736198 |\n",
       "|  3.6375862 | 2.944439 |\n",
       "|  4.6539604 | 3.091042 |\n",
       "|  5.7990927 | 3.526361 |\n",
       "|  5.7170277 | 3.970292 |\n",
       "|  6.3750248 | 3.258097 |\n",
       "|  9.3371492 | 4.624973 |\n",
       "|  4.7449321 | 5.451038 |\n",
       "|  6.3385941 | 4.343805 |\n",
       "|  5.6094718 | 4.127134 |\n",
       "|  3.9702919 | 2.833213 |\n",
       "| 10.1590983 | 5.480639 |\n",
       "|  1.0986123 | 4.605170 |\n",
       "|  8.3081991 | 3.218876 |\n",
       "|  6.9754139 | 4.663439 |\n",
       "|  7.3987863 | 2.890372 |\n",
       "|  1.0986123 | 4.605170 |\n",
       "\n"
      ],
      "text/plain": [
       "   Car_countLOG Average_Electic_RangeLOG\n",
       "1   7.4581862   4.418841                \n",
       "2   1.9459101   4.025352                \n",
       "3   0.6931472   2.833213                \n",
       "4   8.3233657   3.931826                \n",
       "5   4.6913479   3.555348                \n",
       "6   9.0996322   4.852030                \n",
       "7   7.4235684   3.465736                \n",
       "8   0.0000000   4.382027                \n",
       "9   6.7165948   4.442651                \n",
       "10  2.5649494   3.496508                \n",
       "11  8.2733366   3.178054                \n",
       "12  6.6502790   3.828641                \n",
       "13  6.9440872   4.317488                \n",
       "14  5.2470241   5.455321                \n",
       "15  6.6052979   3.135494                \n",
       "16  8.0146664   4.736198                \n",
       "17  3.6375862   2.944439                \n",
       "18  4.6539604   3.091042                \n",
       "19  5.7990927   3.526361                \n",
       "20  5.7170277   3.970292                \n",
       "21  6.3750248   3.258097                \n",
       "22  9.3371492   4.624973                \n",
       "23  4.7449321   5.451038                \n",
       "24  6.3385941   4.343805                \n",
       "25  5.6094718   4.127134                \n",
       "26  3.9702919   2.833213                \n",
       "27 10.1590983   5.480639                \n",
       "28  1.0986123   4.605170                \n",
       "29  8.3081991   3.218876                \n",
       "30  6.9754139   4.663439                \n",
       "31  7.3987863   2.890372                \n",
       "32  1.0986123   4.605170                "
      ]
     },
     "metadata": {},
     "output_type": "display_data"
    }
   ],
   "source": [
    "View(Green_cars5LOG)"
   ]
  },
  {
   "cell_type": "code",
   "execution_count": 368,
   "id": "4025db11",
   "metadata": {},
   "outputs": [],
   "source": [
    "Green_cars5LOG1=filter(Green_cars5LOG,Car_countLOG!=0)"
   ]
  },
  {
   "cell_type": "code",
   "execution_count": 369,
   "id": "fddc42e0",
   "metadata": {},
   "outputs": [
    {
     "data": {
      "text/html": [
       "<table class=\"dataframe\">\n",
       "<caption>A tibble: 31 × 2</caption>\n",
       "<thead>\n",
       "\t<tr><th scope=col>Car_countLOG</th><th scope=col>Average_Electic_RangeLOG</th></tr>\n",
       "\t<tr><th scope=col>&lt;dbl&gt;</th><th scope=col>&lt;dbl&gt;</th></tr>\n",
       "</thead>\n",
       "<tbody>\n",
       "\t<tr><td> 7.4581862</td><td>4.418841</td></tr>\n",
       "\t<tr><td> 1.9459101</td><td>4.025352</td></tr>\n",
       "\t<tr><td> 0.6931472</td><td>2.833213</td></tr>\n",
       "\t<tr><td> 8.3233657</td><td>3.931826</td></tr>\n",
       "\t<tr><td> 4.6913479</td><td>3.555348</td></tr>\n",
       "\t<tr><td> 9.0996322</td><td>4.852030</td></tr>\n",
       "\t<tr><td> 7.4235684</td><td>3.465736</td></tr>\n",
       "\t<tr><td> 6.7165948</td><td>4.442651</td></tr>\n",
       "\t<tr><td> 2.5649494</td><td>3.496508</td></tr>\n",
       "\t<tr><td> 8.2733366</td><td>3.178054</td></tr>\n",
       "\t<tr><td> 6.6502790</td><td>3.828641</td></tr>\n",
       "\t<tr><td> 6.9440872</td><td>4.317488</td></tr>\n",
       "\t<tr><td> 5.2470241</td><td>5.455321</td></tr>\n",
       "\t<tr><td> 6.6052979</td><td>3.135494</td></tr>\n",
       "\t<tr><td> 8.0146664</td><td>4.736198</td></tr>\n",
       "\t<tr><td> 3.6375862</td><td>2.944439</td></tr>\n",
       "\t<tr><td> 4.6539604</td><td>3.091042</td></tr>\n",
       "\t<tr><td> 5.7990927</td><td>3.526361</td></tr>\n",
       "\t<tr><td> 5.7170277</td><td>3.970292</td></tr>\n",
       "\t<tr><td> 6.3750248</td><td>3.258097</td></tr>\n",
       "\t<tr><td> 9.3371492</td><td>4.624973</td></tr>\n",
       "\t<tr><td> 4.7449321</td><td>5.451038</td></tr>\n",
       "\t<tr><td> 6.3385941</td><td>4.343805</td></tr>\n",
       "\t<tr><td> 5.6094718</td><td>4.127134</td></tr>\n",
       "\t<tr><td> 3.9702919</td><td>2.833213</td></tr>\n",
       "\t<tr><td>10.1590983</td><td>5.480639</td></tr>\n",
       "\t<tr><td> 1.0986123</td><td>4.605170</td></tr>\n",
       "\t<tr><td> 8.3081991</td><td>3.218876</td></tr>\n",
       "\t<tr><td> 6.9754139</td><td>4.663439</td></tr>\n",
       "\t<tr><td> 7.3987863</td><td>2.890372</td></tr>\n",
       "\t<tr><td> 1.0986123</td><td>4.605170</td></tr>\n",
       "</tbody>\n",
       "</table>\n"
      ],
      "text/latex": [
       "A tibble: 31 × 2\n",
       "\\begin{tabular}{ll}\n",
       " Car\\_countLOG & Average\\_Electic\\_RangeLOG\\\\\n",
       " <dbl> & <dbl>\\\\\n",
       "\\hline\n",
       "\t  7.4581862 & 4.418841\\\\\n",
       "\t  1.9459101 & 4.025352\\\\\n",
       "\t  0.6931472 & 2.833213\\\\\n",
       "\t  8.3233657 & 3.931826\\\\\n",
       "\t  4.6913479 & 3.555348\\\\\n",
       "\t  9.0996322 & 4.852030\\\\\n",
       "\t  7.4235684 & 3.465736\\\\\n",
       "\t  6.7165948 & 4.442651\\\\\n",
       "\t  2.5649494 & 3.496508\\\\\n",
       "\t  8.2733366 & 3.178054\\\\\n",
       "\t  6.6502790 & 3.828641\\\\\n",
       "\t  6.9440872 & 4.317488\\\\\n",
       "\t  5.2470241 & 5.455321\\\\\n",
       "\t  6.6052979 & 3.135494\\\\\n",
       "\t  8.0146664 & 4.736198\\\\\n",
       "\t  3.6375862 & 2.944439\\\\\n",
       "\t  4.6539604 & 3.091042\\\\\n",
       "\t  5.7990927 & 3.526361\\\\\n",
       "\t  5.7170277 & 3.970292\\\\\n",
       "\t  6.3750248 & 3.258097\\\\\n",
       "\t  9.3371492 & 4.624973\\\\\n",
       "\t  4.7449321 & 5.451038\\\\\n",
       "\t  6.3385941 & 4.343805\\\\\n",
       "\t  5.6094718 & 4.127134\\\\\n",
       "\t  3.9702919 & 2.833213\\\\\n",
       "\t 10.1590983 & 5.480639\\\\\n",
       "\t  1.0986123 & 4.605170\\\\\n",
       "\t  8.3081991 & 3.218876\\\\\n",
       "\t  6.9754139 & 4.663439\\\\\n",
       "\t  7.3987863 & 2.890372\\\\\n",
       "\t  1.0986123 & 4.605170\\\\\n",
       "\\end{tabular}\n"
      ],
      "text/markdown": [
       "\n",
       "A tibble: 31 × 2\n",
       "\n",
       "| Car_countLOG &lt;dbl&gt; | Average_Electic_RangeLOG &lt;dbl&gt; |\n",
       "|---|---|\n",
       "|  7.4581862 | 4.418841 |\n",
       "|  1.9459101 | 4.025352 |\n",
       "|  0.6931472 | 2.833213 |\n",
       "|  8.3233657 | 3.931826 |\n",
       "|  4.6913479 | 3.555348 |\n",
       "|  9.0996322 | 4.852030 |\n",
       "|  7.4235684 | 3.465736 |\n",
       "|  6.7165948 | 4.442651 |\n",
       "|  2.5649494 | 3.496508 |\n",
       "|  8.2733366 | 3.178054 |\n",
       "|  6.6502790 | 3.828641 |\n",
       "|  6.9440872 | 4.317488 |\n",
       "|  5.2470241 | 5.455321 |\n",
       "|  6.6052979 | 3.135494 |\n",
       "|  8.0146664 | 4.736198 |\n",
       "|  3.6375862 | 2.944439 |\n",
       "|  4.6539604 | 3.091042 |\n",
       "|  5.7990927 | 3.526361 |\n",
       "|  5.7170277 | 3.970292 |\n",
       "|  6.3750248 | 3.258097 |\n",
       "|  9.3371492 | 4.624973 |\n",
       "|  4.7449321 | 5.451038 |\n",
       "|  6.3385941 | 4.343805 |\n",
       "|  5.6094718 | 4.127134 |\n",
       "|  3.9702919 | 2.833213 |\n",
       "| 10.1590983 | 5.480639 |\n",
       "|  1.0986123 | 4.605170 |\n",
       "|  8.3081991 | 3.218876 |\n",
       "|  6.9754139 | 4.663439 |\n",
       "|  7.3987863 | 2.890372 |\n",
       "|  1.0986123 | 4.605170 |\n",
       "\n"
      ],
      "text/plain": [
       "   Car_countLOG Average_Electic_RangeLOG\n",
       "1   7.4581862   4.418841                \n",
       "2   1.9459101   4.025352                \n",
       "3   0.6931472   2.833213                \n",
       "4   8.3233657   3.931826                \n",
       "5   4.6913479   3.555348                \n",
       "6   9.0996322   4.852030                \n",
       "7   7.4235684   3.465736                \n",
       "8   6.7165948   4.442651                \n",
       "9   2.5649494   3.496508                \n",
       "10  8.2733366   3.178054                \n",
       "11  6.6502790   3.828641                \n",
       "12  6.9440872   4.317488                \n",
       "13  5.2470241   5.455321                \n",
       "14  6.6052979   3.135494                \n",
       "15  8.0146664   4.736198                \n",
       "16  3.6375862   2.944439                \n",
       "17  4.6539604   3.091042                \n",
       "18  5.7990927   3.526361                \n",
       "19  5.7170277   3.970292                \n",
       "20  6.3750248   3.258097                \n",
       "21  9.3371492   4.624973                \n",
       "22  4.7449321   5.451038                \n",
       "23  6.3385941   4.343805                \n",
       "24  5.6094718   4.127134                \n",
       "25  3.9702919   2.833213                \n",
       "26 10.1590983   5.480639                \n",
       "27  1.0986123   4.605170                \n",
       "28  8.3081991   3.218876                \n",
       "29  6.9754139   4.663439                \n",
       "30  7.3987863   2.890372                \n",
       "31  1.0986123   4.605170                "
      ]
     },
     "metadata": {},
     "output_type": "display_data"
    }
   ],
   "source": [
    "Green_cars5LOG1"
   ]
  },
  {
   "cell_type": "code",
   "execution_count": 370,
   "id": "3073bc26",
   "metadata": {},
   "outputs": [],
   "source": [
    "Green_cars5LOG2=as.matrix(Green_cars5LOG1)"
   ]
  },
  {
   "cell_type": "code",
   "execution_count": 371,
   "id": "5f2b5107",
   "metadata": {},
   "outputs": [
    {
     "data": {
      "text/plain": [
       "\n",
       "\tShapiro-Wilk normality test\n",
       "\n",
       "data:  Z\n",
       "W = 0.99065, p-value = 0.9931\n"
      ]
     },
     "metadata": {},
     "output_type": "display_data"
    }
   ],
   "source": [
    "mshapiro.test(t(Green_cars5LOG2))"
   ]
  },
  {
   "cell_type": "markdown",
   "id": "daff06bb",
   "metadata": {},
   "source": [
    "The p value is greater than 0.05. The Multivariate normality assumption has been met"
   ]
  },
  {
   "cell_type": "markdown",
   "id": "52e18a43",
   "metadata": {},
   "source": [
    "## Testing Homogeneity of Variance"
   ]
  },
  {
   "cell_type": "code",
   "execution_count": 374,
   "id": "8732c505",
   "metadata": {},
   "outputs": [],
   "source": [
    "subset5=c(\"Make\",\"Car_countLOG\",\"Average_Electic_RangeLOG\")\n",
    "Green_cars5LOG3=Green_cars5[subset5]"
   ]
  },
  {
   "cell_type": "code",
   "execution_count": 457,
   "id": "5740ca4d",
   "metadata": {},
   "outputs": [],
   "source": [
    "Green_cars5LOG3$Make=as.factor(Green_cars5LOG3$Make)"
   ]
  },
  {
   "cell_type": "code",
   "execution_count": 458,
   "id": "669b75f1",
   "metadata": {},
   "outputs": [],
   "source": [
    "Green_cars5LOG4=filter(Green_cars5LOG3,Car_countLOG!=0)"
   ]
  },
  {
   "cell_type": "code",
   "execution_count": 459,
   "id": "6ca6e6ba",
   "metadata": {},
   "outputs": [
    {
     "data": {
      "text/html": [
       "<table class=\"dataframe\">\n",
       "<caption>A tibble: 31 × 3</caption>\n",
       "<thead>\n",
       "\t<tr><th scope=col>Make</th><th scope=col>Car_countLOG</th><th scope=col>Average_Electic_RangeLOG</th></tr>\n",
       "\t<tr><th scope=col>&lt;fct&gt;</th><th scope=col>&lt;dbl&gt;</th><th scope=col>&lt;dbl&gt;</th></tr>\n",
       "</thead>\n",
       "<tbody>\n",
       "\t<tr><td>AUDI                </td><td> 7.4581862</td><td>4.418841</td></tr>\n",
       "\t<tr><td>AZURE DYNAMICS      </td><td> 1.9459101</td><td>4.025352</td></tr>\n",
       "\t<tr><td>BENTLEY             </td><td> 0.6931472</td><td>2.833213</td></tr>\n",
       "\t<tr><td>BMW                 </td><td> 8.3233657</td><td>3.931826</td></tr>\n",
       "\t<tr><td>CADILLAC            </td><td> 4.6913479</td><td>3.555348</td></tr>\n",
       "\t<tr><td>CHEVROLET           </td><td> 9.0996322</td><td>4.852030</td></tr>\n",
       "\t<tr><td>CHRYSLER            </td><td> 7.4235684</td><td>3.465736</td></tr>\n",
       "\t<tr><td>FIAT                </td><td> 6.7165948</td><td>4.442651</td></tr>\n",
       "\t<tr><td>FISKER              </td><td> 2.5649494</td><td>3.496508</td></tr>\n",
       "\t<tr><td>FORD                </td><td> 8.2733366</td><td>3.178054</td></tr>\n",
       "\t<tr><td>HONDA               </td><td> 6.6502790</td><td>3.828641</td></tr>\n",
       "\t<tr><td>HYUNDAI             </td><td> 6.9440872</td><td>4.317488</td></tr>\n",
       "\t<tr><td>JAGUAR              </td><td> 5.2470241</td><td>5.455321</td></tr>\n",
       "\t<tr><td>JEEP                </td><td> 6.6052979</td><td>3.135494</td></tr>\n",
       "\t<tr><td>KIA                 </td><td> 8.0146664</td><td>4.736198</td></tr>\n",
       "\t<tr><td>LAND ROVER          </td><td> 3.6375862</td><td>2.944439</td></tr>\n",
       "\t<tr><td>LINCOLN             </td><td> 4.6539604</td><td>3.091042</td></tr>\n",
       "\t<tr><td>MERCEDES-BENZ       </td><td> 5.7990927</td><td>3.526361</td></tr>\n",
       "\t<tr><td>MINI                </td><td> 5.7170277</td><td>3.970292</td></tr>\n",
       "\t<tr><td>MITSUBISHI          </td><td> 6.3750248</td><td>3.258097</td></tr>\n",
       "\t<tr><td>NISSAN              </td><td> 9.3371492</td><td>4.624973</td></tr>\n",
       "\t<tr><td>POLESTAR            </td><td> 4.7449321</td><td>5.451038</td></tr>\n",
       "\t<tr><td>PORSCHE             </td><td> 6.3385941</td><td>4.343805</td></tr>\n",
       "\t<tr><td>SMART               </td><td> 5.6094718</td><td>4.127134</td></tr>\n",
       "\t<tr><td>SUBARU              </td><td> 3.9702919</td><td>2.833213</td></tr>\n",
       "\t<tr><td>TESLA               </td><td>10.1590983</td><td>5.480639</td></tr>\n",
       "\t<tr><td>TH!NK               </td><td> 1.0986123</td><td>4.605170</td></tr>\n",
       "\t<tr><td>TOYOTA              </td><td> 8.3081991</td><td>3.218876</td></tr>\n",
       "\t<tr><td>VOLKSWAGEN          </td><td> 6.9754139</td><td>4.663439</td></tr>\n",
       "\t<tr><td>VOLVO               </td><td> 7.3987863</td><td>2.890372</td></tr>\n",
       "\t<tr><td>WHEEGO ELECTRIC CARS</td><td> 1.0986123</td><td>4.605170</td></tr>\n",
       "</tbody>\n",
       "</table>\n"
      ],
      "text/latex": [
       "A tibble: 31 × 3\n",
       "\\begin{tabular}{lll}\n",
       " Make & Car\\_countLOG & Average\\_Electic\\_RangeLOG\\\\\n",
       " <fct> & <dbl> & <dbl>\\\\\n",
       "\\hline\n",
       "\t AUDI                 &  7.4581862 & 4.418841\\\\\n",
       "\t AZURE DYNAMICS       &  1.9459101 & 4.025352\\\\\n",
       "\t BENTLEY              &  0.6931472 & 2.833213\\\\\n",
       "\t BMW                  &  8.3233657 & 3.931826\\\\\n",
       "\t CADILLAC             &  4.6913479 & 3.555348\\\\\n",
       "\t CHEVROLET            &  9.0996322 & 4.852030\\\\\n",
       "\t CHRYSLER             &  7.4235684 & 3.465736\\\\\n",
       "\t FIAT                 &  6.7165948 & 4.442651\\\\\n",
       "\t FISKER               &  2.5649494 & 3.496508\\\\\n",
       "\t FORD                 &  8.2733366 & 3.178054\\\\\n",
       "\t HONDA                &  6.6502790 & 3.828641\\\\\n",
       "\t HYUNDAI              &  6.9440872 & 4.317488\\\\\n",
       "\t JAGUAR               &  5.2470241 & 5.455321\\\\\n",
       "\t JEEP                 &  6.6052979 & 3.135494\\\\\n",
       "\t KIA                  &  8.0146664 & 4.736198\\\\\n",
       "\t LAND ROVER           &  3.6375862 & 2.944439\\\\\n",
       "\t LINCOLN              &  4.6539604 & 3.091042\\\\\n",
       "\t MERCEDES-BENZ        &  5.7990927 & 3.526361\\\\\n",
       "\t MINI                 &  5.7170277 & 3.970292\\\\\n",
       "\t MITSUBISHI           &  6.3750248 & 3.258097\\\\\n",
       "\t NISSAN               &  9.3371492 & 4.624973\\\\\n",
       "\t POLESTAR             &  4.7449321 & 5.451038\\\\\n",
       "\t PORSCHE              &  6.3385941 & 4.343805\\\\\n",
       "\t SMART                &  5.6094718 & 4.127134\\\\\n",
       "\t SUBARU               &  3.9702919 & 2.833213\\\\\n",
       "\t TESLA                & 10.1590983 & 5.480639\\\\\n",
       "\t TH!NK                &  1.0986123 & 4.605170\\\\\n",
       "\t TOYOTA               &  8.3081991 & 3.218876\\\\\n",
       "\t VOLKSWAGEN           &  6.9754139 & 4.663439\\\\\n",
       "\t VOLVO                &  7.3987863 & 2.890372\\\\\n",
       "\t WHEEGO ELECTRIC CARS &  1.0986123 & 4.605170\\\\\n",
       "\\end{tabular}\n"
      ],
      "text/markdown": [
       "\n",
       "A tibble: 31 × 3\n",
       "\n",
       "| Make &lt;fct&gt; | Car_countLOG &lt;dbl&gt; | Average_Electic_RangeLOG &lt;dbl&gt; |\n",
       "|---|---|---|\n",
       "| AUDI                 |  7.4581862 | 4.418841 |\n",
       "| AZURE DYNAMICS       |  1.9459101 | 4.025352 |\n",
       "| BENTLEY              |  0.6931472 | 2.833213 |\n",
       "| BMW                  |  8.3233657 | 3.931826 |\n",
       "| CADILLAC             |  4.6913479 | 3.555348 |\n",
       "| CHEVROLET            |  9.0996322 | 4.852030 |\n",
       "| CHRYSLER             |  7.4235684 | 3.465736 |\n",
       "| FIAT                 |  6.7165948 | 4.442651 |\n",
       "| FISKER               |  2.5649494 | 3.496508 |\n",
       "| FORD                 |  8.2733366 | 3.178054 |\n",
       "| HONDA                |  6.6502790 | 3.828641 |\n",
       "| HYUNDAI              |  6.9440872 | 4.317488 |\n",
       "| JAGUAR               |  5.2470241 | 5.455321 |\n",
       "| JEEP                 |  6.6052979 | 3.135494 |\n",
       "| KIA                  |  8.0146664 | 4.736198 |\n",
       "| LAND ROVER           |  3.6375862 | 2.944439 |\n",
       "| LINCOLN              |  4.6539604 | 3.091042 |\n",
       "| MERCEDES-BENZ        |  5.7990927 | 3.526361 |\n",
       "| MINI                 |  5.7170277 | 3.970292 |\n",
       "| MITSUBISHI           |  6.3750248 | 3.258097 |\n",
       "| NISSAN               |  9.3371492 | 4.624973 |\n",
       "| POLESTAR             |  4.7449321 | 5.451038 |\n",
       "| PORSCHE              |  6.3385941 | 4.343805 |\n",
       "| SMART                |  5.6094718 | 4.127134 |\n",
       "| SUBARU               |  3.9702919 | 2.833213 |\n",
       "| TESLA                | 10.1590983 | 5.480639 |\n",
       "| TH!NK                |  1.0986123 | 4.605170 |\n",
       "| TOYOTA               |  8.3081991 | 3.218876 |\n",
       "| VOLKSWAGEN           |  6.9754139 | 4.663439 |\n",
       "| VOLVO                |  7.3987863 | 2.890372 |\n",
       "| WHEEGO ELECTRIC CARS |  1.0986123 | 4.605170 |\n",
       "\n"
      ],
      "text/plain": [
       "   Make                 Car_countLOG Average_Electic_RangeLOG\n",
       "1  AUDI                  7.4581862   4.418841                \n",
       "2  AZURE DYNAMICS        1.9459101   4.025352                \n",
       "3  BENTLEY               0.6931472   2.833213                \n",
       "4  BMW                   8.3233657   3.931826                \n",
       "5  CADILLAC              4.6913479   3.555348                \n",
       "6  CHEVROLET             9.0996322   4.852030                \n",
       "7  CHRYSLER              7.4235684   3.465736                \n",
       "8  FIAT                  6.7165948   4.442651                \n",
       "9  FISKER                2.5649494   3.496508                \n",
       "10 FORD                  8.2733366   3.178054                \n",
       "11 HONDA                 6.6502790   3.828641                \n",
       "12 HYUNDAI               6.9440872   4.317488                \n",
       "13 JAGUAR                5.2470241   5.455321                \n",
       "14 JEEP                  6.6052979   3.135494                \n",
       "15 KIA                   8.0146664   4.736198                \n",
       "16 LAND ROVER            3.6375862   2.944439                \n",
       "17 LINCOLN               4.6539604   3.091042                \n",
       "18 MERCEDES-BENZ         5.7990927   3.526361                \n",
       "19 MINI                  5.7170277   3.970292                \n",
       "20 MITSUBISHI            6.3750248   3.258097                \n",
       "21 NISSAN                9.3371492   4.624973                \n",
       "22 POLESTAR              4.7449321   5.451038                \n",
       "23 PORSCHE               6.3385941   4.343805                \n",
       "24 SMART                 5.6094718   4.127134                \n",
       "25 SUBARU                3.9702919   2.833213                \n",
       "26 TESLA                10.1590983   5.480639                \n",
       "27 TH!NK                 1.0986123   4.605170                \n",
       "28 TOYOTA                8.3081991   3.218876                \n",
       "29 VOLKSWAGEN            6.9754139   4.663439                \n",
       "30 VOLVO                 7.3987863   2.890372                \n",
       "31 WHEEGO ELECTRIC CARS  1.0986123   4.605170                "
      ]
     },
     "metadata": {},
     "output_type": "display_data"
    }
   ],
   "source": [
    "Green_cars5LOG4"
   ]
  },
  {
   "cell_type": "code",
   "execution_count": 475,
   "id": "c7731a37",
   "metadata": {},
   "outputs": [
    {
     "data": {
      "text/html": [
       "<table class=\"dataframe\">\n",
       "<caption>A anova: 2 × 3</caption>\n",
       "<thead>\n",
       "\t<tr><th></th><th scope=col>Df</th><th scope=col>F value</th><th scope=col>Pr(&gt;F)</th></tr>\n",
       "\t<tr><th></th><th scope=col>&lt;int&gt;</th><th scope=col>&lt;dbl&gt;</th><th scope=col>&lt;dbl&gt;</th></tr>\n",
       "</thead>\n",
       "<tbody>\n",
       "\t<tr><th scope=row>group</th><td>30</td><td>NaN</td><td>NaN</td></tr>\n",
       "\t<tr><th scope=row> </th><td> 0</td><td> NA</td><td> NA</td></tr>\n",
       "</tbody>\n",
       "</table>\n"
      ],
      "text/latex": [
       "A anova: 2 × 3\n",
       "\\begin{tabular}{r|lll}\n",
       "  & Df & F value & Pr(>F)\\\\\n",
       "  & <int> & <dbl> & <dbl>\\\\\n",
       "\\hline\n",
       "\tgroup & 30 & NaN & NaN\\\\\n",
       "\t  &  0 &  NA &  NA\\\\\n",
       "\\end{tabular}\n"
      ],
      "text/markdown": [
       "\n",
       "A anova: 2 × 3\n",
       "\n",
       "| <!--/--> | Df &lt;int&gt; | F value &lt;dbl&gt; | Pr(&gt;F) &lt;dbl&gt; |\n",
       "|---|---|---|---|\n",
       "| group | 30 | NaN | NaN |\n",
       "| <!----> |  0 |  NA |  NA |\n",
       "\n"
      ],
      "text/plain": [
       "      Df F value Pr(>F)\n",
       "group 30 NaN     NaN   \n",
       "       0  NA      NA   "
      ]
     },
     "metadata": {},
     "output_type": "display_data"
    }
   ],
   "source": [
    "leveneTest(Green_cars5LOG4$Car_countLOG,Green_cars5LOG4$Make, data=Green_cars5LOG4)"
   ]
  },
  {
   "cell_type": "code",
   "execution_count": 451,
   "id": "03eb0a36",
   "metadata": {},
   "outputs": [],
   "source": [
    "Green_cars5LOG4$MakeR= NA"
   ]
  },
  {
   "cell_type": "code",
   "execution_count": 452,
   "id": "e32a6c13",
   "metadata": {},
   "outputs": [],
   "source": [
    "Green_cars5LOG4$MakeR[Green_cars5LOG4$Make=='AUDI'] <- 0\n",
    "Green_cars5LOG4$MakeR[Green_cars5LOG4$Make=='AZURE DYNAMICS'] <- 1\n",
    "Green_cars5LOG4$MakeR[Green_cars5LOG4$Make=='BENTLEY'] <- 2\n",
    "Green_cars5LOG4$MakeR[Green_cars5LOG4$Make=='BMW'] <- 3\n",
    "Green_cars5LOG4$MakeR[Green_cars5LOG4$Make=='CADILLAC'] <- 4\n",
    "Green_cars5LOG4$MakeR[Green_cars5LOG4$Make=='CHEVROLET'] <- 5\n",
    "Green_cars5LOG4$MakeR[Green_cars5LOG4$Make=='CHRYSLER'] <- 6\n",
    "Green_cars5LOG4$MakeR[Green_cars5LOG4$Make=='FIAT'] <- 7\n",
    "Green_cars5LOG4$MakeR[Green_cars5LOG4$Make=='FISKER'] <- 8\n",
    "Green_cars5LOG4$MakeR[Green_cars5LOG4$Make=='FORD'] <- 9\n",
    "Green_cars5LOG4$MakeR[Green_cars5LOG4$Make=='HONDA'] <- 10\n",
    "Green_cars5LOG4$MakeR[Green_cars5LOG4$Make=='HYUNDAI'] <- 11\n",
    "Green_cars5LOG4$MakeR[Green_cars5LOG4$Make=='JAGUAR'] <- 12\n",
    "Green_cars5LOG4$MakeR[Green_cars5LOG4$Make=='JEEP'] <- 13\n",
    "Green_cars5LOG4$MakeR[Green_cars5LOG4$Make=='KIA'] <- 14\n",
    "Green_cars5LOG4$MakeR[Green_cars5LOG4$Make=='LAND ROVER'] <- 15\n",
    "Green_cars5LOG4$MakeR[Green_cars5LOG4$Make=='LINCOLN'] <- 16\n",
    "Green_cars5LOG4$MakeR[Green_cars5LOG4$Make=='MERCEDES-BENZ'] <- 17\n",
    "Green_cars5LOG4$MakeR[Green_cars5LOG4$Make=='MINI'] <- 18\n",
    "Green_cars5LOG4$MakeR[Green_cars5LOG4$Make=='MITSUBISHI'] <- 19\n",
    "Green_cars5LOG4$MakeR[Green_cars5LOG4$Make=='NISSAN'] <- 20\n",
    "Green_cars5LOG4$MakeR[Green_cars5LOG4$Make=='POLESTAR'] <- 21\n",
    "Green_cars5LOG4$MakeR[Green_cars5LOG4$Make=='PORSCHE'] <- 22\n",
    "Green_cars5LOG4$MakeR[Green_cars5LOG4$Make=='SMART'] <- 23\n",
    "Green_cars5LOG4$MakeR[Green_cars5LOG4$Make=='SUBARU'] <- 24\n",
    "Green_cars5LOG4$MakeR[Green_cars5LOG4$Make=='TESLA'] <- 25\n",
    "Green_cars5LOG4$MakeR[Green_cars5LOG4$Make=='TH!NK'] <- 26\n",
    "Green_cars5LOG4$MakeR[Green_cars5LOG4$Make=='TOYOTA'] <- 27\n",
    "Green_cars5LOG4$MakeR[Green_cars5LOG4$Make=='VOLKSWAGEN'] <- 28\n",
    "Green_cars5LOG4$MakeR[Green_cars5LOG4$Make=='VOLVO'] <- 29\n",
    "Green_cars5LOG4$MakeR[Green_cars5LOG4$Make=='WHEEGO ELECTRIC CARS'] <- 31"
   ]
  },
  {
   "cell_type": "code",
   "execution_count": 453,
   "id": "7c216d68",
   "metadata": {},
   "outputs": [
    {
     "data": {
      "text/html": [
       "<table class=\"dataframe\">\n",
       "<caption>A tibble: 31 × 4</caption>\n",
       "<thead>\n",
       "\t<tr><th scope=col>Make</th><th scope=col>Car_countLOG</th><th scope=col>Average_Electic_RangeLOG</th><th scope=col>MakeR</th></tr>\n",
       "\t<tr><th scope=col>&lt;chr&gt;</th><th scope=col>&lt;dbl&gt;</th><th scope=col>&lt;dbl&gt;</th><th scope=col>&lt;dbl&gt;</th></tr>\n",
       "</thead>\n",
       "<tbody>\n",
       "\t<tr><td>AUDI                </td><td> 7.4581862</td><td>4.418841</td><td> 0</td></tr>\n",
       "\t<tr><td>AZURE DYNAMICS      </td><td> 1.9459101</td><td>4.025352</td><td> 1</td></tr>\n",
       "\t<tr><td>BENTLEY             </td><td> 0.6931472</td><td>2.833213</td><td> 2</td></tr>\n",
       "\t<tr><td>BMW                 </td><td> 8.3233657</td><td>3.931826</td><td> 3</td></tr>\n",
       "\t<tr><td>CADILLAC            </td><td> 4.6913479</td><td>3.555348</td><td> 4</td></tr>\n",
       "\t<tr><td>CHEVROLET           </td><td> 9.0996322</td><td>4.852030</td><td> 5</td></tr>\n",
       "\t<tr><td>CHRYSLER            </td><td> 7.4235684</td><td>3.465736</td><td> 6</td></tr>\n",
       "\t<tr><td>FIAT                </td><td> 6.7165948</td><td>4.442651</td><td> 7</td></tr>\n",
       "\t<tr><td>FISKER              </td><td> 2.5649494</td><td>3.496508</td><td> 8</td></tr>\n",
       "\t<tr><td>FORD                </td><td> 8.2733366</td><td>3.178054</td><td> 9</td></tr>\n",
       "\t<tr><td>HONDA               </td><td> 6.6502790</td><td>3.828641</td><td>10</td></tr>\n",
       "\t<tr><td>HYUNDAI             </td><td> 6.9440872</td><td>4.317488</td><td>11</td></tr>\n",
       "\t<tr><td>JAGUAR              </td><td> 5.2470241</td><td>5.455321</td><td>12</td></tr>\n",
       "\t<tr><td>JEEP                </td><td> 6.6052979</td><td>3.135494</td><td>13</td></tr>\n",
       "\t<tr><td>KIA                 </td><td> 8.0146664</td><td>4.736198</td><td>14</td></tr>\n",
       "\t<tr><td>LAND ROVER          </td><td> 3.6375862</td><td>2.944439</td><td>15</td></tr>\n",
       "\t<tr><td>LINCOLN             </td><td> 4.6539604</td><td>3.091042</td><td>16</td></tr>\n",
       "\t<tr><td>MERCEDES-BENZ       </td><td> 5.7990927</td><td>3.526361</td><td>17</td></tr>\n",
       "\t<tr><td>MINI                </td><td> 5.7170277</td><td>3.970292</td><td>18</td></tr>\n",
       "\t<tr><td>MITSUBISHI          </td><td> 6.3750248</td><td>3.258097</td><td>19</td></tr>\n",
       "\t<tr><td>NISSAN              </td><td> 9.3371492</td><td>4.624973</td><td>20</td></tr>\n",
       "\t<tr><td>POLESTAR            </td><td> 4.7449321</td><td>5.451038</td><td>21</td></tr>\n",
       "\t<tr><td>PORSCHE             </td><td> 6.3385941</td><td>4.343805</td><td>22</td></tr>\n",
       "\t<tr><td>SMART               </td><td> 5.6094718</td><td>4.127134</td><td>23</td></tr>\n",
       "\t<tr><td>SUBARU              </td><td> 3.9702919</td><td>2.833213</td><td>24</td></tr>\n",
       "\t<tr><td>TESLA               </td><td>10.1590983</td><td>5.480639</td><td>25</td></tr>\n",
       "\t<tr><td>TH!NK               </td><td> 1.0986123</td><td>4.605170</td><td>26</td></tr>\n",
       "\t<tr><td>TOYOTA              </td><td> 8.3081991</td><td>3.218876</td><td>27</td></tr>\n",
       "\t<tr><td>VOLKSWAGEN          </td><td> 6.9754139</td><td>4.663439</td><td>28</td></tr>\n",
       "\t<tr><td>VOLVO               </td><td> 7.3987863</td><td>2.890372</td><td>29</td></tr>\n",
       "\t<tr><td>WHEEGO ELECTRIC CARS</td><td> 1.0986123</td><td>4.605170</td><td>31</td></tr>\n",
       "</tbody>\n",
       "</table>\n"
      ],
      "text/latex": [
       "A tibble: 31 × 4\n",
       "\\begin{tabular}{llll}\n",
       " Make & Car\\_countLOG & Average\\_Electic\\_RangeLOG & MakeR\\\\\n",
       " <chr> & <dbl> & <dbl> & <dbl>\\\\\n",
       "\\hline\n",
       "\t AUDI                 &  7.4581862 & 4.418841 &  0\\\\\n",
       "\t AZURE DYNAMICS       &  1.9459101 & 4.025352 &  1\\\\\n",
       "\t BENTLEY              &  0.6931472 & 2.833213 &  2\\\\\n",
       "\t BMW                  &  8.3233657 & 3.931826 &  3\\\\\n",
       "\t CADILLAC             &  4.6913479 & 3.555348 &  4\\\\\n",
       "\t CHEVROLET            &  9.0996322 & 4.852030 &  5\\\\\n",
       "\t CHRYSLER             &  7.4235684 & 3.465736 &  6\\\\\n",
       "\t FIAT                 &  6.7165948 & 4.442651 &  7\\\\\n",
       "\t FISKER               &  2.5649494 & 3.496508 &  8\\\\\n",
       "\t FORD                 &  8.2733366 & 3.178054 &  9\\\\\n",
       "\t HONDA                &  6.6502790 & 3.828641 & 10\\\\\n",
       "\t HYUNDAI              &  6.9440872 & 4.317488 & 11\\\\\n",
       "\t JAGUAR               &  5.2470241 & 5.455321 & 12\\\\\n",
       "\t JEEP                 &  6.6052979 & 3.135494 & 13\\\\\n",
       "\t KIA                  &  8.0146664 & 4.736198 & 14\\\\\n",
       "\t LAND ROVER           &  3.6375862 & 2.944439 & 15\\\\\n",
       "\t LINCOLN              &  4.6539604 & 3.091042 & 16\\\\\n",
       "\t MERCEDES-BENZ        &  5.7990927 & 3.526361 & 17\\\\\n",
       "\t MINI                 &  5.7170277 & 3.970292 & 18\\\\\n",
       "\t MITSUBISHI           &  6.3750248 & 3.258097 & 19\\\\\n",
       "\t NISSAN               &  9.3371492 & 4.624973 & 20\\\\\n",
       "\t POLESTAR             &  4.7449321 & 5.451038 & 21\\\\\n",
       "\t PORSCHE              &  6.3385941 & 4.343805 & 22\\\\\n",
       "\t SMART                &  5.6094718 & 4.127134 & 23\\\\\n",
       "\t SUBARU               &  3.9702919 & 2.833213 & 24\\\\\n",
       "\t TESLA                & 10.1590983 & 5.480639 & 25\\\\\n",
       "\t TH!NK                &  1.0986123 & 4.605170 & 26\\\\\n",
       "\t TOYOTA               &  8.3081991 & 3.218876 & 27\\\\\n",
       "\t VOLKSWAGEN           &  6.9754139 & 4.663439 & 28\\\\\n",
       "\t VOLVO                &  7.3987863 & 2.890372 & 29\\\\\n",
       "\t WHEEGO ELECTRIC CARS &  1.0986123 & 4.605170 & 31\\\\\n",
       "\\end{tabular}\n"
      ],
      "text/markdown": [
       "\n",
       "A tibble: 31 × 4\n",
       "\n",
       "| Make &lt;chr&gt; | Car_countLOG &lt;dbl&gt; | Average_Electic_RangeLOG &lt;dbl&gt; | MakeR &lt;dbl&gt; |\n",
       "|---|---|---|---|\n",
       "| AUDI                 |  7.4581862 | 4.418841 |  0 |\n",
       "| AZURE DYNAMICS       |  1.9459101 | 4.025352 |  1 |\n",
       "| BENTLEY              |  0.6931472 | 2.833213 |  2 |\n",
       "| BMW                  |  8.3233657 | 3.931826 |  3 |\n",
       "| CADILLAC             |  4.6913479 | 3.555348 |  4 |\n",
       "| CHEVROLET            |  9.0996322 | 4.852030 |  5 |\n",
       "| CHRYSLER             |  7.4235684 | 3.465736 |  6 |\n",
       "| FIAT                 |  6.7165948 | 4.442651 |  7 |\n",
       "| FISKER               |  2.5649494 | 3.496508 |  8 |\n",
       "| FORD                 |  8.2733366 | 3.178054 |  9 |\n",
       "| HONDA                |  6.6502790 | 3.828641 | 10 |\n",
       "| HYUNDAI              |  6.9440872 | 4.317488 | 11 |\n",
       "| JAGUAR               |  5.2470241 | 5.455321 | 12 |\n",
       "| JEEP                 |  6.6052979 | 3.135494 | 13 |\n",
       "| KIA                  |  8.0146664 | 4.736198 | 14 |\n",
       "| LAND ROVER           |  3.6375862 | 2.944439 | 15 |\n",
       "| LINCOLN              |  4.6539604 | 3.091042 | 16 |\n",
       "| MERCEDES-BENZ        |  5.7990927 | 3.526361 | 17 |\n",
       "| MINI                 |  5.7170277 | 3.970292 | 18 |\n",
       "| MITSUBISHI           |  6.3750248 | 3.258097 | 19 |\n",
       "| NISSAN               |  9.3371492 | 4.624973 | 20 |\n",
       "| POLESTAR             |  4.7449321 | 5.451038 | 21 |\n",
       "| PORSCHE              |  6.3385941 | 4.343805 | 22 |\n",
       "| SMART                |  5.6094718 | 4.127134 | 23 |\n",
       "| SUBARU               |  3.9702919 | 2.833213 | 24 |\n",
       "| TESLA                | 10.1590983 | 5.480639 | 25 |\n",
       "| TH!NK                |  1.0986123 | 4.605170 | 26 |\n",
       "| TOYOTA               |  8.3081991 | 3.218876 | 27 |\n",
       "| VOLKSWAGEN           |  6.9754139 | 4.663439 | 28 |\n",
       "| VOLVO                |  7.3987863 | 2.890372 | 29 |\n",
       "| WHEEGO ELECTRIC CARS |  1.0986123 | 4.605170 | 31 |\n",
       "\n"
      ],
      "text/plain": [
       "   Make                 Car_countLOG Average_Electic_RangeLOG MakeR\n",
       "1  AUDI                  7.4581862   4.418841                  0   \n",
       "2  AZURE DYNAMICS        1.9459101   4.025352                  1   \n",
       "3  BENTLEY               0.6931472   2.833213                  2   \n",
       "4  BMW                   8.3233657   3.931826                  3   \n",
       "5  CADILLAC              4.6913479   3.555348                  4   \n",
       "6  CHEVROLET             9.0996322   4.852030                  5   \n",
       "7  CHRYSLER              7.4235684   3.465736                  6   \n",
       "8  FIAT                  6.7165948   4.442651                  7   \n",
       "9  FISKER                2.5649494   3.496508                  8   \n",
       "10 FORD                  8.2733366   3.178054                  9   \n",
       "11 HONDA                 6.6502790   3.828641                 10   \n",
       "12 HYUNDAI               6.9440872   4.317488                 11   \n",
       "13 JAGUAR                5.2470241   5.455321                 12   \n",
       "14 JEEP                  6.6052979   3.135494                 13   \n",
       "15 KIA                   8.0146664   4.736198                 14   \n",
       "16 LAND ROVER            3.6375862   2.944439                 15   \n",
       "17 LINCOLN               4.6539604   3.091042                 16   \n",
       "18 MERCEDES-BENZ         5.7990927   3.526361                 17   \n",
       "19 MINI                  5.7170277   3.970292                 18   \n",
       "20 MITSUBISHI            6.3750248   3.258097                 19   \n",
       "21 NISSAN                9.3371492   4.624973                 20   \n",
       "22 POLESTAR              4.7449321   5.451038                 21   \n",
       "23 PORSCHE               6.3385941   4.343805                 22   \n",
       "24 SMART                 5.6094718   4.127134                 23   \n",
       "25 SUBARU                3.9702919   2.833213                 24   \n",
       "26 TESLA                10.1590983   5.480639                 25   \n",
       "27 TH!NK                 1.0986123   4.605170                 26   \n",
       "28 TOYOTA                8.3081991   3.218876                 27   \n",
       "29 VOLKSWAGEN            6.9754139   4.663439                 28   \n",
       "30 VOLVO                 7.3987863   2.890372                 29   \n",
       "31 WHEEGO ELECTRIC CARS  1.0986123   4.605170                 31   "
      ]
     },
     "metadata": {},
     "output_type": "display_data"
    }
   ],
   "source": [
    "Green_cars5LOG4"
   ]
  },
  {
   "cell_type": "code",
   "execution_count": 454,
   "id": "baf1ad2f",
   "metadata": {},
   "outputs": [],
   "source": [
    "Green_cars5LOG4$MakeR=as.factor(Green_cars5LOG4$MakeR)"
   ]
  },
  {
   "cell_type": "code",
   "execution_count": 455,
   "id": "b0f78003",
   "metadata": {},
   "outputs": [
    {
     "data": {
      "text/html": [
       "<table class=\"dataframe\">\n",
       "<caption>A tibble: 31 × 4</caption>\n",
       "<thead>\n",
       "\t<tr><th scope=col>Make</th><th scope=col>Car_countLOG</th><th scope=col>Average_Electic_RangeLOG</th><th scope=col>MakeR</th></tr>\n",
       "\t<tr><th scope=col>&lt;chr&gt;</th><th scope=col>&lt;dbl&gt;</th><th scope=col>&lt;dbl&gt;</th><th scope=col>&lt;fct&gt;</th></tr>\n",
       "</thead>\n",
       "<tbody>\n",
       "\t<tr><td>AUDI                </td><td> 7.4581862</td><td>4.418841</td><td>0 </td></tr>\n",
       "\t<tr><td>AZURE DYNAMICS      </td><td> 1.9459101</td><td>4.025352</td><td>1 </td></tr>\n",
       "\t<tr><td>BENTLEY             </td><td> 0.6931472</td><td>2.833213</td><td>2 </td></tr>\n",
       "\t<tr><td>BMW                 </td><td> 8.3233657</td><td>3.931826</td><td>3 </td></tr>\n",
       "\t<tr><td>CADILLAC            </td><td> 4.6913479</td><td>3.555348</td><td>4 </td></tr>\n",
       "\t<tr><td>CHEVROLET           </td><td> 9.0996322</td><td>4.852030</td><td>5 </td></tr>\n",
       "\t<tr><td>CHRYSLER            </td><td> 7.4235684</td><td>3.465736</td><td>6 </td></tr>\n",
       "\t<tr><td>FIAT                </td><td> 6.7165948</td><td>4.442651</td><td>7 </td></tr>\n",
       "\t<tr><td>FISKER              </td><td> 2.5649494</td><td>3.496508</td><td>8 </td></tr>\n",
       "\t<tr><td>FORD                </td><td> 8.2733366</td><td>3.178054</td><td>9 </td></tr>\n",
       "\t<tr><td>HONDA               </td><td> 6.6502790</td><td>3.828641</td><td>10</td></tr>\n",
       "\t<tr><td>HYUNDAI             </td><td> 6.9440872</td><td>4.317488</td><td>11</td></tr>\n",
       "\t<tr><td>JAGUAR              </td><td> 5.2470241</td><td>5.455321</td><td>12</td></tr>\n",
       "\t<tr><td>JEEP                </td><td> 6.6052979</td><td>3.135494</td><td>13</td></tr>\n",
       "\t<tr><td>KIA                 </td><td> 8.0146664</td><td>4.736198</td><td>14</td></tr>\n",
       "\t<tr><td>LAND ROVER          </td><td> 3.6375862</td><td>2.944439</td><td>15</td></tr>\n",
       "\t<tr><td>LINCOLN             </td><td> 4.6539604</td><td>3.091042</td><td>16</td></tr>\n",
       "\t<tr><td>MERCEDES-BENZ       </td><td> 5.7990927</td><td>3.526361</td><td>17</td></tr>\n",
       "\t<tr><td>MINI                </td><td> 5.7170277</td><td>3.970292</td><td>18</td></tr>\n",
       "\t<tr><td>MITSUBISHI          </td><td> 6.3750248</td><td>3.258097</td><td>19</td></tr>\n",
       "\t<tr><td>NISSAN              </td><td> 9.3371492</td><td>4.624973</td><td>20</td></tr>\n",
       "\t<tr><td>POLESTAR            </td><td> 4.7449321</td><td>5.451038</td><td>21</td></tr>\n",
       "\t<tr><td>PORSCHE             </td><td> 6.3385941</td><td>4.343805</td><td>22</td></tr>\n",
       "\t<tr><td>SMART               </td><td> 5.6094718</td><td>4.127134</td><td>23</td></tr>\n",
       "\t<tr><td>SUBARU              </td><td> 3.9702919</td><td>2.833213</td><td>24</td></tr>\n",
       "\t<tr><td>TESLA               </td><td>10.1590983</td><td>5.480639</td><td>25</td></tr>\n",
       "\t<tr><td>TH!NK               </td><td> 1.0986123</td><td>4.605170</td><td>26</td></tr>\n",
       "\t<tr><td>TOYOTA              </td><td> 8.3081991</td><td>3.218876</td><td>27</td></tr>\n",
       "\t<tr><td>VOLKSWAGEN          </td><td> 6.9754139</td><td>4.663439</td><td>28</td></tr>\n",
       "\t<tr><td>VOLVO               </td><td> 7.3987863</td><td>2.890372</td><td>29</td></tr>\n",
       "\t<tr><td>WHEEGO ELECTRIC CARS</td><td> 1.0986123</td><td>4.605170</td><td>31</td></tr>\n",
       "</tbody>\n",
       "</table>\n"
      ],
      "text/latex": [
       "A tibble: 31 × 4\n",
       "\\begin{tabular}{llll}\n",
       " Make & Car\\_countLOG & Average\\_Electic\\_RangeLOG & MakeR\\\\\n",
       " <chr> & <dbl> & <dbl> & <fct>\\\\\n",
       "\\hline\n",
       "\t AUDI                 &  7.4581862 & 4.418841 & 0 \\\\\n",
       "\t AZURE DYNAMICS       &  1.9459101 & 4.025352 & 1 \\\\\n",
       "\t BENTLEY              &  0.6931472 & 2.833213 & 2 \\\\\n",
       "\t BMW                  &  8.3233657 & 3.931826 & 3 \\\\\n",
       "\t CADILLAC             &  4.6913479 & 3.555348 & 4 \\\\\n",
       "\t CHEVROLET            &  9.0996322 & 4.852030 & 5 \\\\\n",
       "\t CHRYSLER             &  7.4235684 & 3.465736 & 6 \\\\\n",
       "\t FIAT                 &  6.7165948 & 4.442651 & 7 \\\\\n",
       "\t FISKER               &  2.5649494 & 3.496508 & 8 \\\\\n",
       "\t FORD                 &  8.2733366 & 3.178054 & 9 \\\\\n",
       "\t HONDA                &  6.6502790 & 3.828641 & 10\\\\\n",
       "\t HYUNDAI              &  6.9440872 & 4.317488 & 11\\\\\n",
       "\t JAGUAR               &  5.2470241 & 5.455321 & 12\\\\\n",
       "\t JEEP                 &  6.6052979 & 3.135494 & 13\\\\\n",
       "\t KIA                  &  8.0146664 & 4.736198 & 14\\\\\n",
       "\t LAND ROVER           &  3.6375862 & 2.944439 & 15\\\\\n",
       "\t LINCOLN              &  4.6539604 & 3.091042 & 16\\\\\n",
       "\t MERCEDES-BENZ        &  5.7990927 & 3.526361 & 17\\\\\n",
       "\t MINI                 &  5.7170277 & 3.970292 & 18\\\\\n",
       "\t MITSUBISHI           &  6.3750248 & 3.258097 & 19\\\\\n",
       "\t NISSAN               &  9.3371492 & 4.624973 & 20\\\\\n",
       "\t POLESTAR             &  4.7449321 & 5.451038 & 21\\\\\n",
       "\t PORSCHE              &  6.3385941 & 4.343805 & 22\\\\\n",
       "\t SMART                &  5.6094718 & 4.127134 & 23\\\\\n",
       "\t SUBARU               &  3.9702919 & 2.833213 & 24\\\\\n",
       "\t TESLA                & 10.1590983 & 5.480639 & 25\\\\\n",
       "\t TH!NK                &  1.0986123 & 4.605170 & 26\\\\\n",
       "\t TOYOTA               &  8.3081991 & 3.218876 & 27\\\\\n",
       "\t VOLKSWAGEN           &  6.9754139 & 4.663439 & 28\\\\\n",
       "\t VOLVO                &  7.3987863 & 2.890372 & 29\\\\\n",
       "\t WHEEGO ELECTRIC CARS &  1.0986123 & 4.605170 & 31\\\\\n",
       "\\end{tabular}\n"
      ],
      "text/markdown": [
       "\n",
       "A tibble: 31 × 4\n",
       "\n",
       "| Make &lt;chr&gt; | Car_countLOG &lt;dbl&gt; | Average_Electic_RangeLOG &lt;dbl&gt; | MakeR &lt;fct&gt; |\n",
       "|---|---|---|---|\n",
       "| AUDI                 |  7.4581862 | 4.418841 | 0  |\n",
       "| AZURE DYNAMICS       |  1.9459101 | 4.025352 | 1  |\n",
       "| BENTLEY              |  0.6931472 | 2.833213 | 2  |\n",
       "| BMW                  |  8.3233657 | 3.931826 | 3  |\n",
       "| CADILLAC             |  4.6913479 | 3.555348 | 4  |\n",
       "| CHEVROLET            |  9.0996322 | 4.852030 | 5  |\n",
       "| CHRYSLER             |  7.4235684 | 3.465736 | 6  |\n",
       "| FIAT                 |  6.7165948 | 4.442651 | 7  |\n",
       "| FISKER               |  2.5649494 | 3.496508 | 8  |\n",
       "| FORD                 |  8.2733366 | 3.178054 | 9  |\n",
       "| HONDA                |  6.6502790 | 3.828641 | 10 |\n",
       "| HYUNDAI              |  6.9440872 | 4.317488 | 11 |\n",
       "| JAGUAR               |  5.2470241 | 5.455321 | 12 |\n",
       "| JEEP                 |  6.6052979 | 3.135494 | 13 |\n",
       "| KIA                  |  8.0146664 | 4.736198 | 14 |\n",
       "| LAND ROVER           |  3.6375862 | 2.944439 | 15 |\n",
       "| LINCOLN              |  4.6539604 | 3.091042 | 16 |\n",
       "| MERCEDES-BENZ        |  5.7990927 | 3.526361 | 17 |\n",
       "| MINI                 |  5.7170277 | 3.970292 | 18 |\n",
       "| MITSUBISHI           |  6.3750248 | 3.258097 | 19 |\n",
       "| NISSAN               |  9.3371492 | 4.624973 | 20 |\n",
       "| POLESTAR             |  4.7449321 | 5.451038 | 21 |\n",
       "| PORSCHE              |  6.3385941 | 4.343805 | 22 |\n",
       "| SMART                |  5.6094718 | 4.127134 | 23 |\n",
       "| SUBARU               |  3.9702919 | 2.833213 | 24 |\n",
       "| TESLA                | 10.1590983 | 5.480639 | 25 |\n",
       "| TH!NK                |  1.0986123 | 4.605170 | 26 |\n",
       "| TOYOTA               |  8.3081991 | 3.218876 | 27 |\n",
       "| VOLKSWAGEN           |  6.9754139 | 4.663439 | 28 |\n",
       "| VOLVO                |  7.3987863 | 2.890372 | 29 |\n",
       "| WHEEGO ELECTRIC CARS |  1.0986123 | 4.605170 | 31 |\n",
       "\n"
      ],
      "text/plain": [
       "   Make                 Car_countLOG Average_Electic_RangeLOG MakeR\n",
       "1  AUDI                  7.4581862   4.418841                 0    \n",
       "2  AZURE DYNAMICS        1.9459101   4.025352                 1    \n",
       "3  BENTLEY               0.6931472   2.833213                 2    \n",
       "4  BMW                   8.3233657   3.931826                 3    \n",
       "5  CADILLAC              4.6913479   3.555348                 4    \n",
       "6  CHEVROLET             9.0996322   4.852030                 5    \n",
       "7  CHRYSLER              7.4235684   3.465736                 6    \n",
       "8  FIAT                  6.7165948   4.442651                 7    \n",
       "9  FISKER                2.5649494   3.496508                 8    \n",
       "10 FORD                  8.2733366   3.178054                 9    \n",
       "11 HONDA                 6.6502790   3.828641                 10   \n",
       "12 HYUNDAI               6.9440872   4.317488                 11   \n",
       "13 JAGUAR                5.2470241   5.455321                 12   \n",
       "14 JEEP                  6.6052979   3.135494                 13   \n",
       "15 KIA                   8.0146664   4.736198                 14   \n",
       "16 LAND ROVER            3.6375862   2.944439                 15   \n",
       "17 LINCOLN               4.6539604   3.091042                 16   \n",
       "18 MERCEDES-BENZ         5.7990927   3.526361                 17   \n",
       "19 MINI                  5.7170277   3.970292                 18   \n",
       "20 MITSUBISHI            6.3750248   3.258097                 19   \n",
       "21 NISSAN                9.3371492   4.624973                 20   \n",
       "22 POLESTAR              4.7449321   5.451038                 21   \n",
       "23 PORSCHE               6.3385941   4.343805                 22   \n",
       "24 SMART                 5.6094718   4.127134                 23   \n",
       "25 SUBARU                3.9702919   2.833213                 24   \n",
       "26 TESLA                10.1590983   5.480639                 25   \n",
       "27 TH!NK                 1.0986123   4.605170                 26   \n",
       "28 TOYOTA                8.3081991   3.218876                 27   \n",
       "29 VOLKSWAGEN            6.9754139   4.663439                 28   \n",
       "30 VOLVO                 7.3987863   2.890372                 29   \n",
       "31 WHEEGO ELECTRIC CARS  1.0986123   4.605170                 31   "
      ]
     },
     "metadata": {},
     "output_type": "display_data"
    }
   ],
   "source": [
    "Green_cars5LOG4"
   ]
  },
  {
   "cell_type": "code",
   "execution_count": 465,
   "id": "0474039f",
   "metadata": {},
   "outputs": [
    {
     "data": {
      "text/html": [
       "<table class=\"dataframe\">\n",
       "<caption>A anova: 2 × 3</caption>\n",
       "<thead>\n",
       "\t<tr><th></th><th scope=col>Df</th><th scope=col>F value</th><th scope=col>Pr(&gt;F)</th></tr>\n",
       "\t<tr><th></th><th scope=col>&lt;int&gt;</th><th scope=col>&lt;dbl&gt;</th><th scope=col>&lt;dbl&gt;</th></tr>\n",
       "</thead>\n",
       "<tbody>\n",
       "\t<tr><th scope=row>group</th><td>30</td><td>NaN</td><td>NaN</td></tr>\n",
       "\t<tr><th scope=row> </th><td> 0</td><td> NA</td><td> NA</td></tr>\n",
       "</tbody>\n",
       "</table>\n"
      ],
      "text/latex": [
       "A anova: 2 × 3\n",
       "\\begin{tabular}{r|lll}\n",
       "  & Df & F value & Pr(>F)\\\\\n",
       "  & <int> & <dbl> & <dbl>\\\\\n",
       "\\hline\n",
       "\tgroup & 30 & NaN & NaN\\\\\n",
       "\t  &  0 &  NA &  NA\\\\\n",
       "\\end{tabular}\n"
      ],
      "text/markdown": [
       "\n",
       "A anova: 2 × 3\n",
       "\n",
       "| <!--/--> | Df &lt;int&gt; | F value &lt;dbl&gt; | Pr(&gt;F) &lt;dbl&gt; |\n",
       "|---|---|---|---|\n",
       "| group | 30 | NaN | NaN |\n",
       "| <!----> |  0 |  NA |  NA |\n",
       "\n"
      ],
      "text/plain": [
       "      Df F value Pr(>F)\n",
       "group 30 NaN     NaN   \n",
       "       0  NA      NA   "
      ]
     },
     "metadata": {},
     "output_type": "display_data"
    }
   ],
   "source": [
    "leveneTest(Green_cars5LOG4$Car_countLOG,Green_cars5LOG4$Make, data=Green_cars5LOG4)"
   ]
  },
  {
   "cell_type": "code",
   "execution_count": null,
   "id": "f2711853",
   "metadata": {},
   "outputs": [],
   "source": []
  }
 ],
 "metadata": {
  "kernelspec": {
   "display_name": "R",
   "language": "R",
   "name": "ir"
  },
  "language_info": {
   "codemirror_mode": "r",
   "file_extension": ".r",
   "mimetype": "text/x-r-source",
   "name": "R",
   "pygments_lexer": "r",
   "version": "4.1.2"
  }
 },
 "nbformat": 4,
 "nbformat_minor": 5
}
