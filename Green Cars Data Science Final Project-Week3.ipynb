{
 "cells": [
  {
   "cell_type": "code",
   "execution_count": null,
   "id": "48103ec5",
   "metadata": {},
   "outputs": [],
   "source": [
    "## Green Cars- Data Science Course Final Project"
   ]
  },
  {
   "cell_type": "markdown",
   "id": "be6a1769",
   "metadata": {},
   "source": [
    "## Load Packages"
   ]
  },
  {
   "cell_type": "code",
   "execution_count": 328,
   "id": "f5ca5b39",
   "metadata": {},
   "outputs": [],
   "source": [
    "library(\"dplyr\")\n",
    "library(\"tidyr\")\n",
    "library(\"readxl\")\n",
    "library('ggplot2')"
   ]
  },
  {
   "cell_type": "markdown",
   "id": "5e094c01",
   "metadata": {},
   "source": [
    "## Load Data Set"
   ]
  },
  {
   "cell_type": "code",
   "execution_count": 329,
   "id": "e3e6a1e3",
   "metadata": {},
   "outputs": [],
   "source": [
    "Green_cars= read.csv(\"C:/Users/laran/Documents/DataScience Course/Electric_Vehicle_Population_Data.csv\")"
   ]
  },
  {
   "cell_type": "code",
   "execution_count": 330,
   "id": "93b515a8",
   "metadata": {},
   "outputs": [
    {
     "data": {
      "text/html": [
       "<table class=\"dataframe\">\n",
       "<caption>A data.frame: 6 × 17</caption>\n",
       "<thead>\n",
       "\t<tr><th></th><th scope=col>VIN..1.10.</th><th scope=col>County</th><th scope=col>City</th><th scope=col>State</th><th scope=col>Postal.Code</th><th scope=col>Model.Year</th><th scope=col>Make</th><th scope=col>Model</th><th scope=col>Electric.Vehicle.Type</th><th scope=col>Clean.Alternative.Fuel.Vehicle..CAFV..Eligibility</th><th scope=col>Electric.Range</th><th scope=col>Base.MSRP</th><th scope=col>Legislative.District</th><th scope=col>DOL.Vehicle.ID</th><th scope=col>Vehicle.Location</th><th scope=col>Electric.Utility</th><th scope=col>X2020.Census.Tract</th></tr>\n",
       "\t<tr><th></th><th scope=col>&lt;chr&gt;</th><th scope=col>&lt;chr&gt;</th><th scope=col>&lt;chr&gt;</th><th scope=col>&lt;chr&gt;</th><th scope=col>&lt;int&gt;</th><th scope=col>&lt;int&gt;</th><th scope=col>&lt;chr&gt;</th><th scope=col>&lt;chr&gt;</th><th scope=col>&lt;chr&gt;</th><th scope=col>&lt;chr&gt;</th><th scope=col>&lt;int&gt;</th><th scope=col>&lt;int&gt;</th><th scope=col>&lt;int&gt;</th><th scope=col>&lt;int&gt;</th><th scope=col>&lt;chr&gt;</th><th scope=col>&lt;chr&gt;</th><th scope=col>&lt;dbl&gt;</th></tr>\n",
       "</thead>\n",
       "<tbody>\n",
       "\t<tr><th scope=row>1</th><td>WP0AB2Y13M</td><td>Thurston </td><td>Olympia     </td><td>WA</td><td>98513</td><td>2021</td><td>PORSCHE  </td><td>TAYCAN     </td><td>Battery Electric Vehicle (BEV)        </td><td>Clean Alternative Fuel Vehicle Eligible</td><td>203</td><td>0</td><td> 2</td><td>156659646</td><td>POINT (-122.751179 47.002092)</td><td>PUGET SOUND ENERGY INC  </td><td>53067012331</td></tr>\n",
       "\t<tr><th scope=row>2</th><td>1N4BZ1CP0K</td><td>Grant    </td><td>Quincy      </td><td>WA</td><td>98848</td><td>2019</td><td>NISSAN   </td><td>LEAF       </td><td>Battery Electric Vehicle (BEV)        </td><td>Clean Alternative Fuel Vehicle Eligible</td><td>150</td><td>0</td><td>12</td><td>157077469</td><td>POINT (-119.830891 47.164101)</td><td>PUD NO 2 OF GRANT COUNTY</td><td>53025011200</td></tr>\n",
       "\t<tr><th scope=row>3</th><td>1G1FX6S06J</td><td>Skagit   </td><td>Mount Vernon</td><td>WA</td><td>98274</td><td>2018</td><td>CHEVROLET</td><td>BOLT EV    </td><td>Battery Electric Vehicle (BEV)        </td><td>Clean Alternative Fuel Vehicle Eligible</td><td>238</td><td>0</td><td>10</td><td>250701013</td><td>POINT (-122.250701 48.368138)</td><td>PUGET SOUND ENERGY INC  </td><td>53057952700</td></tr>\n",
       "\t<tr><th scope=row>4</th><td>JTDKAMFP3M</td><td>Yakima   </td><td>Yakima      </td><td>WA</td><td>98902</td><td>2021</td><td>TOYOTA   </td><td>PRIUS PRIME</td><td>Plug-in Hybrid Electric Vehicle (PHEV)</td><td>Not eligible due to low battery range  </td><td> 25</td><td>0</td><td>14</td><td>156585922</td><td>POINT (-120.532719 46.59458) </td><td>                        </td><td>53077001000</td></tr>\n",
       "\t<tr><th scope=row>5</th><td>1N4AZ1CP4L</td><td>Snohomish</td><td>Everett     </td><td>WA</td><td>98208</td><td>2020</td><td>NISSAN   </td><td>LEAF       </td><td>Battery Electric Vehicle (BEV)        </td><td>Clean Alternative Fuel Vehicle Eligible</td><td>149</td><td>0</td><td>44</td><td>128498779</td><td>POINT (-122.19615 47.894423) </td><td>PUGET SOUND ENERGY INC  </td><td>53061052120</td></tr>\n",
       "\t<tr><th scope=row>6</th><td>5YJSA1S2XF</td><td>Grant    </td><td>Moses Lake  </td><td>WA</td><td>98837</td><td>2015</td><td>TESLA    </td><td>MODEL S    </td><td>Battery Electric Vehicle (BEV)        </td><td>Clean Alternative Fuel Vehicle Eligible</td><td>208</td><td>0</td><td>13</td><td>132461094</td><td>POINT (-119.280576 47.149471)</td><td>PUD NO 2 OF GRANT COUNTY</td><td>53025011002</td></tr>\n",
       "</tbody>\n",
       "</table>\n"
      ],
      "text/latex": [
       "A data.frame: 6 × 17\n",
       "\\begin{tabular}{r|lllllllllllllllll}\n",
       "  & VIN..1.10. & County & City & State & Postal.Code & Model.Year & Make & Model & Electric.Vehicle.Type & Clean.Alternative.Fuel.Vehicle..CAFV..Eligibility & Electric.Range & Base.MSRP & Legislative.District & DOL.Vehicle.ID & Vehicle.Location & Electric.Utility & X2020.Census.Tract\\\\\n",
       "  & <chr> & <chr> & <chr> & <chr> & <int> & <int> & <chr> & <chr> & <chr> & <chr> & <int> & <int> & <int> & <int> & <chr> & <chr> & <dbl>\\\\\n",
       "\\hline\n",
       "\t1 & WP0AB2Y13M & Thurston  & Olympia      & WA & 98513 & 2021 & PORSCHE   & TAYCAN      & Battery Electric Vehicle (BEV)         & Clean Alternative Fuel Vehicle Eligible & 203 & 0 &  2 & 156659646 & POINT (-122.751179 47.002092) & PUGET SOUND ENERGY INC   & 53067012331\\\\\n",
       "\t2 & 1N4BZ1CP0K & Grant     & Quincy       & WA & 98848 & 2019 & NISSAN    & LEAF        & Battery Electric Vehicle (BEV)         & Clean Alternative Fuel Vehicle Eligible & 150 & 0 & 12 & 157077469 & POINT (-119.830891 47.164101) & PUD NO 2 OF GRANT COUNTY & 53025011200\\\\\n",
       "\t3 & 1G1FX6S06J & Skagit    & Mount Vernon & WA & 98274 & 2018 & CHEVROLET & BOLT EV     & Battery Electric Vehicle (BEV)         & Clean Alternative Fuel Vehicle Eligible & 238 & 0 & 10 & 250701013 & POINT (-122.250701 48.368138) & PUGET SOUND ENERGY INC   & 53057952700\\\\\n",
       "\t4 & JTDKAMFP3M & Yakima    & Yakima       & WA & 98902 & 2021 & TOYOTA    & PRIUS PRIME & Plug-in Hybrid Electric Vehicle (PHEV) & Not eligible due to low battery range   &  25 & 0 & 14 & 156585922 & POINT (-120.532719 46.59458)  &                          & 53077001000\\\\\n",
       "\t5 & 1N4AZ1CP4L & Snohomish & Everett      & WA & 98208 & 2020 & NISSAN    & LEAF        & Battery Electric Vehicle (BEV)         & Clean Alternative Fuel Vehicle Eligible & 149 & 0 & 44 & 128498779 & POINT (-122.19615 47.894423)  & PUGET SOUND ENERGY INC   & 53061052120\\\\\n",
       "\t6 & 5YJSA1S2XF & Grant     & Moses Lake   & WA & 98837 & 2015 & TESLA     & MODEL S     & Battery Electric Vehicle (BEV)         & Clean Alternative Fuel Vehicle Eligible & 208 & 0 & 13 & 132461094 & POINT (-119.280576 47.149471) & PUD NO 2 OF GRANT COUNTY & 53025011002\\\\\n",
       "\\end{tabular}\n"
      ],
      "text/markdown": [
       "\n",
       "A data.frame: 6 × 17\n",
       "\n",
       "| <!--/--> | VIN..1.10. &lt;chr&gt; | County &lt;chr&gt; | City &lt;chr&gt; | State &lt;chr&gt; | Postal.Code &lt;int&gt; | Model.Year &lt;int&gt; | Make &lt;chr&gt; | Model &lt;chr&gt; | Electric.Vehicle.Type &lt;chr&gt; | Clean.Alternative.Fuel.Vehicle..CAFV..Eligibility &lt;chr&gt; | Electric.Range &lt;int&gt; | Base.MSRP &lt;int&gt; | Legislative.District &lt;int&gt; | DOL.Vehicle.ID &lt;int&gt; | Vehicle.Location &lt;chr&gt; | Electric.Utility &lt;chr&gt; | X2020.Census.Tract &lt;dbl&gt; |\n",
       "|---|---|---|---|---|---|---|---|---|---|---|---|---|---|---|---|---|---|\n",
       "| 1 | WP0AB2Y13M | Thurston  | Olympia      | WA | 98513 | 2021 | PORSCHE   | TAYCAN      | Battery Electric Vehicle (BEV)         | Clean Alternative Fuel Vehicle Eligible | 203 | 0 |  2 | 156659646 | POINT (-122.751179 47.002092) | PUGET SOUND ENERGY INC   | 53067012331 |\n",
       "| 2 | 1N4BZ1CP0K | Grant     | Quincy       | WA | 98848 | 2019 | NISSAN    | LEAF        | Battery Electric Vehicle (BEV)         | Clean Alternative Fuel Vehicle Eligible | 150 | 0 | 12 | 157077469 | POINT (-119.830891 47.164101) | PUD NO 2 OF GRANT COUNTY | 53025011200 |\n",
       "| 3 | 1G1FX6S06J | Skagit    | Mount Vernon | WA | 98274 | 2018 | CHEVROLET | BOLT EV     | Battery Electric Vehicle (BEV)         | Clean Alternative Fuel Vehicle Eligible | 238 | 0 | 10 | 250701013 | POINT (-122.250701 48.368138) | PUGET SOUND ENERGY INC   | 53057952700 |\n",
       "| 4 | JTDKAMFP3M | Yakima    | Yakima       | WA | 98902 | 2021 | TOYOTA    | PRIUS PRIME | Plug-in Hybrid Electric Vehicle (PHEV) | Not eligible due to low battery range   |  25 | 0 | 14 | 156585922 | POINT (-120.532719 46.59458)  | <!----> | 53077001000 |\n",
       "| 5 | 1N4AZ1CP4L | Snohomish | Everett      | WA | 98208 | 2020 | NISSAN    | LEAF        | Battery Electric Vehicle (BEV)         | Clean Alternative Fuel Vehicle Eligible | 149 | 0 | 44 | 128498779 | POINT (-122.19615 47.894423)  | PUGET SOUND ENERGY INC   | 53061052120 |\n",
       "| 6 | 5YJSA1S2XF | Grant     | Moses Lake   | WA | 98837 | 2015 | TESLA     | MODEL S     | Battery Electric Vehicle (BEV)         | Clean Alternative Fuel Vehicle Eligible | 208 | 0 | 13 | 132461094 | POINT (-119.280576 47.149471) | PUD NO 2 OF GRANT COUNTY | 53025011002 |\n",
       "\n"
      ],
      "text/plain": [
       "  VIN..1.10. County    City         State Postal.Code Model.Year Make     \n",
       "1 WP0AB2Y13M Thurston  Olympia      WA    98513       2021       PORSCHE  \n",
       "2 1N4BZ1CP0K Grant     Quincy       WA    98848       2019       NISSAN   \n",
       "3 1G1FX6S06J Skagit    Mount Vernon WA    98274       2018       CHEVROLET\n",
       "4 JTDKAMFP3M Yakima    Yakima       WA    98902       2021       TOYOTA   \n",
       "5 1N4AZ1CP4L Snohomish Everett      WA    98208       2020       NISSAN   \n",
       "6 5YJSA1S2XF Grant     Moses Lake   WA    98837       2015       TESLA    \n",
       "  Model       Electric.Vehicle.Type                 \n",
       "1 TAYCAN      Battery Electric Vehicle (BEV)        \n",
       "2 LEAF        Battery Electric Vehicle (BEV)        \n",
       "3 BOLT EV     Battery Electric Vehicle (BEV)        \n",
       "4 PRIUS PRIME Plug-in Hybrid Electric Vehicle (PHEV)\n",
       "5 LEAF        Battery Electric Vehicle (BEV)        \n",
       "6 MODEL S     Battery Electric Vehicle (BEV)        \n",
       "  Clean.Alternative.Fuel.Vehicle..CAFV..Eligibility Electric.Range Base.MSRP\n",
       "1 Clean Alternative Fuel Vehicle Eligible           203            0        \n",
       "2 Clean Alternative Fuel Vehicle Eligible           150            0        \n",
       "3 Clean Alternative Fuel Vehicle Eligible           238            0        \n",
       "4 Not eligible due to low battery range              25            0        \n",
       "5 Clean Alternative Fuel Vehicle Eligible           149            0        \n",
       "6 Clean Alternative Fuel Vehicle Eligible           208            0        \n",
       "  Legislative.District DOL.Vehicle.ID Vehicle.Location             \n",
       "1  2                   156659646      POINT (-122.751179 47.002092)\n",
       "2 12                   157077469      POINT (-119.830891 47.164101)\n",
       "3 10                   250701013      POINT (-122.250701 48.368138)\n",
       "4 14                   156585922      POINT (-120.532719 46.59458) \n",
       "5 44                   128498779      POINT (-122.19615 47.894423) \n",
       "6 13                   132461094      POINT (-119.280576 47.149471)\n",
       "  Electric.Utility         X2020.Census.Tract\n",
       "1 PUGET SOUND ENERGY INC   53067012331       \n",
       "2 PUD NO 2 OF GRANT COUNTY 53025011200       \n",
       "3 PUGET SOUND ENERGY INC   53057952700       \n",
       "4                          53077001000       \n",
       "5 PUGET SOUND ENERGY INC   53061052120       \n",
       "6 PUD NO 2 OF GRANT COUNTY 53025011002       "
      ]
     },
     "metadata": {},
     "output_type": "display_data"
    }
   ],
   "source": [
    "head(Green_cars)"
   ]
  },
  {
   "cell_type": "code",
   "execution_count": 331,
   "id": "93617fc7",
   "metadata": {},
   "outputs": [],
   "source": [
    "Green_cars1=filter(Green_cars,Electric.Range!=0)"
   ]
  },
  {
   "cell_type": "markdown",
   "id": "e584901b",
   "metadata": {},
   "source": [
    "## Subsetting Data"
   ]
  },
  {
   "cell_type": "markdown",
   "id": "3cd0c4d3",
   "metadata": {},
   "source": [
    "## Creating Subset to run Single Linear Regression"
   ]
  },
  {
   "cell_type": "code",
   "execution_count": 332,
   "id": "ee0f39b5",
   "metadata": {},
   "outputs": [],
   "source": [
    "Subset1=c(\"Model.Year\",\"DOL.Vehicle.ID\")\n",
    "Green_cars2=Green_cars[Subset1]"
   ]
  },
  {
   "cell_type": "code",
   "execution_count": 333,
   "id": "5eeb480c",
   "metadata": {},
   "outputs": [
    {
     "data": {
      "text/html": [
       "<table class=\"dataframe\">\n",
       "<caption>A data.frame: 6 × 2</caption>\n",
       "<thead>\n",
       "\t<tr><th></th><th scope=col>Model.Year</th><th scope=col>DOL.Vehicle.ID</th></tr>\n",
       "\t<tr><th></th><th scope=col>&lt;int&gt;</th><th scope=col>&lt;int&gt;</th></tr>\n",
       "</thead>\n",
       "<tbody>\n",
       "\t<tr><th scope=row>1</th><td>2021</td><td>156659646</td></tr>\n",
       "\t<tr><th scope=row>2</th><td>2019</td><td>157077469</td></tr>\n",
       "\t<tr><th scope=row>3</th><td>2018</td><td>250701013</td></tr>\n",
       "\t<tr><th scope=row>4</th><td>2021</td><td>156585922</td></tr>\n",
       "\t<tr><th scope=row>5</th><td>2020</td><td>128498779</td></tr>\n",
       "\t<tr><th scope=row>6</th><td>2015</td><td>132461094</td></tr>\n",
       "</tbody>\n",
       "</table>\n"
      ],
      "text/latex": [
       "A data.frame: 6 × 2\n",
       "\\begin{tabular}{r|ll}\n",
       "  & Model.Year & DOL.Vehicle.ID\\\\\n",
       "  & <int> & <int>\\\\\n",
       "\\hline\n",
       "\t1 & 2021 & 156659646\\\\\n",
       "\t2 & 2019 & 157077469\\\\\n",
       "\t3 & 2018 & 250701013\\\\\n",
       "\t4 & 2021 & 156585922\\\\\n",
       "\t5 & 2020 & 128498779\\\\\n",
       "\t6 & 2015 & 132461094\\\\\n",
       "\\end{tabular}\n"
      ],
      "text/markdown": [
       "\n",
       "A data.frame: 6 × 2\n",
       "\n",
       "| <!--/--> | Model.Year &lt;int&gt; | DOL.Vehicle.ID &lt;int&gt; |\n",
       "|---|---|---|\n",
       "| 1 | 2021 | 156659646 |\n",
       "| 2 | 2019 | 157077469 |\n",
       "| 3 | 2018 | 250701013 |\n",
       "| 4 | 2021 | 156585922 |\n",
       "| 5 | 2020 | 128498779 |\n",
       "| 6 | 2015 | 132461094 |\n",
       "\n"
      ],
      "text/plain": [
       "  Model.Year DOL.Vehicle.ID\n",
       "1 2021       156659646     \n",
       "2 2019       157077469     \n",
       "3 2018       250701013     \n",
       "4 2021       156585922     \n",
       "5 2020       128498779     \n",
       "6 2015       132461094     "
      ]
     },
     "metadata": {},
     "output_type": "display_data"
    }
   ],
   "source": [
    "head(Green_cars2)"
   ]
  },
  {
   "cell_type": "code",
   "execution_count": 334,
   "id": "1f221145",
   "metadata": {},
   "outputs": [],
   "source": [
    "Green_cars3=Green_cars2 %>% group_by(Model.Year) %>% summarize(Car_count = n())"
   ]
  },
  {
   "cell_type": "code",
   "execution_count": 335,
   "id": "c7703e62",
   "metadata": {},
   "outputs": [
    {
     "data": {
      "text/html": [
       "<table class=\"dataframe\">\n",
       "<caption>A tibble: 19 × 2</caption>\n",
       "<thead>\n",
       "\t<tr><th scope=col>Model.Year</th><th scope=col>Car_count</th></tr>\n",
       "\t<tr><th scope=col>&lt;int&gt;</th><th scope=col>&lt;int&gt;</th></tr>\n",
       "</thead>\n",
       "<tbody>\n",
       "\t<tr><td>1993</td><td>    1</td></tr>\n",
       "\t<tr><td>1998</td><td>    1</td></tr>\n",
       "\t<tr><td>1999</td><td>    3</td></tr>\n",
       "\t<tr><td>2000</td><td>   10</td></tr>\n",
       "\t<tr><td>2002</td><td>    2</td></tr>\n",
       "\t<tr><td>2008</td><td>   24</td></tr>\n",
       "\t<tr><td>2010</td><td>   25</td></tr>\n",
       "\t<tr><td>2011</td><td>  856</td></tr>\n",
       "\t<tr><td>2012</td><td> 1721</td></tr>\n",
       "\t<tr><td>2013</td><td> 4804</td></tr>\n",
       "\t<tr><td>2014</td><td> 3771</td></tr>\n",
       "\t<tr><td>2015</td><td> 5032</td></tr>\n",
       "\t<tr><td>2016</td><td> 6376</td></tr>\n",
       "\t<tr><td>2017</td><td> 9787</td></tr>\n",
       "\t<tr><td>2018</td><td>14270</td></tr>\n",
       "\t<tr><td>2019</td><td>10751</td></tr>\n",
       "\t<tr><td>2020</td><td>11178</td></tr>\n",
       "\t<tr><td>2021</td><td>19677</td></tr>\n",
       "\t<tr><td>2022</td><td>11980</td></tr>\n",
       "</tbody>\n",
       "</table>\n"
      ],
      "text/latex": [
       "A tibble: 19 × 2\n",
       "\\begin{tabular}{ll}\n",
       " Model.Year & Car\\_count\\\\\n",
       " <int> & <int>\\\\\n",
       "\\hline\n",
       "\t 1993 &     1\\\\\n",
       "\t 1998 &     1\\\\\n",
       "\t 1999 &     3\\\\\n",
       "\t 2000 &    10\\\\\n",
       "\t 2002 &     2\\\\\n",
       "\t 2008 &    24\\\\\n",
       "\t 2010 &    25\\\\\n",
       "\t 2011 &   856\\\\\n",
       "\t 2012 &  1721\\\\\n",
       "\t 2013 &  4804\\\\\n",
       "\t 2014 &  3771\\\\\n",
       "\t 2015 &  5032\\\\\n",
       "\t 2016 &  6376\\\\\n",
       "\t 2017 &  9787\\\\\n",
       "\t 2018 & 14270\\\\\n",
       "\t 2019 & 10751\\\\\n",
       "\t 2020 & 11178\\\\\n",
       "\t 2021 & 19677\\\\\n",
       "\t 2022 & 11980\\\\\n",
       "\\end{tabular}\n"
      ],
      "text/markdown": [
       "\n",
       "A tibble: 19 × 2\n",
       "\n",
       "| Model.Year &lt;int&gt; | Car_count &lt;int&gt; |\n",
       "|---|---|\n",
       "| 1993 |     1 |\n",
       "| 1998 |     1 |\n",
       "| 1999 |     3 |\n",
       "| 2000 |    10 |\n",
       "| 2002 |     2 |\n",
       "| 2008 |    24 |\n",
       "| 2010 |    25 |\n",
       "| 2011 |   856 |\n",
       "| 2012 |  1721 |\n",
       "| 2013 |  4804 |\n",
       "| 2014 |  3771 |\n",
       "| 2015 |  5032 |\n",
       "| 2016 |  6376 |\n",
       "| 2017 |  9787 |\n",
       "| 2018 | 14270 |\n",
       "| 2019 | 10751 |\n",
       "| 2020 | 11178 |\n",
       "| 2021 | 19677 |\n",
       "| 2022 | 11980 |\n",
       "\n"
      ],
      "text/plain": [
       "   Model.Year Car_count\n",
       "1  1993           1    \n",
       "2  1998           1    \n",
       "3  1999           3    \n",
       "4  2000          10    \n",
       "5  2002           2    \n",
       "6  2008          24    \n",
       "7  2010          25    \n",
       "8  2011         856    \n",
       "9  2012        1721    \n",
       "10 2013        4804    \n",
       "11 2014        3771    \n",
       "12 2015        5032    \n",
       "13 2016        6376    \n",
       "14 2017        9787    \n",
       "15 2018       14270    \n",
       "16 2019       10751    \n",
       "17 2020       11178    \n",
       "18 2021       19677    \n",
       "19 2022       11980    "
      ]
     },
     "metadata": {},
     "output_type": "display_data"
    }
   ],
   "source": [
    "View(Green_cars3)"
   ]
  },
  {
   "cell_type": "markdown",
   "id": "072c1905",
   "metadata": {},
   "source": [
    "## Creating subset For Manova Analysis"
   ]
  },
  {
   "cell_type": "code",
   "execution_count": 336,
   "id": "601af7f7",
   "metadata": {},
   "outputs": [],
   "source": [
    "Subset2=c(\"Make\",\"DOL.Vehicle.ID\",\"Electric.Range\")\n",
    "Green_cars4=Green_cars1[Subset2]"
   ]
  },
  {
   "cell_type": "code",
   "execution_count": 337,
   "id": "8dd41a80",
   "metadata": {},
   "outputs": [
    {
     "data": {
      "text/html": [
       "<table class=\"dataframe\">\n",
       "<caption>A data.frame: 6 × 3</caption>\n",
       "<thead>\n",
       "\t<tr><th></th><th scope=col>Make</th><th scope=col>DOL.Vehicle.ID</th><th scope=col>Electric.Range</th></tr>\n",
       "\t<tr><th></th><th scope=col>&lt;chr&gt;</th><th scope=col>&lt;int&gt;</th><th scope=col>&lt;int&gt;</th></tr>\n",
       "</thead>\n",
       "<tbody>\n",
       "\t<tr><th scope=row>1</th><td>PORSCHE  </td><td>156659646</td><td>203</td></tr>\n",
       "\t<tr><th scope=row>2</th><td>NISSAN   </td><td>157077469</td><td>150</td></tr>\n",
       "\t<tr><th scope=row>3</th><td>CHEVROLET</td><td>250701013</td><td>238</td></tr>\n",
       "\t<tr><th scope=row>4</th><td>TOYOTA   </td><td>156585922</td><td> 25</td></tr>\n",
       "\t<tr><th scope=row>5</th><td>NISSAN   </td><td>128498779</td><td>149</td></tr>\n",
       "\t<tr><th scope=row>6</th><td>TESLA    </td><td>132461094</td><td>208</td></tr>\n",
       "</tbody>\n",
       "</table>\n"
      ],
      "text/latex": [
       "A data.frame: 6 × 3\n",
       "\\begin{tabular}{r|lll}\n",
       "  & Make & DOL.Vehicle.ID & Electric.Range\\\\\n",
       "  & <chr> & <int> & <int>\\\\\n",
       "\\hline\n",
       "\t1 & PORSCHE   & 156659646 & 203\\\\\n",
       "\t2 & NISSAN    & 157077469 & 150\\\\\n",
       "\t3 & CHEVROLET & 250701013 & 238\\\\\n",
       "\t4 & TOYOTA    & 156585922 &  25\\\\\n",
       "\t5 & NISSAN    & 128498779 & 149\\\\\n",
       "\t6 & TESLA     & 132461094 & 208\\\\\n",
       "\\end{tabular}\n"
      ],
      "text/markdown": [
       "\n",
       "A data.frame: 6 × 3\n",
       "\n",
       "| <!--/--> | Make &lt;chr&gt; | DOL.Vehicle.ID &lt;int&gt; | Electric.Range &lt;int&gt; |\n",
       "|---|---|---|---|\n",
       "| 1 | PORSCHE   | 156659646 | 203 |\n",
       "| 2 | NISSAN    | 157077469 | 150 |\n",
       "| 3 | CHEVROLET | 250701013 | 238 |\n",
       "| 4 | TOYOTA    | 156585922 |  25 |\n",
       "| 5 | NISSAN    | 128498779 | 149 |\n",
       "| 6 | TESLA     | 132461094 | 208 |\n",
       "\n"
      ],
      "text/plain": [
       "  Make      DOL.Vehicle.ID Electric.Range\n",
       "1 PORSCHE   156659646      203           \n",
       "2 NISSAN    157077469      150           \n",
       "3 CHEVROLET 250701013      238           \n",
       "4 TOYOTA    156585922       25           \n",
       "5 NISSAN    128498779      149           \n",
       "6 TESLA     132461094      208           "
      ]
     },
     "metadata": {},
     "output_type": "display_data"
    }
   ],
   "source": [
    "head(Green_cars4)"
   ]
  },
  {
   "cell_type": "code",
   "execution_count": 338,
   "id": "43ad8d92",
   "metadata": {},
   "outputs": [],
   "source": [
    "Green_cars5=Green_cars4 %>% group_by(Make) %>% summarise(Car_count= n())"
   ]
  },
  {
   "cell_type": "code",
   "execution_count": 339,
   "id": "c6a20045",
   "metadata": {},
   "outputs": [
    {
     "data": {
      "text/html": [
       "<table class=\"dataframe\">\n",
       "<caption>A tibble: 32 × 2</caption>\n",
       "<thead>\n",
       "\t<tr><th scope=col>Make</th><th scope=col>Car_count</th></tr>\n",
       "\t<tr><th scope=col>&lt;chr&gt;</th><th scope=col>&lt;int&gt;</th></tr>\n",
       "</thead>\n",
       "<tbody>\n",
       "\t<tr><td>AUDI                </td><td> 1734</td></tr>\n",
       "\t<tr><td>AZURE DYNAMICS      </td><td>    7</td></tr>\n",
       "\t<tr><td>BENTLEY             </td><td>    2</td></tr>\n",
       "\t<tr><td>BMW                 </td><td> 4119</td></tr>\n",
       "\t<tr><td>CADILLAC            </td><td>  109</td></tr>\n",
       "\t<tr><td>CHEVROLET           </td><td> 8952</td></tr>\n",
       "\t<tr><td>CHRYSLER            </td><td> 1675</td></tr>\n",
       "\t<tr><td>DODGE               </td><td>    1</td></tr>\n",
       "\t<tr><td>FIAT                </td><td>  826</td></tr>\n",
       "\t<tr><td>FISKER              </td><td>   13</td></tr>\n",
       "\t<tr><td>FORD                </td><td> 3918</td></tr>\n",
       "\t<tr><td>HONDA               </td><td>  773</td></tr>\n",
       "\t<tr><td>HYUNDAI             </td><td> 1037</td></tr>\n",
       "\t<tr><td>JAGUAR              </td><td>  190</td></tr>\n",
       "\t<tr><td>JEEP                </td><td>  739</td></tr>\n",
       "\t<tr><td>KIA                 </td><td> 3025</td></tr>\n",
       "\t<tr><td>LAND ROVER          </td><td>   38</td></tr>\n",
       "\t<tr><td>LINCOLN             </td><td>  105</td></tr>\n",
       "\t<tr><td>MERCEDES-BENZ       </td><td>  330</td></tr>\n",
       "\t<tr><td>MINI                </td><td>  304</td></tr>\n",
       "\t<tr><td>MITSUBISHI          </td><td>  587</td></tr>\n",
       "\t<tr><td>NISSAN              </td><td>11352</td></tr>\n",
       "\t<tr><td>POLESTAR            </td><td>  115</td></tr>\n",
       "\t<tr><td>PORSCHE             </td><td>  566</td></tr>\n",
       "\t<tr><td>SMART               </td><td>  273</td></tr>\n",
       "\t<tr><td>SUBARU              </td><td>   53</td></tr>\n",
       "\t<tr><td>TESLA               </td><td>25825</td></tr>\n",
       "\t<tr><td>TH!NK               </td><td>    3</td></tr>\n",
       "\t<tr><td>TOYOTA              </td><td> 4057</td></tr>\n",
       "\t<tr><td>VOLKSWAGEN          </td><td> 1070</td></tr>\n",
       "\t<tr><td>VOLVO               </td><td> 1634</td></tr>\n",
       "\t<tr><td>WHEEGO ELECTRIC CARS</td><td>    3</td></tr>\n",
       "</tbody>\n",
       "</table>\n"
      ],
      "text/latex": [
       "A tibble: 32 × 2\n",
       "\\begin{tabular}{ll}\n",
       " Make & Car\\_count\\\\\n",
       " <chr> & <int>\\\\\n",
       "\\hline\n",
       "\t AUDI                 &  1734\\\\\n",
       "\t AZURE DYNAMICS       &     7\\\\\n",
       "\t BENTLEY              &     2\\\\\n",
       "\t BMW                  &  4119\\\\\n",
       "\t CADILLAC             &   109\\\\\n",
       "\t CHEVROLET            &  8952\\\\\n",
       "\t CHRYSLER             &  1675\\\\\n",
       "\t DODGE                &     1\\\\\n",
       "\t FIAT                 &   826\\\\\n",
       "\t FISKER               &    13\\\\\n",
       "\t FORD                 &  3918\\\\\n",
       "\t HONDA                &   773\\\\\n",
       "\t HYUNDAI              &  1037\\\\\n",
       "\t JAGUAR               &   190\\\\\n",
       "\t JEEP                 &   739\\\\\n",
       "\t KIA                  &  3025\\\\\n",
       "\t LAND ROVER           &    38\\\\\n",
       "\t LINCOLN              &   105\\\\\n",
       "\t MERCEDES-BENZ        &   330\\\\\n",
       "\t MINI                 &   304\\\\\n",
       "\t MITSUBISHI           &   587\\\\\n",
       "\t NISSAN               & 11352\\\\\n",
       "\t POLESTAR             &   115\\\\\n",
       "\t PORSCHE              &   566\\\\\n",
       "\t SMART                &   273\\\\\n",
       "\t SUBARU               &    53\\\\\n",
       "\t TESLA                & 25825\\\\\n",
       "\t TH!NK                &     3\\\\\n",
       "\t TOYOTA               &  4057\\\\\n",
       "\t VOLKSWAGEN           &  1070\\\\\n",
       "\t VOLVO                &  1634\\\\\n",
       "\t WHEEGO ELECTRIC CARS &     3\\\\\n",
       "\\end{tabular}\n"
      ],
      "text/markdown": [
       "\n",
       "A tibble: 32 × 2\n",
       "\n",
       "| Make &lt;chr&gt; | Car_count &lt;int&gt; |\n",
       "|---|---|\n",
       "| AUDI                 |  1734 |\n",
       "| AZURE DYNAMICS       |     7 |\n",
       "| BENTLEY              |     2 |\n",
       "| BMW                  |  4119 |\n",
       "| CADILLAC             |   109 |\n",
       "| CHEVROLET            |  8952 |\n",
       "| CHRYSLER             |  1675 |\n",
       "| DODGE                |     1 |\n",
       "| FIAT                 |   826 |\n",
       "| FISKER               |    13 |\n",
       "| FORD                 |  3918 |\n",
       "| HONDA                |   773 |\n",
       "| HYUNDAI              |  1037 |\n",
       "| JAGUAR               |   190 |\n",
       "| JEEP                 |   739 |\n",
       "| KIA                  |  3025 |\n",
       "| LAND ROVER           |    38 |\n",
       "| LINCOLN              |   105 |\n",
       "| MERCEDES-BENZ        |   330 |\n",
       "| MINI                 |   304 |\n",
       "| MITSUBISHI           |   587 |\n",
       "| NISSAN               | 11352 |\n",
       "| POLESTAR             |   115 |\n",
       "| PORSCHE              |   566 |\n",
       "| SMART                |   273 |\n",
       "| SUBARU               |    53 |\n",
       "| TESLA                | 25825 |\n",
       "| TH!NK                |     3 |\n",
       "| TOYOTA               |  4057 |\n",
       "| VOLKSWAGEN           |  1070 |\n",
       "| VOLVO                |  1634 |\n",
       "| WHEEGO ELECTRIC CARS |     3 |\n",
       "\n"
      ],
      "text/plain": [
       "   Make                 Car_count\n",
       "1  AUDI                  1734    \n",
       "2  AZURE DYNAMICS           7    \n",
       "3  BENTLEY                  2    \n",
       "4  BMW                   4119    \n",
       "5  CADILLAC               109    \n",
       "6  CHEVROLET             8952    \n",
       "7  CHRYSLER              1675    \n",
       "8  DODGE                    1    \n",
       "9  FIAT                   826    \n",
       "10 FISKER                  13    \n",
       "11 FORD                  3918    \n",
       "12 HONDA                  773    \n",
       "13 HYUNDAI               1037    \n",
       "14 JAGUAR                 190    \n",
       "15 JEEP                   739    \n",
       "16 KIA                   3025    \n",
       "17 LAND ROVER              38    \n",
       "18 LINCOLN                105    \n",
       "19 MERCEDES-BENZ          330    \n",
       "20 MINI                   304    \n",
       "21 MITSUBISHI             587    \n",
       "22 NISSAN               11352    \n",
       "23 POLESTAR               115    \n",
       "24 PORSCHE                566    \n",
       "25 SMART                  273    \n",
       "26 SUBARU                  53    \n",
       "27 TESLA                25825    \n",
       "28 TH!NK                    3    \n",
       "29 TOYOTA                4057    \n",
       "30 VOLKSWAGEN            1070    \n",
       "31 VOLVO                 1634    \n",
       "32 WHEEGO ELECTRIC CARS     3    "
      ]
     },
     "metadata": {},
     "output_type": "display_data"
    }
   ],
   "source": [
    "View(Green_cars5)"
   ]
  },
  {
   "cell_type": "code",
   "execution_count": 340,
   "id": "60a6d929",
   "metadata": {},
   "outputs": [],
   "source": [
    "Green_cars6=Green_cars4 %>% group_by(Make) %>% summarise(Average_electric_range = mean(Electric.Range))"
   ]
  },
  {
   "cell_type": "code",
   "execution_count": 341,
   "id": "06f393ca",
   "metadata": {},
   "outputs": [
    {
     "data": {
      "text/html": [
       "<table class=\"dataframe\">\n",
       "<caption>A tibble: 32 × 2</caption>\n",
       "<thead>\n",
       "\t<tr><th scope=col>Make</th><th scope=col>Average_electric_range</th></tr>\n",
       "\t<tr><th scope=col>&lt;chr&gt;</th><th scope=col>&lt;dbl&gt;</th></tr>\n",
       "</thead>\n",
       "<tbody>\n",
       "\t<tr><td>AUDI                </td><td> 83.17878</td></tr>\n",
       "\t<tr><td>AZURE DYNAMICS      </td><td> 56.00000</td></tr>\n",
       "\t<tr><td>BENTLEY             </td><td> 17.50000</td></tr>\n",
       "\t<tr><td>BMW                 </td><td> 51.51663</td></tr>\n",
       "\t<tr><td>CADILLAC            </td><td> 35.51376</td></tr>\n",
       "\t<tr><td>CHEVROLET           </td><td>128.92292</td></tr>\n",
       "\t<tr><td>CHRYSLER            </td><td> 32.37791</td></tr>\n",
       "\t<tr><td>DODGE               </td><td> 80.00000</td></tr>\n",
       "\t<tr><td>FIAT                </td><td> 85.71065</td></tr>\n",
       "\t<tr><td>FISKER              </td><td> 33.00000</td></tr>\n",
       "\t<tr><td>FORD                </td><td> 24.62226</td></tr>\n",
       "\t<tr><td>HONDA               </td><td> 46.65201</td></tr>\n",
       "\t<tr><td>HYUNDAI             </td><td> 75.81292</td></tr>\n",
       "\t<tr><td>JAGUAR              </td><td>234.00000</td></tr>\n",
       "\t<tr><td>JEEP                </td><td> 23.21516</td></tr>\n",
       "\t<tr><td>KIA                 </td><td>114.64033</td></tr>\n",
       "\t<tr><td>LAND ROVER          </td><td> 19.00000</td></tr>\n",
       "\t<tr><td>LINCOLN             </td><td> 22.86667</td></tr>\n",
       "\t<tr><td>MERCEDES-BENZ       </td><td> 34.27879</td></tr>\n",
       "\t<tr><td>MINI                </td><td> 53.83882</td></tr>\n",
       "\t<tr><td>MITSUBISHI          </td><td> 26.87053</td></tr>\n",
       "\t<tr><td>NISSAN              </td><td>102.94406</td></tr>\n",
       "\t<tr><td>POLESTAR            </td><td>233.00000</td></tr>\n",
       "\t<tr><td>PORSCHE             </td><td> 77.15018</td></tr>\n",
       "\t<tr><td>SMART               </td><td> 62.24542</td></tr>\n",
       "\t<tr><td>SUBARU              </td><td> 17.00000</td></tr>\n",
       "\t<tr><td>TESLA               </td><td>240.17526</td></tr>\n",
       "\t<tr><td>TH!NK               </td><td>100.00000</td></tr>\n",
       "\t<tr><td>TOYOTA              </td><td> 25.11807</td></tr>\n",
       "\t<tr><td>VOLKSWAGEN          </td><td>106.82617</td></tr>\n",
       "\t<tr><td>VOLVO               </td><td> 18.54284</td></tr>\n",
       "\t<tr><td>WHEEGO ELECTRIC CARS</td><td>100.00000</td></tr>\n",
       "</tbody>\n",
       "</table>\n"
      ],
      "text/latex": [
       "A tibble: 32 × 2\n",
       "\\begin{tabular}{ll}\n",
       " Make & Average\\_electric\\_range\\\\\n",
       " <chr> & <dbl>\\\\\n",
       "\\hline\n",
       "\t AUDI                 &  83.17878\\\\\n",
       "\t AZURE DYNAMICS       &  56.00000\\\\\n",
       "\t BENTLEY              &  17.50000\\\\\n",
       "\t BMW                  &  51.51663\\\\\n",
       "\t CADILLAC             &  35.51376\\\\\n",
       "\t CHEVROLET            & 128.92292\\\\\n",
       "\t CHRYSLER             &  32.37791\\\\\n",
       "\t DODGE                &  80.00000\\\\\n",
       "\t FIAT                 &  85.71065\\\\\n",
       "\t FISKER               &  33.00000\\\\\n",
       "\t FORD                 &  24.62226\\\\\n",
       "\t HONDA                &  46.65201\\\\\n",
       "\t HYUNDAI              &  75.81292\\\\\n",
       "\t JAGUAR               & 234.00000\\\\\n",
       "\t JEEP                 &  23.21516\\\\\n",
       "\t KIA                  & 114.64033\\\\\n",
       "\t LAND ROVER           &  19.00000\\\\\n",
       "\t LINCOLN              &  22.86667\\\\\n",
       "\t MERCEDES-BENZ        &  34.27879\\\\\n",
       "\t MINI                 &  53.83882\\\\\n",
       "\t MITSUBISHI           &  26.87053\\\\\n",
       "\t NISSAN               & 102.94406\\\\\n",
       "\t POLESTAR             & 233.00000\\\\\n",
       "\t PORSCHE              &  77.15018\\\\\n",
       "\t SMART                &  62.24542\\\\\n",
       "\t SUBARU               &  17.00000\\\\\n",
       "\t TESLA                & 240.17526\\\\\n",
       "\t TH!NK                & 100.00000\\\\\n",
       "\t TOYOTA               &  25.11807\\\\\n",
       "\t VOLKSWAGEN           & 106.82617\\\\\n",
       "\t VOLVO                &  18.54284\\\\\n",
       "\t WHEEGO ELECTRIC CARS & 100.00000\\\\\n",
       "\\end{tabular}\n"
      ],
      "text/markdown": [
       "\n",
       "A tibble: 32 × 2\n",
       "\n",
       "| Make &lt;chr&gt; | Average_electric_range &lt;dbl&gt; |\n",
       "|---|---|\n",
       "| AUDI                 |  83.17878 |\n",
       "| AZURE DYNAMICS       |  56.00000 |\n",
       "| BENTLEY              |  17.50000 |\n",
       "| BMW                  |  51.51663 |\n",
       "| CADILLAC             |  35.51376 |\n",
       "| CHEVROLET            | 128.92292 |\n",
       "| CHRYSLER             |  32.37791 |\n",
       "| DODGE                |  80.00000 |\n",
       "| FIAT                 |  85.71065 |\n",
       "| FISKER               |  33.00000 |\n",
       "| FORD                 |  24.62226 |\n",
       "| HONDA                |  46.65201 |\n",
       "| HYUNDAI              |  75.81292 |\n",
       "| JAGUAR               | 234.00000 |\n",
       "| JEEP                 |  23.21516 |\n",
       "| KIA                  | 114.64033 |\n",
       "| LAND ROVER           |  19.00000 |\n",
       "| LINCOLN              |  22.86667 |\n",
       "| MERCEDES-BENZ        |  34.27879 |\n",
       "| MINI                 |  53.83882 |\n",
       "| MITSUBISHI           |  26.87053 |\n",
       "| NISSAN               | 102.94406 |\n",
       "| POLESTAR             | 233.00000 |\n",
       "| PORSCHE              |  77.15018 |\n",
       "| SMART                |  62.24542 |\n",
       "| SUBARU               |  17.00000 |\n",
       "| TESLA                | 240.17526 |\n",
       "| TH!NK                | 100.00000 |\n",
       "| TOYOTA               |  25.11807 |\n",
       "| VOLKSWAGEN           | 106.82617 |\n",
       "| VOLVO                |  18.54284 |\n",
       "| WHEEGO ELECTRIC CARS | 100.00000 |\n",
       "\n"
      ],
      "text/plain": [
       "   Make                 Average_electric_range\n",
       "1  AUDI                  83.17878             \n",
       "2  AZURE DYNAMICS        56.00000             \n",
       "3  BENTLEY               17.50000             \n",
       "4  BMW                   51.51663             \n",
       "5  CADILLAC              35.51376             \n",
       "6  CHEVROLET            128.92292             \n",
       "7  CHRYSLER              32.37791             \n",
       "8  DODGE                 80.00000             \n",
       "9  FIAT                  85.71065             \n",
       "10 FISKER                33.00000             \n",
       "11 FORD                  24.62226             \n",
       "12 HONDA                 46.65201             \n",
       "13 HYUNDAI               75.81292             \n",
       "14 JAGUAR               234.00000             \n",
       "15 JEEP                  23.21516             \n",
       "16 KIA                  114.64033             \n",
       "17 LAND ROVER            19.00000             \n",
       "18 LINCOLN               22.86667             \n",
       "19 MERCEDES-BENZ         34.27879             \n",
       "20 MINI                  53.83882             \n",
       "21 MITSUBISHI            26.87053             \n",
       "22 NISSAN               102.94406             \n",
       "23 POLESTAR             233.00000             \n",
       "24 PORSCHE               77.15018             \n",
       "25 SMART                 62.24542             \n",
       "26 SUBARU                17.00000             \n",
       "27 TESLA                240.17526             \n",
       "28 TH!NK                100.00000             \n",
       "29 TOYOTA                25.11807             \n",
       "30 VOLKSWAGEN           106.82617             \n",
       "31 VOLVO                 18.54284             \n",
       "32 WHEEGO ELECTRIC CARS 100.00000             "
      ]
     },
     "metadata": {},
     "output_type": "display_data"
    }
   ],
   "source": [
    "View(Green_cars6)"
   ]
  },
  {
   "cell_type": "code",
   "execution_count": 342,
   "id": "0e7fe9db",
   "metadata": {},
   "outputs": [],
   "source": [
    "Green_cars5$Average_Electic_Range=Green_cars6$Average_electric_range"
   ]
  },
  {
   "cell_type": "code",
   "execution_count": 343,
   "id": "1d34414f",
   "metadata": {},
   "outputs": [
    {
     "data": {
      "text/html": [
       "<table class=\"dataframe\">\n",
       "<caption>A tibble: 32 × 3</caption>\n",
       "<thead>\n",
       "\t<tr><th scope=col>Make</th><th scope=col>Car_count</th><th scope=col>Average_Electic_Range</th></tr>\n",
       "\t<tr><th scope=col>&lt;chr&gt;</th><th scope=col>&lt;int&gt;</th><th scope=col>&lt;dbl&gt;</th></tr>\n",
       "</thead>\n",
       "<tbody>\n",
       "\t<tr><td>AUDI                </td><td> 1734</td><td> 83.17878</td></tr>\n",
       "\t<tr><td>AZURE DYNAMICS      </td><td>    7</td><td> 56.00000</td></tr>\n",
       "\t<tr><td>BENTLEY             </td><td>    2</td><td> 17.50000</td></tr>\n",
       "\t<tr><td>BMW                 </td><td> 4119</td><td> 51.51663</td></tr>\n",
       "\t<tr><td>CADILLAC            </td><td>  109</td><td> 35.51376</td></tr>\n",
       "\t<tr><td>CHEVROLET           </td><td> 8952</td><td>128.92292</td></tr>\n",
       "\t<tr><td>CHRYSLER            </td><td> 1675</td><td> 32.37791</td></tr>\n",
       "\t<tr><td>DODGE               </td><td>    1</td><td> 80.00000</td></tr>\n",
       "\t<tr><td>FIAT                </td><td>  826</td><td> 85.71065</td></tr>\n",
       "\t<tr><td>FISKER              </td><td>   13</td><td> 33.00000</td></tr>\n",
       "\t<tr><td>FORD                </td><td> 3918</td><td> 24.62226</td></tr>\n",
       "\t<tr><td>HONDA               </td><td>  773</td><td> 46.65201</td></tr>\n",
       "\t<tr><td>HYUNDAI             </td><td> 1037</td><td> 75.81292</td></tr>\n",
       "\t<tr><td>JAGUAR              </td><td>  190</td><td>234.00000</td></tr>\n",
       "\t<tr><td>JEEP                </td><td>  739</td><td> 23.21516</td></tr>\n",
       "\t<tr><td>KIA                 </td><td> 3025</td><td>114.64033</td></tr>\n",
       "\t<tr><td>LAND ROVER          </td><td>   38</td><td> 19.00000</td></tr>\n",
       "\t<tr><td>LINCOLN             </td><td>  105</td><td> 22.86667</td></tr>\n",
       "\t<tr><td>MERCEDES-BENZ       </td><td>  330</td><td> 34.27879</td></tr>\n",
       "\t<tr><td>MINI                </td><td>  304</td><td> 53.83882</td></tr>\n",
       "\t<tr><td>MITSUBISHI          </td><td>  587</td><td> 26.87053</td></tr>\n",
       "\t<tr><td>NISSAN              </td><td>11352</td><td>102.94406</td></tr>\n",
       "\t<tr><td>POLESTAR            </td><td>  115</td><td>233.00000</td></tr>\n",
       "\t<tr><td>PORSCHE             </td><td>  566</td><td> 77.15018</td></tr>\n",
       "\t<tr><td>SMART               </td><td>  273</td><td> 62.24542</td></tr>\n",
       "\t<tr><td>SUBARU              </td><td>   53</td><td> 17.00000</td></tr>\n",
       "\t<tr><td>TESLA               </td><td>25825</td><td>240.17526</td></tr>\n",
       "\t<tr><td>TH!NK               </td><td>    3</td><td>100.00000</td></tr>\n",
       "\t<tr><td>TOYOTA              </td><td> 4057</td><td> 25.11807</td></tr>\n",
       "\t<tr><td>VOLKSWAGEN          </td><td> 1070</td><td>106.82617</td></tr>\n",
       "\t<tr><td>VOLVO               </td><td> 1634</td><td> 18.54284</td></tr>\n",
       "\t<tr><td>WHEEGO ELECTRIC CARS</td><td>    3</td><td>100.00000</td></tr>\n",
       "</tbody>\n",
       "</table>\n"
      ],
      "text/latex": [
       "A tibble: 32 × 3\n",
       "\\begin{tabular}{lll}\n",
       " Make & Car\\_count & Average\\_Electic\\_Range\\\\\n",
       " <chr> & <int> & <dbl>\\\\\n",
       "\\hline\n",
       "\t AUDI                 &  1734 &  83.17878\\\\\n",
       "\t AZURE DYNAMICS       &     7 &  56.00000\\\\\n",
       "\t BENTLEY              &     2 &  17.50000\\\\\n",
       "\t BMW                  &  4119 &  51.51663\\\\\n",
       "\t CADILLAC             &   109 &  35.51376\\\\\n",
       "\t CHEVROLET            &  8952 & 128.92292\\\\\n",
       "\t CHRYSLER             &  1675 &  32.37791\\\\\n",
       "\t DODGE                &     1 &  80.00000\\\\\n",
       "\t FIAT                 &   826 &  85.71065\\\\\n",
       "\t FISKER               &    13 &  33.00000\\\\\n",
       "\t FORD                 &  3918 &  24.62226\\\\\n",
       "\t HONDA                &   773 &  46.65201\\\\\n",
       "\t HYUNDAI              &  1037 &  75.81292\\\\\n",
       "\t JAGUAR               &   190 & 234.00000\\\\\n",
       "\t JEEP                 &   739 &  23.21516\\\\\n",
       "\t KIA                  &  3025 & 114.64033\\\\\n",
       "\t LAND ROVER           &    38 &  19.00000\\\\\n",
       "\t LINCOLN              &   105 &  22.86667\\\\\n",
       "\t MERCEDES-BENZ        &   330 &  34.27879\\\\\n",
       "\t MINI                 &   304 &  53.83882\\\\\n",
       "\t MITSUBISHI           &   587 &  26.87053\\\\\n",
       "\t NISSAN               & 11352 & 102.94406\\\\\n",
       "\t POLESTAR             &   115 & 233.00000\\\\\n",
       "\t PORSCHE              &   566 &  77.15018\\\\\n",
       "\t SMART                &   273 &  62.24542\\\\\n",
       "\t SUBARU               &    53 &  17.00000\\\\\n",
       "\t TESLA                & 25825 & 240.17526\\\\\n",
       "\t TH!NK                &     3 & 100.00000\\\\\n",
       "\t TOYOTA               &  4057 &  25.11807\\\\\n",
       "\t VOLKSWAGEN           &  1070 & 106.82617\\\\\n",
       "\t VOLVO                &  1634 &  18.54284\\\\\n",
       "\t WHEEGO ELECTRIC CARS &     3 & 100.00000\\\\\n",
       "\\end{tabular}\n"
      ],
      "text/markdown": [
       "\n",
       "A tibble: 32 × 3\n",
       "\n",
       "| Make &lt;chr&gt; | Car_count &lt;int&gt; | Average_Electic_Range &lt;dbl&gt; |\n",
       "|---|---|---|\n",
       "| AUDI                 |  1734 |  83.17878 |\n",
       "| AZURE DYNAMICS       |     7 |  56.00000 |\n",
       "| BENTLEY              |     2 |  17.50000 |\n",
       "| BMW                  |  4119 |  51.51663 |\n",
       "| CADILLAC             |   109 |  35.51376 |\n",
       "| CHEVROLET            |  8952 | 128.92292 |\n",
       "| CHRYSLER             |  1675 |  32.37791 |\n",
       "| DODGE                |     1 |  80.00000 |\n",
       "| FIAT                 |   826 |  85.71065 |\n",
       "| FISKER               |    13 |  33.00000 |\n",
       "| FORD                 |  3918 |  24.62226 |\n",
       "| HONDA                |   773 |  46.65201 |\n",
       "| HYUNDAI              |  1037 |  75.81292 |\n",
       "| JAGUAR               |   190 | 234.00000 |\n",
       "| JEEP                 |   739 |  23.21516 |\n",
       "| KIA                  |  3025 | 114.64033 |\n",
       "| LAND ROVER           |    38 |  19.00000 |\n",
       "| LINCOLN              |   105 |  22.86667 |\n",
       "| MERCEDES-BENZ        |   330 |  34.27879 |\n",
       "| MINI                 |   304 |  53.83882 |\n",
       "| MITSUBISHI           |   587 |  26.87053 |\n",
       "| NISSAN               | 11352 | 102.94406 |\n",
       "| POLESTAR             |   115 | 233.00000 |\n",
       "| PORSCHE              |   566 |  77.15018 |\n",
       "| SMART                |   273 |  62.24542 |\n",
       "| SUBARU               |    53 |  17.00000 |\n",
       "| TESLA                | 25825 | 240.17526 |\n",
       "| TH!NK                |     3 | 100.00000 |\n",
       "| TOYOTA               |  4057 |  25.11807 |\n",
       "| VOLKSWAGEN           |  1070 | 106.82617 |\n",
       "| VOLVO                |  1634 |  18.54284 |\n",
       "| WHEEGO ELECTRIC CARS |     3 | 100.00000 |\n",
       "\n"
      ],
      "text/plain": [
       "   Make                 Car_count Average_Electic_Range\n",
       "1  AUDI                  1734      83.17878            \n",
       "2  AZURE DYNAMICS           7      56.00000            \n",
       "3  BENTLEY                  2      17.50000            \n",
       "4  BMW                   4119      51.51663            \n",
       "5  CADILLAC               109      35.51376            \n",
       "6  CHEVROLET             8952     128.92292            \n",
       "7  CHRYSLER              1675      32.37791            \n",
       "8  DODGE                    1      80.00000            \n",
       "9  FIAT                   826      85.71065            \n",
       "10 FISKER                  13      33.00000            \n",
       "11 FORD                  3918      24.62226            \n",
       "12 HONDA                  773      46.65201            \n",
       "13 HYUNDAI               1037      75.81292            \n",
       "14 JAGUAR                 190     234.00000            \n",
       "15 JEEP                   739      23.21516            \n",
       "16 KIA                   3025     114.64033            \n",
       "17 LAND ROVER              38      19.00000            \n",
       "18 LINCOLN                105      22.86667            \n",
       "19 MERCEDES-BENZ          330      34.27879            \n",
       "20 MINI                   304      53.83882            \n",
       "21 MITSUBISHI             587      26.87053            \n",
       "22 NISSAN               11352     102.94406            \n",
       "23 POLESTAR               115     233.00000            \n",
       "24 PORSCHE                566      77.15018            \n",
       "25 SMART                  273      62.24542            \n",
       "26 SUBARU                  53      17.00000            \n",
       "27 TESLA                25825     240.17526            \n",
       "28 TH!NK                    3     100.00000            \n",
       "29 TOYOTA                4057      25.11807            \n",
       "30 VOLKSWAGEN            1070     106.82617            \n",
       "31 VOLVO                 1634      18.54284            \n",
       "32 WHEEGO ELECTRIC CARS     3     100.00000            "
      ]
     },
     "metadata": {},
     "output_type": "display_data"
    }
   ],
   "source": [
    "View(Green_cars5)"
   ]
  },
  {
   "cell_type": "markdown",
   "id": "412b83fc",
   "metadata": {},
   "source": [
    "## Data exploration"
   ]
  },
  {
   "cell_type": "code",
   "execution_count": 344,
   "id": "26eee681",
   "metadata": {},
   "outputs": [
    {
     "data": {
      "text/html": [
       "<table class=\"dataframe\">\n",
       "<caption>A data.frame: 1 × 1</caption>\n",
       "<thead>\n",
       "\t<tr><th scope=col>Green_cars_total</th></tr>\n",
       "\t<tr><th scope=col>&lt;int&gt;</th></tr>\n",
       "</thead>\n",
       "<tbody>\n",
       "\t<tr><td>100269</td></tr>\n",
       "</tbody>\n",
       "</table>\n"
      ],
      "text/latex": [
       "A data.frame: 1 × 1\n",
       "\\begin{tabular}{l}\n",
       " Green\\_cars\\_total\\\\\n",
       " <int>\\\\\n",
       "\\hline\n",
       "\t 100269\\\\\n",
       "\\end{tabular}\n"
      ],
      "text/markdown": [
       "\n",
       "A data.frame: 1 × 1\n",
       "\n",
       "| Green_cars_total &lt;int&gt; |\n",
       "|---|\n",
       "| 100269 |\n",
       "\n"
      ],
      "text/plain": [
       "  Green_cars_total\n",
       "1 100269          "
      ]
     },
     "metadata": {},
     "output_type": "display_data"
    }
   ],
   "source": [
    "summarise(Green_cars,Green_cars_total=n())"
   ]
  },
  {
   "cell_type": "markdown",
   "id": "39947a4d",
   "metadata": {},
   "source": [
    "# The total of cars on the original data set is 100,269"
   ]
  },
  {
   "cell_type": "code",
   "execution_count": 345,
   "id": "30a69328",
   "metadata": {},
   "outputs": [
    {
     "data": {
      "text/html": [
       "<table class=\"dataframe\">\n",
       "<caption>A data.frame: 1 × 1</caption>\n",
       "<thead>\n",
       "\t<tr><th scope=col>Green_cars1_total</th></tr>\n",
       "\t<tr><th scope=col>&lt;int&gt;</th></tr>\n",
       "</thead>\n",
       "<tbody>\n",
       "\t<tr><td>73435</td></tr>\n",
       "</tbody>\n",
       "</table>\n"
      ],
      "text/latex": [
       "A data.frame: 1 × 1\n",
       "\\begin{tabular}{l}\n",
       " Green\\_cars1\\_total\\\\\n",
       " <int>\\\\\n",
       "\\hline\n",
       "\t 73435\\\\\n",
       "\\end{tabular}\n"
      ],
      "text/markdown": [
       "\n",
       "A data.frame: 1 × 1\n",
       "\n",
       "| Green_cars1_total &lt;int&gt; |\n",
       "|---|\n",
       "| 73435 |\n",
       "\n"
      ],
      "text/plain": [
       "  Green_cars1_total\n",
       "1 73435            "
      ]
     },
     "metadata": {},
     "output_type": "display_data"
    }
   ],
   "source": [
    "summarise(Green_cars1,Green_cars1_total=n())"
   ]
  },
  {
   "cell_type": "markdown",
   "id": "1ab1a68a",
   "metadata": {},
   "source": [
    "# the total of cars on the reviewed data set is 73,435"
   ]
  },
  {
   "cell_type": "code",
   "execution_count": 346,
   "id": "e62473b9",
   "metadata": {},
   "outputs": [],
   "source": [
    "Green_cars7=Green_cars1 %>% group_by(Model.Year) %>% summarize(Car_count = n())"
   ]
  },
  {
   "cell_type": "code",
   "execution_count": 347,
   "id": "664dd053",
   "metadata": {},
   "outputs": [
    {
     "data": {
      "text/html": [
       "<table class=\"dataframe\">\n",
       "<caption>A tibble: 19 × 2</caption>\n",
       "<thead>\n",
       "\t<tr><th scope=col>Model.Year</th><th scope=col>Car_count</th></tr>\n",
       "\t<tr><th scope=col>&lt;int&gt;</th><th scope=col>&lt;int&gt;</th></tr>\n",
       "</thead>\n",
       "<tbody>\n",
       "\t<tr><td>1993</td><td>    1</td></tr>\n",
       "\t<tr><td>1998</td><td>    1</td></tr>\n",
       "\t<tr><td>1999</td><td>    3</td></tr>\n",
       "\t<tr><td>2000</td><td>   10</td></tr>\n",
       "\t<tr><td>2002</td><td>    2</td></tr>\n",
       "\t<tr><td>2008</td><td>   24</td></tr>\n",
       "\t<tr><td>2010</td><td>   25</td></tr>\n",
       "\t<tr><td>2011</td><td>  856</td></tr>\n",
       "\t<tr><td>2012</td><td> 1721</td></tr>\n",
       "\t<tr><td>2013</td><td> 4804</td></tr>\n",
       "\t<tr><td>2014</td><td> 3771</td></tr>\n",
       "\t<tr><td>2015</td><td> 5032</td></tr>\n",
       "\t<tr><td>2016</td><td> 6376</td></tr>\n",
       "\t<tr><td>2017</td><td> 8690</td></tr>\n",
       "\t<tr><td>2018</td><td>14270</td></tr>\n",
       "\t<tr><td>2019</td><td>10747</td></tr>\n",
       "\t<tr><td>2020</td><td>11126</td></tr>\n",
       "\t<tr><td>2021</td><td> 3935</td></tr>\n",
       "\t<tr><td>2022</td><td> 2041</td></tr>\n",
       "</tbody>\n",
       "</table>\n"
      ],
      "text/latex": [
       "A tibble: 19 × 2\n",
       "\\begin{tabular}{ll}\n",
       " Model.Year & Car\\_count\\\\\n",
       " <int> & <int>\\\\\n",
       "\\hline\n",
       "\t 1993 &     1\\\\\n",
       "\t 1998 &     1\\\\\n",
       "\t 1999 &     3\\\\\n",
       "\t 2000 &    10\\\\\n",
       "\t 2002 &     2\\\\\n",
       "\t 2008 &    24\\\\\n",
       "\t 2010 &    25\\\\\n",
       "\t 2011 &   856\\\\\n",
       "\t 2012 &  1721\\\\\n",
       "\t 2013 &  4804\\\\\n",
       "\t 2014 &  3771\\\\\n",
       "\t 2015 &  5032\\\\\n",
       "\t 2016 &  6376\\\\\n",
       "\t 2017 &  8690\\\\\n",
       "\t 2018 & 14270\\\\\n",
       "\t 2019 & 10747\\\\\n",
       "\t 2020 & 11126\\\\\n",
       "\t 2021 &  3935\\\\\n",
       "\t 2022 &  2041\\\\\n",
       "\\end{tabular}\n"
      ],
      "text/markdown": [
       "\n",
       "A tibble: 19 × 2\n",
       "\n",
       "| Model.Year &lt;int&gt; | Car_count &lt;int&gt; |\n",
       "|---|---|\n",
       "| 1993 |     1 |\n",
       "| 1998 |     1 |\n",
       "| 1999 |     3 |\n",
       "| 2000 |    10 |\n",
       "| 2002 |     2 |\n",
       "| 2008 |    24 |\n",
       "| 2010 |    25 |\n",
       "| 2011 |   856 |\n",
       "| 2012 |  1721 |\n",
       "| 2013 |  4804 |\n",
       "| 2014 |  3771 |\n",
       "| 2015 |  5032 |\n",
       "| 2016 |  6376 |\n",
       "| 2017 |  8690 |\n",
       "| 2018 | 14270 |\n",
       "| 2019 | 10747 |\n",
       "| 2020 | 11126 |\n",
       "| 2021 |  3935 |\n",
       "| 2022 |  2041 |\n",
       "\n"
      ],
      "text/plain": [
       "   Model.Year Car_count\n",
       "1  1993           1    \n",
       "2  1998           1    \n",
       "3  1999           3    \n",
       "4  2000          10    \n",
       "5  2002           2    \n",
       "6  2008          24    \n",
       "7  2010          25    \n",
       "8  2011         856    \n",
       "9  2012        1721    \n",
       "10 2013        4804    \n",
       "11 2014        3771    \n",
       "12 2015        5032    \n",
       "13 2016        6376    \n",
       "14 2017        8690    \n",
       "15 2018       14270    \n",
       "16 2019       10747    \n",
       "17 2020       11126    \n",
       "18 2021        3935    \n",
       "19 2022        2041    "
      ]
     },
     "metadata": {},
     "output_type": "display_data"
    }
   ],
   "source": [
    "Green_cars7"
   ]
  },
  {
   "cell_type": "code",
   "execution_count": 348,
   "id": "b08d5e24",
   "metadata": {},
   "outputs": [],
   "source": [
    "Green_cars3$Clean_version=Green_cars7$Car_count"
   ]
  },
  {
   "cell_type": "code",
   "execution_count": 349,
   "id": "50bc5b01",
   "metadata": {},
   "outputs": [
    {
     "data": {
      "text/html": [
       "<table class=\"dataframe\">\n",
       "<caption>A tibble: 19 × 3</caption>\n",
       "<thead>\n",
       "\t<tr><th scope=col>Model.Year</th><th scope=col>Car_count</th><th scope=col>Clean_version</th></tr>\n",
       "\t<tr><th scope=col>&lt;int&gt;</th><th scope=col>&lt;int&gt;</th><th scope=col>&lt;int&gt;</th></tr>\n",
       "</thead>\n",
       "<tbody>\n",
       "\t<tr><td>1993</td><td>    1</td><td>    1</td></tr>\n",
       "\t<tr><td>1998</td><td>    1</td><td>    1</td></tr>\n",
       "\t<tr><td>1999</td><td>    3</td><td>    3</td></tr>\n",
       "\t<tr><td>2000</td><td>   10</td><td>   10</td></tr>\n",
       "\t<tr><td>2002</td><td>    2</td><td>    2</td></tr>\n",
       "\t<tr><td>2008</td><td>   24</td><td>   24</td></tr>\n",
       "\t<tr><td>2010</td><td>   25</td><td>   25</td></tr>\n",
       "\t<tr><td>2011</td><td>  856</td><td>  856</td></tr>\n",
       "\t<tr><td>2012</td><td> 1721</td><td> 1721</td></tr>\n",
       "\t<tr><td>2013</td><td> 4804</td><td> 4804</td></tr>\n",
       "\t<tr><td>2014</td><td> 3771</td><td> 3771</td></tr>\n",
       "\t<tr><td>2015</td><td> 5032</td><td> 5032</td></tr>\n",
       "\t<tr><td>2016</td><td> 6376</td><td> 6376</td></tr>\n",
       "\t<tr><td>2017</td><td> 9787</td><td> 8690</td></tr>\n",
       "\t<tr><td>2018</td><td>14270</td><td>14270</td></tr>\n",
       "\t<tr><td>2019</td><td>10751</td><td>10747</td></tr>\n",
       "\t<tr><td>2020</td><td>11178</td><td>11126</td></tr>\n",
       "\t<tr><td>2021</td><td>19677</td><td> 3935</td></tr>\n",
       "\t<tr><td>2022</td><td>11980</td><td> 2041</td></tr>\n",
       "</tbody>\n",
       "</table>\n"
      ],
      "text/latex": [
       "A tibble: 19 × 3\n",
       "\\begin{tabular}{lll}\n",
       " Model.Year & Car\\_count & Clean\\_version\\\\\n",
       " <int> & <int> & <int>\\\\\n",
       "\\hline\n",
       "\t 1993 &     1 &     1\\\\\n",
       "\t 1998 &     1 &     1\\\\\n",
       "\t 1999 &     3 &     3\\\\\n",
       "\t 2000 &    10 &    10\\\\\n",
       "\t 2002 &     2 &     2\\\\\n",
       "\t 2008 &    24 &    24\\\\\n",
       "\t 2010 &    25 &    25\\\\\n",
       "\t 2011 &   856 &   856\\\\\n",
       "\t 2012 &  1721 &  1721\\\\\n",
       "\t 2013 &  4804 &  4804\\\\\n",
       "\t 2014 &  3771 &  3771\\\\\n",
       "\t 2015 &  5032 &  5032\\\\\n",
       "\t 2016 &  6376 &  6376\\\\\n",
       "\t 2017 &  9787 &  8690\\\\\n",
       "\t 2018 & 14270 & 14270\\\\\n",
       "\t 2019 & 10751 & 10747\\\\\n",
       "\t 2020 & 11178 & 11126\\\\\n",
       "\t 2021 & 19677 &  3935\\\\\n",
       "\t 2022 & 11980 &  2041\\\\\n",
       "\\end{tabular}\n"
      ],
      "text/markdown": [
       "\n",
       "A tibble: 19 × 3\n",
       "\n",
       "| Model.Year &lt;int&gt; | Car_count &lt;int&gt; | Clean_version &lt;int&gt; |\n",
       "|---|---|---|\n",
       "| 1993 |     1 |     1 |\n",
       "| 1998 |     1 |     1 |\n",
       "| 1999 |     3 |     3 |\n",
       "| 2000 |    10 |    10 |\n",
       "| 2002 |     2 |     2 |\n",
       "| 2008 |    24 |    24 |\n",
       "| 2010 |    25 |    25 |\n",
       "| 2011 |   856 |   856 |\n",
       "| 2012 |  1721 |  1721 |\n",
       "| 2013 |  4804 |  4804 |\n",
       "| 2014 |  3771 |  3771 |\n",
       "| 2015 |  5032 |  5032 |\n",
       "| 2016 |  6376 |  6376 |\n",
       "| 2017 |  9787 |  8690 |\n",
       "| 2018 | 14270 | 14270 |\n",
       "| 2019 | 10751 | 10747 |\n",
       "| 2020 | 11178 | 11126 |\n",
       "| 2021 | 19677 |  3935 |\n",
       "| 2022 | 11980 |  2041 |\n",
       "\n"
      ],
      "text/plain": [
       "   Model.Year Car_count Clean_version\n",
       "1  1993           1         1        \n",
       "2  1998           1         1        \n",
       "3  1999           3         3        \n",
       "4  2000          10        10        \n",
       "5  2002           2         2        \n",
       "6  2008          24        24        \n",
       "7  2010          25        25        \n",
       "8  2011         856       856        \n",
       "9  2012        1721      1721        \n",
       "10 2013        4804      4804        \n",
       "11 2014        3771      3771        \n",
       "12 2015        5032      5032        \n",
       "13 2016        6376      6376        \n",
       "14 2017        9787      8690        \n",
       "15 2018       14270     14270        \n",
       "16 2019       10751     10747        \n",
       "17 2020       11178     11126        \n",
       "18 2021       19677      3935        \n",
       "19 2022       11980      2041        "
      ]
     },
     "metadata": {},
     "output_type": "display_data"
    }
   ],
   "source": [
    "Green_cars3"
   ]
  },
  {
   "cell_type": "markdown",
   "id": "45cc33cf",
   "metadata": {},
   "source": [
    "# There is a 26,834 difference between the total count of cars and the total count of cars tha have information on electric range. This difference affects the tear count disproportionately being years 2021 and 2022 the most affected in count. Nevertheless, those values needed to be dropped in order to get an accurate average on electric range "
   ]
  },
  {
   "cell_type": "code",
   "execution_count": 354,
   "id": "764e6690",
   "metadata": {},
   "outputs": [],
   "source": [
    "Green_cars8=Green_cars %>% group_by(Make) %>% summarise(Car_count= n())"
   ]
  },
  {
   "cell_type": "code",
   "execution_count": 356,
   "id": "0a43d9a8",
   "metadata": {},
   "outputs": [
    {
     "data": {
      "text/html": [
       "<table class=\"dataframe\">\n",
       "<caption>A tibble: 34 × 2</caption>\n",
       "<thead>\n",
       "\t<tr><th scope=col>Make</th><th scope=col>Car_count</th></tr>\n",
       "\t<tr><th scope=col>&lt;chr&gt;</th><th scope=col>&lt;int&gt;</th></tr>\n",
       "</thead>\n",
       "<tbody>\n",
       "\t<tr><td>AUDI                </td><td> 2009</td></tr>\n",
       "\t<tr><td>AZURE DYNAMICS      </td><td>    7</td></tr>\n",
       "\t<tr><td>BENTLEY             </td><td>    2</td></tr>\n",
       "\t<tr><td>BMW                 </td><td> 4187</td></tr>\n",
       "\t<tr><td>CADILLAC            </td><td>  109</td></tr>\n",
       "\t<tr><td>CHEVROLET           </td><td> 9499</td></tr>\n",
       "\t<tr><td>CHRYSLER            </td><td> 1675</td></tr>\n",
       "\t<tr><td>DODGE               </td><td>    1</td></tr>\n",
       "\t<tr><td>FIAT                </td><td>  826</td></tr>\n",
       "\t<tr><td>FISKER              </td><td>   13</td></tr>\n",
       "\t<tr><td>FORD                </td><td> 5966</td></tr>\n",
       "\t<tr><td>HONDA               </td><td>  774</td></tr>\n",
       "\t<tr><td>HYUNDAI             </td><td> 1485</td></tr>\n",
       "\t<tr><td>JAGUAR              </td><td>  205</td></tr>\n",
       "\t<tr><td>JEEP                </td><td>  739</td></tr>\n",
       "\t<tr><td>KIA                 </td><td> 4990</td></tr>\n",
       "\t<tr><td>LAND ROVER          </td><td>   38</td></tr>\n",
       "\t<tr><td>LINCOLN             </td><td>  105</td></tr>\n",
       "\t<tr><td>LUCID MOTORS        </td><td>   23</td></tr>\n",
       "\t<tr><td>MERCEDES-BENZ       </td><td>  369</td></tr>\n",
       "\t<tr><td>MINI                </td><td>  493</td></tr>\n",
       "\t<tr><td>MITSUBISHI          </td><td>  587</td></tr>\n",
       "\t<tr><td>NISSAN              </td><td>12791</td></tr>\n",
       "\t<tr><td>POLESTAR            </td><td>  365</td></tr>\n",
       "\t<tr><td>PORSCHE             </td><td>  722</td></tr>\n",
       "\t<tr><td>RIVIAN              </td><td>   83</td></tr>\n",
       "\t<tr><td>SMART               </td><td>  274</td></tr>\n",
       "\t<tr><td>SUBARU              </td><td>   53</td></tr>\n",
       "\t<tr><td>TESLA               </td><td>43681</td></tr>\n",
       "\t<tr><td>TH!NK               </td><td>    3</td></tr>\n",
       "\t<tr><td>TOYOTA              </td><td> 4057</td></tr>\n",
       "\t<tr><td>VOLKSWAGEN          </td><td> 2020</td></tr>\n",
       "\t<tr><td>VOLVO               </td><td> 2115</td></tr>\n",
       "\t<tr><td>WHEEGO ELECTRIC CARS</td><td>    3</td></tr>\n",
       "</tbody>\n",
       "</table>\n"
      ],
      "text/latex": [
       "A tibble: 34 × 2\n",
       "\\begin{tabular}{ll}\n",
       " Make & Car\\_count\\\\\n",
       " <chr> & <int>\\\\\n",
       "\\hline\n",
       "\t AUDI                 &  2009\\\\\n",
       "\t AZURE DYNAMICS       &     7\\\\\n",
       "\t BENTLEY              &     2\\\\\n",
       "\t BMW                  &  4187\\\\\n",
       "\t CADILLAC             &   109\\\\\n",
       "\t CHEVROLET            &  9499\\\\\n",
       "\t CHRYSLER             &  1675\\\\\n",
       "\t DODGE                &     1\\\\\n",
       "\t FIAT                 &   826\\\\\n",
       "\t FISKER               &    13\\\\\n",
       "\t FORD                 &  5966\\\\\n",
       "\t HONDA                &   774\\\\\n",
       "\t HYUNDAI              &  1485\\\\\n",
       "\t JAGUAR               &   205\\\\\n",
       "\t JEEP                 &   739\\\\\n",
       "\t KIA                  &  4990\\\\\n",
       "\t LAND ROVER           &    38\\\\\n",
       "\t LINCOLN              &   105\\\\\n",
       "\t LUCID MOTORS         &    23\\\\\n",
       "\t MERCEDES-BENZ        &   369\\\\\n",
       "\t MINI                 &   493\\\\\n",
       "\t MITSUBISHI           &   587\\\\\n",
       "\t NISSAN               & 12791\\\\\n",
       "\t POLESTAR             &   365\\\\\n",
       "\t PORSCHE              &   722\\\\\n",
       "\t RIVIAN               &    83\\\\\n",
       "\t SMART                &   274\\\\\n",
       "\t SUBARU               &    53\\\\\n",
       "\t TESLA                & 43681\\\\\n",
       "\t TH!NK                &     3\\\\\n",
       "\t TOYOTA               &  4057\\\\\n",
       "\t VOLKSWAGEN           &  2020\\\\\n",
       "\t VOLVO                &  2115\\\\\n",
       "\t WHEEGO ELECTRIC CARS &     3\\\\\n",
       "\\end{tabular}\n"
      ],
      "text/markdown": [
       "\n",
       "A tibble: 34 × 2\n",
       "\n",
       "| Make &lt;chr&gt; | Car_count &lt;int&gt; |\n",
       "|---|---|\n",
       "| AUDI                 |  2009 |\n",
       "| AZURE DYNAMICS       |     7 |\n",
       "| BENTLEY              |     2 |\n",
       "| BMW                  |  4187 |\n",
       "| CADILLAC             |   109 |\n",
       "| CHEVROLET            |  9499 |\n",
       "| CHRYSLER             |  1675 |\n",
       "| DODGE                |     1 |\n",
       "| FIAT                 |   826 |\n",
       "| FISKER               |    13 |\n",
       "| FORD                 |  5966 |\n",
       "| HONDA                |   774 |\n",
       "| HYUNDAI              |  1485 |\n",
       "| JAGUAR               |   205 |\n",
       "| JEEP                 |   739 |\n",
       "| KIA                  |  4990 |\n",
       "| LAND ROVER           |    38 |\n",
       "| LINCOLN              |   105 |\n",
       "| LUCID MOTORS         |    23 |\n",
       "| MERCEDES-BENZ        |   369 |\n",
       "| MINI                 |   493 |\n",
       "| MITSUBISHI           |   587 |\n",
       "| NISSAN               | 12791 |\n",
       "| POLESTAR             |   365 |\n",
       "| PORSCHE              |   722 |\n",
       "| RIVIAN               |    83 |\n",
       "| SMART                |   274 |\n",
       "| SUBARU               |    53 |\n",
       "| TESLA                | 43681 |\n",
       "| TH!NK                |     3 |\n",
       "| TOYOTA               |  4057 |\n",
       "| VOLKSWAGEN           |  2020 |\n",
       "| VOLVO                |  2115 |\n",
       "| WHEEGO ELECTRIC CARS |     3 |\n",
       "\n"
      ],
      "text/plain": [
       "   Make                 Car_count\n",
       "1  AUDI                  2009    \n",
       "2  AZURE DYNAMICS           7    \n",
       "3  BENTLEY                  2    \n",
       "4  BMW                   4187    \n",
       "5  CADILLAC               109    \n",
       "6  CHEVROLET             9499    \n",
       "7  CHRYSLER              1675    \n",
       "8  DODGE                    1    \n",
       "9  FIAT                   826    \n",
       "10 FISKER                  13    \n",
       "11 FORD                  5966    \n",
       "12 HONDA                  774    \n",
       "13 HYUNDAI               1485    \n",
       "14 JAGUAR                 205    \n",
       "15 JEEP                   739    \n",
       "16 KIA                   4990    \n",
       "17 LAND ROVER              38    \n",
       "18 LINCOLN                105    \n",
       "19 LUCID MOTORS            23    \n",
       "20 MERCEDES-BENZ          369    \n",
       "21 MINI                   493    \n",
       "22 MITSUBISHI             587    \n",
       "23 NISSAN               12791    \n",
       "24 POLESTAR               365    \n",
       "25 PORSCHE                722    \n",
       "26 RIVIAN                  83    \n",
       "27 SMART                  274    \n",
       "28 SUBARU                  53    \n",
       "29 TESLA                43681    \n",
       "30 TH!NK                    3    \n",
       "31 TOYOTA                4057    \n",
       "32 VOLKSWAGEN            2020    \n",
       "33 VOLVO                 2115    \n",
       "34 WHEEGO ELECTRIC CARS     3    "
      ]
     },
     "metadata": {},
     "output_type": "display_data"
    }
   ],
   "source": [
    "Green_cars8"
   ]
  },
  {
   "cell_type": "markdown",
   "id": "d44ef6aa",
   "metadata": {},
   "source": [
    "# There are also two brands that has no electric range informaton : Lucid Motors and Rivian and they account for 106 units."
   ]
  },
  {
   "cell_type": "code",
   "execution_count": 403,
   "id": "cd871a56",
   "metadata": {},
   "outputs": [
    {
     "data": {
      "image/png": "[encoded data removed]",
      "text/plain": [
       "plot without title"
      ]
     },
     "metadata": {
      "image/png": {
       "height": 420,
       "width": 420
      }
     },
     "output_type": "display_data"
    }
   ],
   "source": [
    " ggplot(Green_cars5, aes(x = \"\", y =Average_Electic_Range ))+geom_boxplot()"
   ]
  },
  {
   "cell_type": "code",
   "execution_count": 404,
   "id": "15361417",
   "metadata": {},
   "outputs": [
    {
     "data": {
      "text/plain": [
       "   Min. 1st Qu.  Median    Mean 3rd Qu.    Max. \n",
       "  17.00   26.43   54.92   73.83  100.00  240.18 "
      ]
     },
     "metadata": {},
     "output_type": "display_data"
    }
   ],
   "source": [
    "summary(Green_cars5$Average_Electic_Range)"
   ]
  },
  {
   "cell_type": "markdown",
   "id": "82266220",
   "metadata": {},
   "source": [
    "# According to the data the average electric range for green cars is arround 74."
   ]
  },
  {
   "cell_type": "code",
   "execution_count": null,
   "id": "2de2d0e2",
   "metadata": {},
   "outputs": [],
   "source": []
  }
 ],
 "metadata": {
  "kernelspec": {
   "display_name": "R",
   "language": "R",
   "name": "ir"
  },
  "language_info": {
   "codemirror_mode": "r",
   "file_extension": ".r",
   "mimetype": "text/x-r-source",
   "name": "R",
   "pygments_lexer": "r",
   "version": "4.1.2"
  }
 },
 "nbformat": 4,
 "nbformat_minor": 5
}
